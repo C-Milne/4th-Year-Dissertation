{
 "cells": [
  {
   "cell_type": "code",
   "execution_count": 1,
   "metadata": {
    "collapsed": true,
    "pycharm": {
     "name": "#%%\n"
    }
   },
   "outputs": [],
   "source": [
    "import os\n",
    "import sys\n",
    "import time\n",
    "import pickle"
   ]
  },
  {
   "cell_type": "code",
   "execution_count": 2,
   "outputs": [],
   "source": [
    "working_dir = os.getcwd()"
   ],
   "metadata": {
    "collapsed": false,
    "pycharm": {
     "name": "#%%\n"
    }
   }
  },
  {
   "cell_type": "code",
   "execution_count": 3,
   "outputs": [],
   "source": [
    "os.chdir(working_dir)"
   ],
   "metadata": {
    "collapsed": false,
    "pycharm": {
     "name": "#%%\n"
    }
   }
  },
  {
   "cell_type": "code",
   "execution_count": 4,
   "outputs": [],
   "source": [
    "working_dir = os.getcwd()\n",
    "os.chdir(\"../../..\")\n",
    "sys.path.append(os.getcwd())"
   ],
   "metadata": {
    "collapsed": false,
    "pycharm": {
     "name": "#%%\n"
    }
   }
  },
  {
   "cell_type": "code",
   "execution_count": 5,
   "outputs": [],
   "source": [
    "from Solver.Heuristics.breadth_first_by_operations_with_pruning import BreadthFirstOperationsPruning\n",
    "from Solver.Heuristics.breadth_first_by_operations import BreadthFirstOperations\n",
    "from runner import Runner\n",
    "os.chdir(working_dir)"
   ],
   "metadata": {
    "collapsed": false,
    "pycharm": {
     "name": "#%%\n"
    }
   }
  },
  {
   "cell_type": "markdown",
   "source": [
    "## Methods for operation"
   ],
   "metadata": {
    "collapsed": false,
    "pycharm": {
     "name": "#%% md\n"
    }
   }
  },
  {
   "cell_type": "code",
   "execution_count": 6,
   "outputs": [],
   "source": [
    "class Strat:\n",
    "    def __init__(self, name, class_reference):\n",
    "        self.name = name\n",
    "        self.class_reference = class_reference\n",
    "        self.file = None"
   ],
   "metadata": {
    "collapsed": false,
    "pycharm": {
     "name": "#%%\n"
    }
   }
  },
  {
   "cell_type": "code",
   "execution_count": 7,
   "outputs": [],
   "source": [
    "def create_file(strat):\n",
    "    # Check which files are already made\n",
    "    # Do not overwrite any existing files\n",
    "    file_name = strat.name\n",
    "    counter = 0\n",
    "    while os.path.exists(file_name):\n",
    "        counter += 1\n",
    "        file_name = strat.name + str(counter)\n",
    "\n",
    "    # Create file\n",
    "    strat.file = open(file_name + \".csv\", \"w\")\n",
    "    strat.file.write(\"time_taken, serialised_actions_taken, serialised_state\")"
   ],
   "metadata": {
    "collapsed": false,
    "pycharm": {
     "name": "#%%\n"
    }
   }
  },
  {
   "cell_type": "code",
   "execution_count": 8,
   "outputs": [],
   "source": [
    "def save_to_file(strat, time, result):\n",
    "    print(\"Writing: {}\".format(time))\n",
    "    strat.file.write(\"\\n\" + str(time) + \",\" + str(pickle.dumps(result.actions_taken)) + \",\" + str(pickle.dumps(result.current_state)))"
   ],
   "metadata": {
    "collapsed": false,
    "pycharm": {
     "name": "#%%\n"
    }
   }
  },
  {
   "cell_type": "code",
   "execution_count": 9,
   "outputs": [],
   "source": [
    "def test_runner(test, heuristic):\n",
    "    controller = Runner(test[0], test[1])\n",
    "    controller.parse_domain()\n",
    "    controller.parse_problem()\n",
    "    controller.set_heuristic(heuristic.class_reference)\n",
    "\n",
    "    start_time = time.time()\n",
    "    res = controller.solve()\n",
    "    end_time = time.time()\n",
    "\n",
    "    timeTaken = end_time - start_time\n",
    "\n",
    "    save_to_file(heuristic, timeTaken, res)"
   ],
   "metadata": {
    "collapsed": false,
    "pycharm": {
     "name": "#%%\n"
    }
   }
  },
  {
   "cell_type": "code",
   "execution_count": 10,
   "outputs": [],
   "source": [
    "def run_tests(tests, strats):\n",
    "    # Create log csv for each strategy being assessed\n",
    "    for s in strats:\n",
    "        create_file(s)\n",
    "    for t in tests:\n",
    "        for s in strats:\n",
    "            test_runner(t, s)\n",
    "    for s in strats:\n",
    "        s.file.close()"
   ],
   "metadata": {
    "collapsed": false,
    "pycharm": {
     "name": "#%%\n"
    }
   }
  },
  {
   "cell_type": "markdown",
   "source": [
    "# Test Rover p01 with breadth first search with and without pruning"
   ],
   "metadata": {
    "collapsed": false,
    "pycharm": {
     "name": "#%% md\n"
    }
   }
  },
  {
   "cell_type": "code",
   "execution_count": 11,
   "outputs": [
    {
     "name": "stdout",
     "output_type": "stream",
     "text": [
      "Subtask: 0 - get_soil_data['waypoint0']\n",
      "Subtask: 1 - get_rock_data['waypoint0']\n",
      "Subtask: 2 - get_image_data['objective1', 'low_res']\n",
      "Writing: 0.7831850051879883\n",
      "Subtask: 0 - get_soil_data['waypoint0']\n",
      "Subtask: 1 - get_rock_data['waypoint0']\n",
      "Subtask: 2 - get_image_data['objective1', 'low_res']\n",
      "Writing: 0.06795191764831543\n",
      "Subtask: 0 - get_soil_data['waypoint2']\n",
      "Subtask: 1 - get_rock_data['waypoint3']\n",
      "Subtask: 2 - get_image_data['objective1', 'high_res']\n",
      "Writing: 1.3451530933380127\n",
      "Subtask: 0 - get_soil_data['waypoint2']\n",
      "Subtask: 1 - get_rock_data['waypoint3']\n",
      "Subtask: 2 - get_image_data['objective1', 'high_res']\n",
      "Writing: 0.09374403953552246\n",
      "Subtask: 0 - get_soil_data['waypoint3']\n",
      "Subtask: 1 - get_rock_data['waypoint1']\n",
      "Subtask: 2 - get_image_data['objective0', 'high_res']\n",
      "Writing: 1.1765131950378418\n",
      "Subtask: 0 - get_soil_data['waypoint3']\n",
      "Subtask: 1 - get_rock_data['waypoint1']\n",
      "Subtask: 2 - get_image_data['objective0', 'high_res']\n",
      "Writing: 0.11408019065856934\n",
      "Subtask: 0 - get_soil_data['waypoint1']\n",
      "Subtask: 1 - get_soil_data['waypoint2']\n",
      "Subtask: 2 - get_rock_data['waypoint0']\n",
      "Subtask: 3 - get_rock_data['waypoint1']\n",
      "Subtask: 4 - get_image_data['objective0', 'high_res']\n",
      "Subtask: 5 - get_image_data['objective2', 'high_res']\n",
      "Subtask: 6 - get_image_data['objective0', 'colour']\n"
     ]
    },
    {
     "ename": "KeyboardInterrupt",
     "evalue": "",
     "output_type": "error",
     "traceback": [
      "\u001B[1;31m---------------------------------------------------------------------------\u001B[0m",
      "\u001B[1;31mKeyboardInterrupt\u001B[0m                         Traceback (most recent call last)",
      "\u001B[1;32m<ipython-input-11-d77bc2120ffe>\u001B[0m in \u001B[0;36m<module>\u001B[1;34m\u001B[0m\n\u001B[0;32m      1\u001B[0m \u001B[0mtests\u001B[0m \u001B[1;33m=\u001B[0m \u001B[1;33m[\u001B[0m\u001B[1;33m(\u001B[0m\u001B[1;34m\"../../Examples/Rover/domain.hddl\"\u001B[0m\u001B[1;33m,\u001B[0m \u001B[1;34m\"../../Examples/Rover/p01.hddl\"\u001B[0m\u001B[1;33m)\u001B[0m\u001B[1;33m,\u001B[0m \u001B[1;33m(\u001B[0m\u001B[1;34m\"../../Examples/Rover/domain.hddl\"\u001B[0m\u001B[1;33m,\u001B[0m \u001B[1;34m\"../../Examples/Rover/p02.hddl\"\u001B[0m\u001B[1;33m)\u001B[0m\u001B[1;33m,\u001B[0m \u001B[1;33m(\u001B[0m\u001B[1;34m\"../../Examples/Rover/domain.hddl\"\u001B[0m\u001B[1;33m,\u001B[0m \u001B[1;34m\"../../Examples/Rover/p03.hddl\"\u001B[0m\u001B[1;33m)\u001B[0m\u001B[1;33m,\u001B[0m \u001B[1;33m(\u001B[0m\u001B[1;34m\"../../Examples/Rover/domain.hddl\"\u001B[0m\u001B[1;33m,\u001B[0m \u001B[1;34m\"../../Examples/Rover/p04.hddl\"\u001B[0m\u001B[1;33m)\u001B[0m\u001B[1;33m,\u001B[0m \u001B[1;33m(\u001B[0m\u001B[1;34m\"../../Examples/Rover/domain.hddl\"\u001B[0m\u001B[1;33m,\u001B[0m \u001B[1;34m\"../../Examples/Rover/p05.hddl\"\u001B[0m\u001B[1;33m)\u001B[0m\u001B[1;33m]\u001B[0m\u001B[1;33m\u001B[0m\u001B[1;33m\u001B[0m\u001B[0m\n\u001B[0;32m      2\u001B[0m \u001B[0mstrats\u001B[0m \u001B[1;33m=\u001B[0m \u001B[1;33m[\u001B[0m\u001B[0mStrat\u001B[0m\u001B[1;33m(\u001B[0m\u001B[1;34m\"Breadth_First_Operations\"\u001B[0m\u001B[1;33m,\u001B[0m \u001B[0mBreadthFirstOperations\u001B[0m\u001B[1;33m)\u001B[0m\u001B[1;33m,\u001B[0m \u001B[0mStrat\u001B[0m\u001B[1;33m(\u001B[0m\u001B[1;34m\"Breadth_First_Operations_Pruning\"\u001B[0m\u001B[1;33m,\u001B[0m \u001B[0mBreadthFirstOperationsPruning\u001B[0m\u001B[1;33m)\u001B[0m\u001B[1;33m]\u001B[0m\u001B[1;33m\u001B[0m\u001B[1;33m\u001B[0m\u001B[0m\n\u001B[1;32m----> 3\u001B[1;33m \u001B[0mrun_tests\u001B[0m\u001B[1;33m(\u001B[0m\u001B[0mtests\u001B[0m\u001B[1;33m,\u001B[0m \u001B[0mstrats\u001B[0m\u001B[1;33m)\u001B[0m\u001B[1;33m\u001B[0m\u001B[1;33m\u001B[0m\u001B[0m\n\u001B[0m",
      "\u001B[1;32m<ipython-input-10-bf4243b2c6da>\u001B[0m in \u001B[0;36mrun_tests\u001B[1;34m(tests, strats)\u001B[0m\n\u001B[0;32m      5\u001B[0m     \u001B[1;32mfor\u001B[0m \u001B[0mt\u001B[0m \u001B[1;32min\u001B[0m \u001B[0mtests\u001B[0m\u001B[1;33m:\u001B[0m\u001B[1;33m\u001B[0m\u001B[1;33m\u001B[0m\u001B[0m\n\u001B[0;32m      6\u001B[0m         \u001B[1;32mfor\u001B[0m \u001B[0ms\u001B[0m \u001B[1;32min\u001B[0m \u001B[0mstrats\u001B[0m\u001B[1;33m:\u001B[0m\u001B[1;33m\u001B[0m\u001B[1;33m\u001B[0m\u001B[0m\n\u001B[1;32m----> 7\u001B[1;33m             \u001B[0mtest_runner\u001B[0m\u001B[1;33m(\u001B[0m\u001B[0mt\u001B[0m\u001B[1;33m,\u001B[0m \u001B[0ms\u001B[0m\u001B[1;33m)\u001B[0m\u001B[1;33m\u001B[0m\u001B[1;33m\u001B[0m\u001B[0m\n\u001B[0m\u001B[0;32m      8\u001B[0m     \u001B[1;32mfor\u001B[0m \u001B[0ms\u001B[0m \u001B[1;32min\u001B[0m \u001B[0mstrats\u001B[0m\u001B[1;33m:\u001B[0m\u001B[1;33m\u001B[0m\u001B[1;33m\u001B[0m\u001B[0m\n\u001B[0;32m      9\u001B[0m         \u001B[0ms\u001B[0m\u001B[1;33m.\u001B[0m\u001B[0mfile\u001B[0m\u001B[1;33m.\u001B[0m\u001B[0mclose\u001B[0m\u001B[1;33m(\u001B[0m\u001B[1;33m)\u001B[0m\u001B[1;33m\u001B[0m\u001B[1;33m\u001B[0m\u001B[0m\n",
      "\u001B[1;32m<ipython-input-9-e21b63190fd8>\u001B[0m in \u001B[0;36mtest_runner\u001B[1;34m(test, heuristic)\u001B[0m\n\u001B[0;32m      6\u001B[0m \u001B[1;33m\u001B[0m\u001B[0m\n\u001B[0;32m      7\u001B[0m     \u001B[0mstart_time\u001B[0m \u001B[1;33m=\u001B[0m \u001B[0mtime\u001B[0m\u001B[1;33m.\u001B[0m\u001B[0mtime\u001B[0m\u001B[1;33m(\u001B[0m\u001B[1;33m)\u001B[0m\u001B[1;33m\u001B[0m\u001B[1;33m\u001B[0m\u001B[0m\n\u001B[1;32m----> 8\u001B[1;33m     \u001B[0mres\u001B[0m \u001B[1;33m=\u001B[0m \u001B[0mcontroller\u001B[0m\u001B[1;33m.\u001B[0m\u001B[0msolve\u001B[0m\u001B[1;33m(\u001B[0m\u001B[1;33m)\u001B[0m\u001B[1;33m\u001B[0m\u001B[1;33m\u001B[0m\u001B[0m\n\u001B[0m\u001B[0;32m      9\u001B[0m     \u001B[0mend_time\u001B[0m \u001B[1;33m=\u001B[0m \u001B[0mtime\u001B[0m\u001B[1;33m.\u001B[0m\u001B[0mtime\u001B[0m\u001B[1;33m(\u001B[0m\u001B[1;33m)\u001B[0m\u001B[1;33m\u001B[0m\u001B[1;33m\u001B[0m\u001B[0m\n\u001B[0;32m     10\u001B[0m \u001B[1;33m\u001B[0m\u001B[0m\n",
      "\u001B[1;32mF:\\Users\\Cael\\Documents\\University files\\4th Year\\Dissertation\\4th-Year-Dissertation\\runner.py\u001B[0m in \u001B[0;36msolve\u001B[1;34m(self)\u001B[0m\n\u001B[0;32m     44\u001B[0m \u001B[1;33m\u001B[0m\u001B[0m\n\u001B[0;32m     45\u001B[0m     \u001B[1;32mdef\u001B[0m \u001B[0msolve\u001B[0m\u001B[1;33m(\u001B[0m\u001B[0mself\u001B[0m\u001B[1;33m)\u001B[0m\u001B[1;33m:\u001B[0m\u001B[1;33m\u001B[0m\u001B[1;33m\u001B[0m\u001B[0m\n\u001B[1;32m---> 46\u001B[1;33m         \u001B[1;32mreturn\u001B[0m \u001B[0mself\u001B[0m\u001B[1;33m.\u001B[0m\u001B[0msolver\u001B[0m\u001B[1;33m.\u001B[0m\u001B[0msolve\u001B[0m\u001B[1;33m(\u001B[0m\u001B[1;33m)\u001B[0m\u001B[1;33m\u001B[0m\u001B[1;33m\u001B[0m\u001B[0m\n\u001B[0m\u001B[0;32m     47\u001B[0m \u001B[1;33m\u001B[0m\u001B[0m\n\u001B[0;32m     48\u001B[0m     \u001B[1;32mdef\u001B[0m \u001B[0moutput_result\u001B[0m\u001B[1;33m(\u001B[0m\u001B[0mself\u001B[0m\u001B[1;33m,\u001B[0m \u001B[0msearch_result\u001B[0m\u001B[1;33m)\u001B[0m\u001B[1;33m:\u001B[0m\u001B[1;33m\u001B[0m\u001B[1;33m\u001B[0m\u001B[0m\n",
      "\u001B[1;32mF:\\Users\\Cael\\Documents\\University files\\4th Year\\Dissertation\\4th-Year-Dissertation\\Solver\\solver.py\u001B[0m in \u001B[0;36msolve\u001B[1;34m(self)\u001B[0m\n\u001B[0;32m     71\u001B[0m         \u001B[0mself\u001B[0m\u001B[1;33m.\u001B[0m\u001B[0msearch_models\u001B[0m\u001B[1;33m.\u001B[0m\u001B[0madd\u001B[0m\u001B[1;33m(\u001B[0m\u001B[0minitial_model\u001B[0m\u001B[1;33m)\u001B[0m\u001B[1;33m\u001B[0m\u001B[1;33m\u001B[0m\u001B[0m\n\u001B[0;32m     72\u001B[0m \u001B[1;33m\u001B[0m\u001B[0m\n\u001B[1;32m---> 73\u001B[1;33m         \u001B[1;32mreturn\u001B[0m \u001B[0mself\u001B[0m\u001B[1;33m.\u001B[0m\u001B[0m__search\u001B[0m\u001B[1;33m(\u001B[0m\u001B[1;33m)\u001B[0m\u001B[1;33m\u001B[0m\u001B[1;33m\u001B[0m\u001B[0m\n\u001B[0m\u001B[0;32m     74\u001B[0m \u001B[1;33m\u001B[0m\u001B[0m\n\u001B[0;32m     75\u001B[0m     \u001B[1;32mdef\u001B[0m \u001B[0m__search\u001B[0m\u001B[1;33m(\u001B[0m\u001B[0mself\u001B[0m\u001B[1;33m,\u001B[0m \u001B[0mstep_control\u001B[0m\u001B[1;33m=\u001B[0m\u001B[1;32mFalse\u001B[0m\u001B[1;33m)\u001B[0m\u001B[1;33m:\u001B[0m\u001B[1;33m\u001B[0m\u001B[1;33m\u001B[0m\u001B[0m\n",
      "\u001B[1;32mF:\\Users\\Cael\\Documents\\University files\\4th Year\\Dissertation\\4th-Year-Dissertation\\Solver\\solver.py\u001B[0m in \u001B[0;36m__search\u001B[1;34m(self, step_control)\u001B[0m\n\u001B[0;32m     86\u001B[0m \u001B[1;33m\u001B[0m\u001B[0m\n\u001B[0;32m     87\u001B[0m             \u001B[1;32mif\u001B[0m \u001B[0mtype\u001B[0m\u001B[1;33m(\u001B[0m\u001B[0mnext_modifier\u001B[0m\u001B[1;33m.\u001B[0m\u001B[0mtask\u001B[0m\u001B[1;33m)\u001B[0m \u001B[1;33m==\u001B[0m \u001B[0mTask\u001B[0m\u001B[1;33m:\u001B[0m\u001B[1;33m\u001B[0m\u001B[1;33m\u001B[0m\u001B[0m\n\u001B[1;32m---> 88\u001B[1;33m                 \u001B[0mself\u001B[0m\u001B[1;33m.\u001B[0m\u001B[0m__expand_task\u001B[0m\u001B[1;33m(\u001B[0m\u001B[0mnext_modifier\u001B[0m\u001B[1;33m,\u001B[0m \u001B[0msearch_model\u001B[0m\u001B[1;33m)\u001B[0m\u001B[1;33m\u001B[0m\u001B[1;33m\u001B[0m\u001B[0m\n\u001B[0m\u001B[0;32m     89\u001B[0m             \u001B[1;32melif\u001B[0m \u001B[0mtype\u001B[0m\u001B[1;33m(\u001B[0m\u001B[0mnext_modifier\u001B[0m\u001B[1;33m.\u001B[0m\u001B[0mtask\u001B[0m\u001B[1;33m)\u001B[0m \u001B[1;33m==\u001B[0m \u001B[0mMethod\u001B[0m\u001B[1;33m:\u001B[0m\u001B[1;33m\u001B[0m\u001B[1;33m\u001B[0m\u001B[0m\n\u001B[0;32m     90\u001B[0m                 \u001B[0mself\u001B[0m\u001B[1;33m.\u001B[0m\u001B[0m__expand_method\u001B[0m\u001B[1;33m(\u001B[0m\u001B[0mnext_modifier\u001B[0m\u001B[1;33m,\u001B[0m \u001B[0msearch_model\u001B[0m\u001B[1;33m)\u001B[0m\u001B[1;33m\u001B[0m\u001B[1;33m\u001B[0m\u001B[0m\n",
      "\u001B[1;32mF:\\Users\\Cael\\Documents\\University files\\4th Year\\Dissertation\\4th-Year-Dissertation\\Solver\\solver.py\u001B[0m in \u001B[0;36m__expand_task\u001B[1;34m(self, subtask, search_model)\u001B[0m\n\u001B[0;32m    130\u001B[0m                     \u001B[0mnew_model\u001B[0m \u001B[1;33m=\u001B[0m \u001B[0mself\u001B[0m\u001B[1;33m.\u001B[0m\u001B[0mreproduce_model\u001B[0m\u001B[1;33m(\u001B[0m\u001B[0msearch_model\u001B[0m\u001B[1;33m,\u001B[0m \u001B[1;33m[\u001B[0m\u001B[0msubT\u001B[0m\u001B[1;33m]\u001B[0m \u001B[1;33m+\u001B[0m \u001B[0msearch_model\u001B[0m\u001B[1;33m.\u001B[0m\u001B[0msearch_modifiers\u001B[0m\u001B[1;33m)\u001B[0m\u001B[1;33m\u001B[0m\u001B[1;33m\u001B[0m\u001B[0m\n\u001B[0;32m    131\u001B[0m                     \u001B[0mnew_model\u001B[0m\u001B[1;33m.\u001B[0m\u001B[0madd_operation\u001B[0m\u001B[1;33m(\u001B[0m\u001B[0msubtask\u001B[0m\u001B[1;33m.\u001B[0m\u001B[0mtask\u001B[0m\u001B[1;33m,\u001B[0m \u001B[0msubtask\u001B[0m\u001B[1;33m.\u001B[0m\u001B[0mgiven_params\u001B[0m\u001B[1;33m)\u001B[0m\u001B[1;33m\u001B[0m\u001B[1;33m\u001B[0m\u001B[0m\n\u001B[1;32m--> 132\u001B[1;33m                     \u001B[0mself\u001B[0m\u001B[1;33m.\u001B[0m\u001B[0msearch_models\u001B[0m\u001B[1;33m.\u001B[0m\u001B[0madd\u001B[0m\u001B[1;33m(\u001B[0m\u001B[0mnew_model\u001B[0m\u001B[1;33m)\u001B[0m\u001B[1;33m\u001B[0m\u001B[1;33m\u001B[0m\u001B[0m\n\u001B[0m\u001B[0;32m    133\u001B[0m \u001B[1;33m\u001B[0m\u001B[0m\n\u001B[0;32m    134\u001B[0m     \u001B[1;32mdef\u001B[0m \u001B[0m__expand_method\u001B[0m\u001B[1;33m(\u001B[0m\u001B[0mself\u001B[0m\u001B[1;33m,\u001B[0m \u001B[0msubtask\u001B[0m\u001B[1;33m:\u001B[0m \u001B[0mSubtasks\u001B[0m\u001B[1;33m.\u001B[0m\u001B[0mSubtask\u001B[0m\u001B[1;33m,\u001B[0m \u001B[0msearch_model\u001B[0m\u001B[1;33m:\u001B[0m \u001B[0mModel\u001B[0m\u001B[1;33m)\u001B[0m\u001B[1;33m:\u001B[0m\u001B[1;33m\u001B[0m\u001B[1;33m\u001B[0m\u001B[0m\n",
      "\u001B[1;32mF:\\Users\\Cael\\Documents\\University files\\4th Year\\Dissertation\\4th-Year-Dissertation\\Solver\\search_queue.py\u001B[0m in \u001B[0;36madd\u001B[1;34m(self, model)\u001B[0m\n\u001B[0;32m     20\u001B[0m \u001B[1;33m\u001B[0m\u001B[0m\n\u001B[0;32m     21\u001B[0m         \u001B[1;32mif\u001B[0m \u001B[0mlen\u001B[0m\u001B[1;33m(\u001B[0m\u001B[0mmodel\u001B[0m\u001B[1;33m.\u001B[0m\u001B[0msearch_modifiers\u001B[0m\u001B[1;33m)\u001B[0m \u001B[1;33m>\u001B[0m \u001B[1;36m0\u001B[0m\u001B[1;33m:\u001B[0m\u001B[1;33m\u001B[0m\u001B[1;33m\u001B[0m\u001B[0m\n\u001B[1;32m---> 22\u001B[1;33m             \u001B[0mself\u001B[0m\u001B[1;33m.\u001B[0m\u001B[0m__add_model\u001B[0m\u001B[1;33m(\u001B[0m\u001B[0mmodel\u001B[0m\u001B[1;33m)\u001B[0m\u001B[1;33m\u001B[0m\u001B[1;33m\u001B[0m\u001B[0m\n\u001B[0m\u001B[0;32m     23\u001B[0m         \u001B[1;32melif\u001B[0m \u001B[0mlen\u001B[0m\u001B[1;33m(\u001B[0m\u001B[0mmodel\u001B[0m\u001B[1;33m.\u001B[0m\u001B[0msearch_modifiers\u001B[0m\u001B[1;33m)\u001B[0m \u001B[1;33m==\u001B[0m \u001B[1;36m0\u001B[0m \u001B[1;32mand\u001B[0m \u001B[0mlen\u001B[0m\u001B[1;33m(\u001B[0m\u001B[0mmodel\u001B[0m\u001B[1;33m.\u001B[0m\u001B[0mwaiting_subtasks\u001B[0m\u001B[1;33m)\u001B[0m \u001B[1;33m>\u001B[0m \u001B[1;36m0\u001B[0m\u001B[1;33m:\u001B[0m\u001B[1;33m\u001B[0m\u001B[1;33m\u001B[0m\u001B[0m\n\u001B[0;32m     24\u001B[0m             \u001B[0mmodel\u001B[0m\u001B[1;33m.\u001B[0m\u001B[0mpromote_waiting_subtask\u001B[0m\u001B[1;33m(\u001B[0m\u001B[1;33m)\u001B[0m\u001B[1;33m\u001B[0m\u001B[1;33m\u001B[0m\u001B[0m\n",
      "\u001B[1;32mF:\\Users\\Cael\\Documents\\University files\\4th Year\\Dissertation\\4th-Year-Dissertation\\Solver\\search_queue.py\u001B[0m in \u001B[0;36m__add_model\u001B[1;34m(self, model)\u001B[0m\n\u001B[0;32m     37\u001B[0m         \u001B[0madded\u001B[0m \u001B[1;33m=\u001B[0m \u001B[1;32mFalse\u001B[0m\u001B[1;33m\u001B[0m\u001B[1;33m\u001B[0m\u001B[0m\n\u001B[0;32m     38\u001B[0m         \u001B[0mi\u001B[0m \u001B[1;33m=\u001B[0m \u001B[1;36m0\u001B[0m\u001B[1;33m\u001B[0m\u001B[1;33m\u001B[0m\u001B[0m\n\u001B[1;32m---> 39\u001B[1;33m         \u001B[1;32mwhile\u001B[0m \u001B[0mi\u001B[0m \u001B[1;33m<\u001B[0m \u001B[0mlen\u001B[0m\u001B[1;33m(\u001B[0m\u001B[0mself\u001B[0m\u001B[1;33m.\u001B[0m\u001B[0m__Q\u001B[0m\u001B[1;33m)\u001B[0m\u001B[1;33m:\u001B[0m\u001B[1;33m\u001B[0m\u001B[1;33m\u001B[0m\u001B[0m\n\u001B[0m\u001B[0;32m     40\u001B[0m             \u001B[1;32mif\u001B[0m \u001B[0mranking\u001B[0m \u001B[1;33m<\u001B[0m \u001B[0mself\u001B[0m\u001B[1;33m.\u001B[0m\u001B[0m__Q\u001B[0m\u001B[1;33m[\u001B[0m\u001B[0mi\u001B[0m\u001B[1;33m]\u001B[0m\u001B[1;33m.\u001B[0m\u001B[0mget_ranking\u001B[0m\u001B[1;33m(\u001B[0m\u001B[1;33m)\u001B[0m\u001B[1;33m:\u001B[0m\u001B[1;33m\u001B[0m\u001B[1;33m\u001B[0m\u001B[0m\n\u001B[0;32m     41\u001B[0m                 \u001B[0mself\u001B[0m\u001B[1;33m.\u001B[0m\u001B[0m__Q\u001B[0m\u001B[1;33m.\u001B[0m\u001B[0minsert\u001B[0m\u001B[1;33m(\u001B[0m\u001B[0mi\u001B[0m\u001B[1;33m,\u001B[0m \u001B[0mmodel\u001B[0m\u001B[1;33m)\u001B[0m\u001B[1;33m\u001B[0m\u001B[1;33m\u001B[0m\u001B[0m\n",
      "\u001B[1;31mKeyboardInterrupt\u001B[0m: "
     ]
    }
   ],
   "source": [
    "# tests = [(\"../../Examples/Rover/domain.hddl\", \"../../Examples/Rover/p01.hddl\"), (\"../../Examples/Rover/domain.hddl\", \"../../Examples/Rover/p02.hddl\"), (\"../../Examples/Rover/domain.hddl\", \"../../Examples/Rover/p03.hddl\"), (\"../../Examples/Rover/domain.hddl\", \"../../Examples/Rover/p04.hddl\"), (\"../../Examples/Rover/domain.hddl\", \"../../Examples/Rover/p05.hddl\")]\n",
    "# strats = [Strat(\"Breadth_First_Operations\", BreadthFirstOperations), Strat(\"Breadth_First_Operations_Pruning\", BreadthFirstOperationsPruning)]\n",
    "# run_tests(tests, strats)"
   ],
   "metadata": {
    "collapsed": false,
    "pycharm": {
     "name": "#%%\n"
    }
   }
  },
  {
   "cell_type": "code",
   "execution_count": 12,
   "outputs": [
    {
     "name": "stdout",
     "output_type": "stream",
     "text": [
      "Subtask: 0 - get_soil_data['waypoint1']\n",
      "Subtask: 1 - get_soil_data['waypoint2']\n",
      "Subtask: 2 - get_rock_data['waypoint0']\n",
      "Subtask: 3 - get_rock_data['waypoint1']\n",
      "Subtask: 4 - get_image_data['objective0', 'high_res']\n",
      "Subtask: 5 - get_image_data['objective2', 'high_res']\n",
      "Subtask: 6 - get_image_data['objective0', 'colour']\n",
      "Writing: 92.28334665298462\n"
     ]
    }
   ],
   "source": [
    "tests = [(\"../../Examples/Rover/domain.hddl\", \"../../Examples/Rover/p04.hddl\")]\n",
    "strats = [Strat(\"Breadth_First_Operations_Pruning\", BreadthFirstOperationsPruning)]\n",
    "run_tests(tests, strats)"
   ],
   "metadata": {
    "collapsed": false,
    "pycharm": {
     "name": "#%%\n"
    }
   }
  }
 ],
 "metadata": {
  "kernelspec": {
   "display_name": "Python 3",
   "language": "python",
   "name": "python3"
  },
  "language_info": {
   "codemirror_mode": {
    "name": "ipython",
    "version": 2
   },
   "file_extension": ".py",
   "mimetype": "text/x-python",
   "name": "python",
   "nbconvert_exporter": "python",
   "pygments_lexer": "ipython2",
   "version": "2.7.6"
  }
 },
 "nbformat": 4,
 "nbformat_minor": 0
}