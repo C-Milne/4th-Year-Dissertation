{
 "cells": [
  {
   "cell_type": "code",
   "execution_count": 1,
   "metadata": {
    "collapsed": true,
    "pycharm": {
     "name": "#%%\n"
    }
   },
   "outputs": [
    {
     "ename": "KeyError",
     "evalue": "'Internal_Representation.modifier'",
     "output_type": "error",
     "traceback": [
      "\u001B[1;31m---------------------------------------------------------------------------\u001B[0m",
      "\u001B[1;31mKeyError\u001B[0m                                  Traceback (most recent call last)",
      "\u001B[1;32m<ipython-input-1-81f199fd5bec>\u001B[0m in \u001B[0;36m<module>\u001B[1;34m\u001B[0m\n\u001B[0;32m     10\u001B[0m \u001B[0msys\u001B[0m\u001B[1;33m.\u001B[0m\u001B[0mpath\u001B[0m\u001B[1;33m.\u001B[0m\u001B[0mappend\u001B[0m\u001B[1;33m(\u001B[0m\u001B[0mos\u001B[0m\u001B[1;33m.\u001B[0m\u001B[0mgetcwd\u001B[0m\u001B[1;33m(\u001B[0m\u001B[1;33m)\u001B[0m\u001B[1;33m)\u001B[0m\u001B[1;33m\u001B[0m\u001B[1;33m\u001B[0m\u001B[0m\n\u001B[0;32m     11\u001B[0m \u001B[1;32mfrom\u001B[0m \u001B[0mInternal_Representation\u001B[0m\u001B[1;33m.\u001B[0m\u001B[0mstate\u001B[0m \u001B[1;32mimport\u001B[0m \u001B[0mState\u001B[0m\u001B[1;33m\u001B[0m\u001B[1;33m\u001B[0m\u001B[0m\n\u001B[1;32m---> 12\u001B[1;33m \u001B[1;32mfrom\u001B[0m \u001B[0mSolver\u001B[0m\u001B[1;33m.\u001B[0m\u001B[0maction_tracker\u001B[0m \u001B[1;32mimport\u001B[0m \u001B[0mActionTracker\u001B[0m\u001B[1;33m\u001B[0m\u001B[1;33m\u001B[0m\u001B[0m\n\u001B[0m\u001B[0;32m     13\u001B[0m \u001B[1;32mfrom\u001B[0m \u001B[0mrunner\u001B[0m \u001B[1;32mimport\u001B[0m \u001B[0mRunner\u001B[0m\u001B[1;33m\u001B[0m\u001B[1;33m\u001B[0m\u001B[0m\n\u001B[0;32m     14\u001B[0m \u001B[0mos\u001B[0m\u001B[1;33m.\u001B[0m\u001B[0mchdir\u001B[0m\u001B[1;33m(\u001B[0m\u001B[0mworking_dir\u001B[0m\u001B[1;33m)\u001B[0m\u001B[1;33m\u001B[0m\u001B[1;33m\u001B[0m\u001B[0m\n",
      "\u001B[1;32m~\\Documents\\University\\4th year\\Dissertation\\4th-Year-Dissertation\\Solver\\action_tracker.py\u001B[0m in \u001B[0;36m<module>\u001B[1;34m\u001B[0m\n\u001B[1;32m----> 1\u001B[1;33m \u001B[1;32mfrom\u001B[0m \u001B[0mInternal_Representation\u001B[0m\u001B[1;33m.\u001B[0m\u001B[0maction\u001B[0m \u001B[1;32mimport\u001B[0m \u001B[0mAction\u001B[0m\u001B[1;33m\u001B[0m\u001B[1;33m\u001B[0m\u001B[0m\n\u001B[0m\u001B[0;32m      2\u001B[0m \u001B[1;32mfrom\u001B[0m \u001B[0mInternal_Representation\u001B[0m\u001B[1;33m.\u001B[0m\u001B[0mtask\u001B[0m \u001B[1;32mimport\u001B[0m \u001B[0mTask\u001B[0m\u001B[1;33m\u001B[0m\u001B[1;33m\u001B[0m\u001B[0m\n\u001B[0;32m      3\u001B[0m \u001B[1;32mfrom\u001B[0m \u001B[0mInternal_Representation\u001B[0m\u001B[1;33m.\u001B[0m\u001B[0mmethod\u001B[0m \u001B[1;32mimport\u001B[0m \u001B[0mMethod\u001B[0m\u001B[1;33m\u001B[0m\u001B[1;33m\u001B[0m\u001B[0m\n\u001B[0;32m      4\u001B[0m \u001B[1;32mfrom\u001B[0m \u001B[0mInternal_Representation\u001B[0m\u001B[1;33m.\u001B[0m\u001B[0mObject\u001B[0m \u001B[1;32mimport\u001B[0m \u001B[0mObject\u001B[0m\u001B[1;33m\u001B[0m\u001B[1;33m\u001B[0m\u001B[0m\n\u001B[0;32m      5\u001B[0m \u001B[1;32mfrom\u001B[0m \u001B[0mInternal_Representation\u001B[0m\u001B[1;33m.\u001B[0m\u001B[0mlist_parameter\u001B[0m \u001B[1;32mimport\u001B[0m \u001B[0mListParameter\u001B[0m\u001B[1;33m\u001B[0m\u001B[1;33m\u001B[0m\u001B[0m\n",
      "\u001B[1;32m~\\Documents\\University\\4th year\\Dissertation\\4th-Year-Dissertation\\Internal_Representation\\action.py\u001B[0m in \u001B[0;36m<module>\u001B[1;34m\u001B[0m\n\u001B[0;32m      2\u001B[0m \u001B[1;31m# from Internal_Representation.modifier import Modifier\u001B[0m\u001B[1;33m\u001B[0m\u001B[1;33m\u001B[0m\u001B[1;33m\u001B[0m\u001B[0m\n\u001B[0;32m      3\u001B[0m \u001B[1;32mfrom\u001B[0m \u001B[0mInternal_Representation\u001B[0m\u001B[1;33m.\u001B[0m\u001B[0meffects\u001B[0m \u001B[1;32mimport\u001B[0m \u001B[0mEffects\u001B[0m\u001B[1;33m\u001B[0m\u001B[1;33m\u001B[0m\u001B[0m\n\u001B[1;32m----> 4\u001B[1;33m \u001B[0mModifier\u001B[0m \u001B[1;33m=\u001B[0m \u001B[0msys\u001B[0m\u001B[1;33m.\u001B[0m\u001B[0mmodules\u001B[0m\u001B[1;33m[\u001B[0m\u001B[1;34m'Internal_Representation.modifier'\u001B[0m\u001B[1;33m]\u001B[0m\u001B[1;33m.\u001B[0m\u001B[0mModifier\u001B[0m\u001B[1;33m\u001B[0m\u001B[1;33m\u001B[0m\u001B[0m\n\u001B[0m\u001B[0;32m      5\u001B[0m \u001B[1;33m\u001B[0m\u001B[0m\n\u001B[0;32m      6\u001B[0m \u001B[1;33m\u001B[0m\u001B[0m\n",
      "\u001B[1;31mKeyError\u001B[0m: 'Internal_Representation.modifier'"
     ]
    }
   ],
   "source": [
    "import pickle\n",
    "import os\n",
    "import sys\n",
    "from statistics import mean\n",
    "import numpy as np\n",
    "import pandas as pd\n",
    "import matplotlib.pyplot as plt\n",
    "working_dir = os.getcwd()\n",
    "os.chdir(\"../../..\")\n",
    "sys.path.append(os.getcwd())\n",
    "from Internal_Representation.state import State\n",
    "from Solver.action_tracker import ActionTracker\n",
    "from runner import Runner\n",
    "os.chdir(working_dir)"
   ]
  },
  {
   "cell_type": "code",
   "execution_count": null,
   "outputs": [],
   "source": [
    "# Load pickled Object\n",
    "def load_pickled_ob(file_name):\n",
    "    with (open(file_name, \"rb\")) as openfile:\n",
    "        while True:\n",
    "            try:\n",
    "                return pickle.load(openfile)\n",
    "            except EOFError:\n",
    "                break"
   ],
   "metadata": {
    "collapsed": false,
    "pycharm": {
     "name": "#%%\n"
    }
   }
  },
  {
   "cell_type": "code",
   "execution_count": null,
   "outputs": [],
   "source": [
    "# Display pickled actions_taken\n",
    "def display_actions_taken(actions):\n",
    "    for a in actions:\n",
    "        print(a)"
   ],
   "metadata": {
    "collapsed": false,
    "pycharm": {
     "name": "#%%\n"
    }
   }
  },
  {
   "cell_type": "code",
   "execution_count": null,
   "outputs": [],
   "source": [
    "# Display pickled final state\n",
    "def display_final_state(final_state):\n",
    "    print(final_state)"
   ],
   "metadata": {
    "collapsed": false,
    "pycharm": {
     "name": "#%%\n"
    }
   }
  },
  {
   "cell_type": "code",
   "execution_count": 2,
   "outputs": [
    {
     "ename": "NameError",
     "evalue": "name 'load_pickled_ob' is not defined",
     "output_type": "error",
     "traceback": [
      "\u001B[1;31m---------------------------------------------------------------------------\u001B[0m",
      "\u001B[1;31mNameError\u001B[0m                                 Traceback (most recent call last)",
      "\u001B[1;32m<ipython-input-2-b2ab486a9d70>\u001B[0m in \u001B[0;36m<module>\u001B[1;34m\u001B[0m\n\u001B[1;32m----> 1\u001B[1;33m \u001B[0msize_dict\u001B[0m \u001B[1;33m=\u001B[0m \u001B[0mload_pickled_ob\u001B[0m\u001B[1;33m(\u001B[0m\u001B[1;34m\"problem_sizes.pickle\"\u001B[0m\u001B[1;33m)\u001B[0m\u001B[1;33m\u001B[0m\u001B[1;33m\u001B[0m\u001B[0m\n\u001B[0m\u001B[0;32m      2\u001B[0m \u001B[0msize_dict\u001B[0m\u001B[1;33m\u001B[0m\u001B[1;33m\u001B[0m\u001B[0m\n",
      "\u001B[1;31mNameError\u001B[0m: name 'load_pickled_ob' is not defined"
     ]
    }
   ],
   "source": [
    "size_dict = load_pickled_ob(\"problem_sizes.pickle\")\n",
    "size_dict"
   ],
   "metadata": {
    "collapsed": false,
    "pycharm": {
     "name": "#%%\n"
    }
   }
  },
  {
   "cell_type": "code",
   "execution_count": null,
   "outputs": [],
   "source": [
    "class average_time:\n",
    "    def __init__(self):\n",
    "        self.times = {} # {'roverp0': float}\n",
    "        self.num_models = {}    # {'roverp0': float}\n",
    "\n",
    "    def calculate_average_time(self, problem_name: str, times: list) -> None:\n",
    "        self.times[problem_name] = mean(times)\n",
    "\n",
    "    def calculate_average_model(self, problem_name: str, num_models: list) -> None:\n",
    "        self.num_models[problem_name] = mean(num_models)\n",
    "\n",
    "    def get_num_models(self, problem_name: str) -> float:\n",
    "        return self.num_models[problem_name]\n",
    "\n",
    "    def __getitem__(self, item):\n",
    "        return self.times[item]"
   ],
   "metadata": {
    "collapsed": false,
    "pycharm": {
     "name": "#%%\n"
    }
   }
  },
  {
   "cell_type": "code",
   "execution_count": null,
   "outputs": [],
   "source": [
    "def generate_graph(example_names: list, config_names: list, colours: list, values: list,\n",
    "                   title=\"Average Time Taken for Solving\", y_axis=\"Average Time Taken (Seconds)\"):\n",
    "    assert len(config_names) == len(colours) == len(values)\n",
    "    assert all([len(x) == len(example_names) for x in values])\n",
    "    plt.figure(figsize=(18, 8))\n",
    "\n",
    "    i, l = 0, len(config_names)\n",
    "    while i < l:\n",
    "        plt.plot([values[i][y] for y in range(len(values[i]))], 'bo-', label=r'{}'.format(config_names[i]), color=colours[i], alpha=0.6, linewidth=3)\n",
    "        i += 1\n",
    "    plt.xticks(range(0, len(example_names)), example_names)\n",
    "    plt.locator_params(axis='x', nbins=len(example_names))\n",
    "    plt.xlabel('Problem Name'); plt.ylabel(r'{}'.format(y_axis))\n",
    "    plt.title(r'{}'.format(title))\n",
    "    plt.legend(loc='best')\n",
    "    # plt.savefig(\"{}_ABS_features_Weight_plot.svg\".format('lasso - Ridge'), dpi=500)  # Save graph to file\n",
    "    plt.grid()"
   ],
   "metadata": {
    "collapsed": false,
    "pycharm": {
     "name": "#%%\n"
    }
   }
  },
  {
   "cell_type": "markdown",
   "source": [
    "# Running operations on collected Data"
   ],
   "metadata": {
    "collapsed": false,
    "pycharm": {
     "name": "#%% md\n"
    }
   }
  },
  {
   "cell_type": "markdown",
   "source": [
    "## Rover p0 -> p3 with early precondition checking and without"
   ],
   "metadata": {
    "collapsed": false,
    "pycharm": {
     "name": "#%% md\n"
    }
   }
  },
  {
   "cell_type": "code",
   "execution_count": null,
   "outputs": [],
   "source": [
    "\"\"\"Load data from breadth first - no early precondition checker\"\"\"\n",
    "breadth_first_no_early_precon_check_data_path = os.path.join(os.getcwd(), \"Archive\", \"rover_no_early_precon_checker\", \"Breadth_First_Operations.csv\")\n",
    "breadth_first_no_early_precon_check = pd.read_csv(breadth_first_no_early_precon_check_data_path, sep=\",\")\n",
    "\n",
    "breadth_first_no_early_precon_check_av_time = average_time()\n",
    "for example_name in breadth_first_no_early_precon_check.example_name.unique():\n",
    "\n",
    "    breadth_first_no_early_precon_check_av_time.calculate_average_time(example_name, breadth_first_no_early_precon_check[breadth_first_no_early_precon_check['example_name'] == example_name]['time_taken'])\n",
    "\n",
    "    breadth_first_no_early_precon_check_av_time.calculate_average_model(example_name,                               breadth_first_no_early_precon_check[breadth_first_no_early_precon_check['example_name'] == example_name]['search_models_created'])\n",
    "\n",
    "breadth_first_no_early_precon_check"
   ],
   "metadata": {
    "collapsed": false,
    "pycharm": {
     "name": "#%%\n"
    }
   }
  },
  {
   "cell_type": "code",
   "execution_count": null,
   "outputs": [],
   "source": [
    "\"\"\"Load data from breadth first\"\"\"\n",
    "breadth_first_early_precon_check_data_path = os.path.join(os.getcwd(), \"Archive\", \"rover_early_precon_checker\", \"Breadth_First_Operations.csv\")\n",
    "breadth_first_early_precon_check = pd.read_csv(breadth_first_early_precon_check_data_path, sep=\",\")\n",
    "\n",
    "breadth_first_early_precon_check_av_time = average_time()\n",
    "for example_name in breadth_first_early_precon_check.example_name.unique():\n",
    "\n",
    "    breadth_first_early_precon_check_av_time.calculate_average_time(example_name, breadth_first_early_precon_check[breadth_first_early_precon_check['example_name'] == example_name]['time_taken'])\n",
    "\n",
    "    breadth_first_early_precon_check_av_time.calculate_average_model(example_name, breadth_first_early_precon_check[breadth_first_early_precon_check['example_name'] == example_name]['search_models_created'])\n",
    "\n",
    "breadth_first_early_precon_check"
   ],
   "metadata": {
    "collapsed": false,
    "pycharm": {
     "name": "#%%\n"
    }
   }
  },
  {
   "cell_type": "code",
   "execution_count": null,
   "outputs": [],
   "source": [
    "\"\"\"Create Graph\"\"\"\n",
    "generate_graph([\"Rover/p01.hddl\", \"Rover/p02.hddl\", \"Rover/p03.hddl\"], [\"Breadth First (No Early Precondition Checking)\", \"Breadth First\"], [\"darkblue\", \"yellow\"], [\n",
    "[breadth_first_no_early_precon_check_av_time[\"Rover/p01.hddl\"],\n",
    " breadth_first_no_early_precon_check_av_time[\"Rover/p02.hddl\"],\n",
    " breadth_first_no_early_precon_check_av_time[\"Rover/p03.hddl\"]],\n",
    "[breadth_first_early_precon_check_av_time[\"Rover/p01.hddl\"],\n",
    " breadth_first_early_precon_check_av_time[\"Rover/p02.hddl\"],\n",
    " breadth_first_early_precon_check_av_time[\"Rover/p03.hddl\"]]\n",
    "])"
   ],
   "metadata": {
    "collapsed": false,
    "pycharm": {
     "name": "#%%\n"
    }
   }
  },
  {
   "cell_type": "code",
   "execution_count": null,
   "outputs": [],
   "source": [
    "\"\"\"Stats test\"\"\""
   ],
   "metadata": {
    "collapsed": false,
    "pycharm": {
     "name": "#%%\n"
    }
   }
  },
  {
   "cell_type": "markdown",
   "source": [
    "## Rover p4 -> p7 with and without early precon checking"
   ],
   "metadata": {
    "collapsed": false,
    "pycharm": {
     "name": "#%% md\n"
    }
   }
  },
  {
   "cell_type": "markdown",
   "source": [
    "## Rover p0 -> p3 breadth first with and without data pruning. Predicate distance to goal p0 -> p3 also"
   ],
   "metadata": {
    "collapsed": false,
    "pycharm": {
     "name": "#%% md\n"
    }
   }
  },
  {
   "cell_type": "code",
   "execution_count": null,
   "outputs": [],
   "source": [
    "breadth_first_early_precon_check"
   ],
   "metadata": {
    "collapsed": false,
    "pycharm": {
     "name": "#%%\n"
    }
   }
  },
  {
   "cell_type": "code",
   "execution_count": null,
   "outputs": [],
   "source": [
    "\"\"\"Load data from breadth first\"\"\"\n",
    "breadth_first_pruning_data_path = os.path.join(os.getcwd(), \"Archive\", \"rover_early_precon_checker\", \"Breadth_First_Operations_Pruning.csv\")\n",
    "breadth_first_pruning = pd.read_csv(breadth_first_pruning_data_path, sep=\",\")\n",
    "\n",
    "breadth_first_pruning_av_time = average_time()\n",
    "for example_name in breadth_first_pruning.example_name.unique():\n",
    "    breadth_first_pruning_av_time.calculate_average_time(example_name, breadth_first_pruning[breadth_first_pruning['example_name'] == example_name]['time_taken'])\n",
    "\n",
    "    breadth_first_pruning_av_time.calculate_average_model(example_name, breadth_first_pruning[breadth_first_pruning['example_name'] == example_name]['search_models_created'])\n",
    "\n",
    "breadth_first_pruning"
   ],
   "metadata": {
    "collapsed": false,
    "pycharm": {
     "name": "#%%\n"
    }
   }
  },
  {
   "cell_type": "code",
   "execution_count": null,
   "outputs": [],
   "source": [
    "\"\"\"Load data from Predicate distance to goal\"\"\"\n",
    "predicate_distance_to_goal_data_path = os.path.join(os.getcwd(), \"Archive\", \"rover_predicate_distance\", \"Predicate_Distance_To_Goal.csv\")\n",
    "predicate_distance_to_goal = pd.read_csv(predicate_distance_to_goal_data_path, sep=\",\")\n",
    "\n",
    "predicate_distance_to_goal_av_time = average_time()\n",
    "for example_name in predicate_distance_to_goal.example_name.unique():\n",
    "    predicate_distance_to_goal_av_time.calculate_average_time(example_name, predicate_distance_to_goal[predicate_distance_to_goal['example_name'] == example_name]['time_taken'])\n",
    "\n",
    "    predicate_distance_to_goal_av_time.calculate_average_model(example_name, predicate_distance_to_goal[predicate_distance_to_goal['example_name'] == example_name]['search_models_created'])\n",
    "\n",
    "predicate_distance_to_goal"
   ],
   "metadata": {
    "collapsed": false,
    "pycharm": {
     "name": "#%%\n"
    }
   }
  },
  {
   "cell_type": "code",
   "execution_count": null,
   "outputs": [],
   "source": [
    "\"\"\"Create Graph\"\"\"\n",
    "generate_graph([\"Rover/p01.hddl\", \"Rover/p02.hddl\", \"Rover/p03.hddl\"], [\"Breadth First (No Pruning)\", \"Breadth First\", \"Predicate Distance To Goal Heuristic\"], [\"red\", \"purple\", \"aqua\"],\n",
    "[\n",
    "    [breadth_first_early_precon_check_av_time[\"Rover/p01.hddl\"],\n",
    "     breadth_first_early_precon_check_av_time[\"Rover/p02.hddl\"],\n",
    "     breadth_first_early_precon_check_av_time[\"Rover/p03.hddl\"]],\n",
    "    [breadth_first_pruning_av_time[\"Rover/p01.hddl\"],\n",
    "     breadth_first_pruning_av_time[\"Rover/p02.hddl\"],\n",
    "     breadth_first_pruning_av_time[\"Rover/p03.hddl\"]],\n",
    "    [predicate_distance_to_goal_av_time[\"Rover/p01.hddl\"],\n",
    "     predicate_distance_to_goal_av_time[\"Rover/p02.hddl\"],\n",
    "     predicate_distance_to_goal_av_time[\"Rover/p03.hddl\"]]\n",
    "])"
   ],
   "metadata": {
    "collapsed": false,
    "pycharm": {
     "name": "#%%\n"
    }
   }
  },
  {
   "cell_type": "markdown",
   "source": [
    "## Rover p04 pruning and predicate_distance\n",
    "For this test, the breadth first non-pruning search strategy was run for 2 hours and was not able to produce a result"
   ],
   "metadata": {
    "collapsed": false,
    "pycharm": {
     "name": "#%% md\n"
    }
   }
  },
  {
   "cell_type": "code",
   "execution_count": null,
   "outputs": [],
   "source": [
    "\"\"\"Create Graph\"\"\"\n",
    "generate_graph([\"Rover/p01.hddl\", \"Rover/p02.hddl\", \"Rover/p03.hddl\", \"Rover/p04.hddl\"],\n",
    "               [\"Breadth First\", \"Predicate Distance To Goal Heuristic\"], [\"purple\", \"aqua\"],\n",
    "               [\n",
    "                   [breadth_first_pruning_av_time[\"Rover/p01.hddl\"],\n",
    "                    breadth_first_pruning_av_time[\"Rover/p02.hddl\"],\n",
    "                    breadth_first_pruning_av_time[\"Rover/p03.hddl\"],\n",
    "                    breadth_first_pruning_av_time[\"Rover/p04.hddl\"]],\n",
    "                   [predicate_distance_to_goal_av_time[\"Rover/p01.hddl\"],\n",
    "                    predicate_distance_to_goal_av_time[\"Rover/p02.hddl\"],\n",
    "                    predicate_distance_to_goal_av_time[\"Rover/p03.hddl\"],\n",
    "                    predicate_distance_to_goal_av_time[\"Rover/p04.hddl\"]]\n",
    "               ])"
   ],
   "metadata": {
    "collapsed": false,
    "pycharm": {
     "name": "#%%\n"
    }
   }
  },
  {
   "cell_type": "markdown",
   "source": [
    "## Rover p0 -> p7 predicate distance to goal"
   ],
   "metadata": {
    "collapsed": false,
    "pycharm": {
     "name": "#%% md\n"
    }
   }
  },
  {
   "cell_type": "code",
   "execution_count": null,
   "outputs": [],
   "source": [
    "\"\"\"Create Graph\"\"\"\n",
    "generate_graph([\"Rover/p01.hddl\", \"Rover/p02.hddl\", \"Rover/p03.hddl\", \"Rover/p04.hddl\", \"Rover/p05.hddl\",\n",
    "                \"Rover/p06.hddl\", \"Rover/p07.hddl\"],\n",
    "               [\"Predicate Distance To Goal Heuristic\"], [\"aqua\"],\n",
    "               [\n",
    "                   [predicate_distance_to_goal_av_time[\"Rover/p01.hddl\"],\n",
    "                    predicate_distance_to_goal_av_time[\"Rover/p02.hddl\"],\n",
    "                    predicate_distance_to_goal_av_time[\"Rover/p03.hddl\"],\n",
    "                    predicate_distance_to_goal_av_time[\"Rover/p04.hddl\"],\n",
    "                    predicate_distance_to_goal_av_time[\"Rover/p05.hddl\"],\n",
    "                    predicate_distance_to_goal_av_time[\"Rover/p06.hddl\"],\n",
    "                    predicate_distance_to_goal_av_time[\"Rover/p07.hddl\"]]\n",
    "               ])"
   ],
   "metadata": {
    "collapsed": false,
    "pycharm": {
     "name": "#%%\n"
    }
   }
  },
  {
   "cell_type": "markdown",
   "source": [
    "# Graph number of models created during search"
   ],
   "metadata": {
    "collapsed": false,
    "pycharm": {
     "name": "#%% md\n"
    }
   }
  },
  {
   "cell_type": "markdown",
   "source": [
    "## Rover p0 -> p3. Breadth first, breadth first with pruning, predicate distance to goal"
   ],
   "metadata": {
    "collapsed": false,
    "pycharm": {
     "name": "#%% md\n"
    }
   }
  },
  {
   "cell_type": "code",
   "execution_count": null,
   "outputs": [],
   "source": [
    "\"\"\"Create Graph\"\"\"\n",
    "generate_graph([\"Rover/p01.hddl\", \"Rover/p02.hddl\", \"Rover/p03.hddl\"], [\"Breadth First (No Pruning)\", \"Breadth First\", \"Predicate Distance To Goal Heuristic\"], [\"red\", \"purple\", \"aqua\"],\n",
    "               [\n",
    "                   [breadth_first_early_precon_check_av_time.get_num_models(\"Rover/p01.hddl\"),\n",
    "                    breadth_first_early_precon_check_av_time.get_num_models(\"Rover/p02.hddl\"),\n",
    "                    breadth_first_early_precon_check_av_time.get_num_models(\"Rover/p03.hddl\")],\n",
    "                   [breadth_first_pruning_av_time.get_num_models(\"Rover/p01.hddl\"),\n",
    "                    breadth_first_pruning_av_time.get_num_models(\"Rover/p02.hddl\"),\n",
    "                    breadth_first_pruning_av_time.get_num_models(\"Rover/p03.hddl\")],\n",
    "                   [predicate_distance_to_goal_av_time.get_num_models(\"Rover/p01.hddl\"),\n",
    "                    predicate_distance_to_goal_av_time.get_num_models(\"Rover/p02.hddl\"),\n",
    "                    predicate_distance_to_goal_av_time.get_num_models(\"Rover/p03.hddl\")]\n",
    "               ], \"Amount of Models Created During Search\", \"Number of Models\")"
   ],
   "metadata": {
    "collapsed": false,
    "pycharm": {
     "name": "#%%\n"
    }
   }
  },
  {
   "cell_type": "markdown",
   "source": [
    "# Area for checking serialised files"
   ],
   "metadata": {
    "collapsed": false,
    "pycharm": {
     "name": "#%% md\n"
    }
   }
  },
  {
   "cell_type": "code",
   "execution_count": null,
   "outputs": [],
   "source": [
    "file_name = predicate_distance_to_goal.iloc[0]['serialised_actions_taken']\n",
    "actions_taken = load_pickled_ob(file_name)\n",
    "display_actions_taken(actions_taken)"
   ],
   "metadata": {
    "collapsed": false,
    "pycharm": {
     "name": "#%%\n"
    }
   }
  },
  {
   "cell_type": "code",
   "execution_count": null,
   "outputs": [],
   "source": [
    "file_name = predicate_distance_to_goal.iloc[0]['serialised_state']\n",
    "final_state = load_pickled_ob(file_name)\n",
    "display_final_state(final_state)"
   ],
   "metadata": {
    "collapsed": false,
    "pycharm": {
     "name": "#%%\n"
    }
   }
  }
 ],
 "metadata": {
  "kernelspec": {
   "display_name": "Python 3",
   "language": "python",
   "name": "python3"
  },
  "language_info": {
   "codemirror_mode": {
    "name": "ipython",
    "version": 2
   },
   "file_extension": ".py",
   "mimetype": "text/x-python",
   "name": "python",
   "nbconvert_exporter": "python",
   "pygments_lexer": "ipython2",
   "version": "2.7.6"
  }
 },
 "nbformat": 4,
 "nbformat_minor": 0
}