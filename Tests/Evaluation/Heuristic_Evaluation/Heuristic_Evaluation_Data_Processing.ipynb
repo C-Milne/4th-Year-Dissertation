{
 "cells": [
  {
   "cell_type": "code",
   "execution_count": 2,
   "metadata": {
    "collapsed": true,
    "pycharm": {
     "name": "#%%\n"
    }
   },
   "outputs": [],
   "source": [
    "import pickle\n",
    "import os\n",
    "import sys\n",
    "import numpy as np\n",
    "import pandas as pd\n",
    "working_dir = os.getcwd()\n",
    "os.chdir(\"../../..\")\n",
    "sys.path.append(os.getcwd())\n",
    "from Internal_Representation.state import State\n",
    "from Solver.action_tracker import ActionTracker\n",
    "from runner import Runner\n",
    "os.chdir(working_dir)"
   ]
  },
  {
   "cell_type": "code",
   "execution_count": 12,
   "outputs": [],
   "source": [
    "# Load pickled Object\n",
    "def load_pickled_ob(file_name):\n",
    "    with (open(file_name, \"rb\")) as openfile:\n",
    "        while True:\n",
    "            try:\n",
    "                return pickle.load(openfile)\n",
    "            except EOFError:\n",
    "                break"
   ],
   "metadata": {
    "collapsed": false,
    "pycharm": {
     "name": "#%%\n"
    }
   }
  },
  {
   "cell_type": "code",
   "execution_count": 4,
   "outputs": [],
   "source": [
    "# Display pickled actions_taken\n",
    "def display_actions_taken(actions):\n",
    "    for a in actions:\n",
    "        print(a)"
   ],
   "metadata": {
    "collapsed": false,
    "pycharm": {
     "name": "#%%\n"
    }
   }
  },
  {
   "cell_type": "code",
   "execution_count": 15,
   "outputs": [],
   "source": [
    "# Display pickled final state\n",
    "def display_final_state(final_state):\n",
    "    print(final_state)"
   ],
   "metadata": {
    "collapsed": false,
    "pycharm": {
     "name": "#%%\n"
    }
   }
  },
  {
   "cell_type": "markdown",
   "source": [
    "# Running operations on collected Data"
   ],
   "metadata": {
    "collapsed": false,
    "pycharm": {
     "name": "#%% md\n"
    }
   }
  },
  {
   "cell_type": "code",
   "execution_count": 7,
   "outputs": [
    {
     "data": {
      "text/plain": "     example_name  time_taken  \\\n0  Rover/p01.hddl    0.954148   \n1  Rover/p02.hddl    2.393128   \n2  Rover/p03.hddl    2.283809   \n\n                            serialised_actions_taken  \\\n0  serialised_objects\\Rover_p01hddl_Breadth_First...   \n1  serialised_objects\\Rover_p02hddl_Breadth_First...   \n2  serialised_objects\\Rover_p03hddl_Breadth_First...   \n\n                                    serialised_state  \n0  serialised_objects\\Rover_p01hddl_Breadth_First...  \n1  serialised_objects\\Rover_p02hddl_Breadth_First...  \n2  serialised_objects\\Rover_p03hddl_Breadth_First...  ",
      "text/html": "<div>\n<style scoped>\n    .dataframe tbody tr th:only-of-type {\n        vertical-align: middle;\n    }\n\n    .dataframe tbody tr th {\n        vertical-align: top;\n    }\n\n    .dataframe thead th {\n        text-align: right;\n    }\n</style>\n<table border=\"1\" class=\"dataframe\">\n  <thead>\n    <tr style=\"text-align: right;\">\n      <th></th>\n      <th>example_name</th>\n      <th>time_taken</th>\n      <th>serialised_actions_taken</th>\n      <th>serialised_state</th>\n    </tr>\n  </thead>\n  <tbody>\n    <tr>\n      <th>0</th>\n      <td>Rover/p01.hddl</td>\n      <td>0.954148</td>\n      <td>serialised_objects\\Rover_p01hddl_Breadth_First...</td>\n      <td>serialised_objects\\Rover_p01hddl_Breadth_First...</td>\n    </tr>\n    <tr>\n      <th>1</th>\n      <td>Rover/p02.hddl</td>\n      <td>2.393128</td>\n      <td>serialised_objects\\Rover_p02hddl_Breadth_First...</td>\n      <td>serialised_objects\\Rover_p02hddl_Breadth_First...</td>\n    </tr>\n    <tr>\n      <th>2</th>\n      <td>Rover/p03.hddl</td>\n      <td>2.283809</td>\n      <td>serialised_objects\\Rover_p03hddl_Breadth_First...</td>\n      <td>serialised_objects\\Rover_p03hddl_Breadth_First...</td>\n    </tr>\n  </tbody>\n</table>\n</div>"
     },
     "execution_count": 7,
     "metadata": {},
     "output_type": "execute_result"
    }
   ],
   "source": [
    "# Load files\n",
    "data_path = os.path.join(os.getcwd(), \"Breadth_First_Operations1.csv\")\n",
    "breadth_first = pd.read_csv(data_path, sep=\",\")\n",
    "breadth_first"
   ],
   "metadata": {
    "collapsed": false,
    "pycharm": {
     "name": "#%%\n"
    }
   }
  },
  {
   "cell_type": "code",
   "execution_count": 14,
   "outputs": [
    {
     "name": "stdout",
     "output_type": "stream",
     "text": [
      "visit - waypoint1\n",
      "navigate - rover0 waypoint1 waypoint0\n",
      "unvisit - waypoint1\n",
      "nop\n",
      "sample_soil - rover0 rover0store waypoint0\n",
      "communicate_soil_data2 - rover0 general waypoint0 waypoint1\n",
      "nop\n",
      "drop - rover0 rover0store\n",
      "sample_rock - rover0 rover0store waypoint0\n",
      "communicate_rock_data2 - rover0 general waypoint0 waypoint1\n",
      "nop\n",
      "calibrate - rover0 camera0 objective0 waypoint0\n",
      "nop\n",
      "take_image - rover0 waypoint0 objective1 camera0 low_res\n",
      "nop\n",
      "communicate_image_data - rover0 general objective1 low_res waypoint0 waypoint1\n"
     ]
    }
   ],
   "source": [
    "file_name = breadth_first.iloc[0]['serialised_actions_taken']\n",
    "actions_taken = load_pickled_ob(file_name)\n",
    "display_actions_taken(actions_taken)"
   ],
   "metadata": {
    "collapsed": false,
    "pycharm": {
     "name": "#%%\n"
    }
   }
  },
  {
   "cell_type": "code",
   "execution_count": 16,
   "outputs": [
    {
     "name": "stdout",
     "output_type": "stream",
     "text": [
      "visible - waypoint0 waypoint1\n",
      "visible - waypoint1 waypoint0\n",
      "visible - waypoint1 waypoint2\n",
      "visible - waypoint2 waypoint1\n",
      "visible - waypoint1 waypoint3\n",
      "visible - waypoint3 waypoint1\n",
      "visible - waypoint2 waypoint0\n",
      "visible - waypoint0 waypoint2\n",
      "visible - waypoint2 waypoint3\n",
      "visible - waypoint3 waypoint2\n",
      "visible - waypoint3 waypoint0\n",
      "visible - waypoint0 waypoint3\n",
      "at_lander - general waypoint1\n",
      "channel_free - general\n",
      "available - rover0\n",
      "store_of - rover0store rover0\n",
      "equipped_for_soil_analysis - rover0\n",
      "equipped_for_rock_analysis - rover0\n",
      "equipped_for_imaging - rover0\n",
      "can_traverse - rover0 waypoint0 waypoint1\n",
      "can_traverse - rover0 waypoint1 waypoint0\n",
      "can_traverse - rover0 waypoint0 waypoint2\n",
      "can_traverse - rover0 waypoint2 waypoint0\n",
      "can_traverse - rover0 waypoint0 waypoint3\n",
      "can_traverse - rover0 waypoint3 waypoint0\n",
      "on_board - camera0 rover0\n",
      "calibration_target - camera0 objective0\n",
      "supports - camera0 colour\n",
      "supports - camera0 high_res\n",
      "supports - camera0 low_res\n",
      "on_board - camera1 rover0\n",
      "calibration_target - camera1 objective1\n",
      "supports - camera1 high_res\n",
      "visible_from - objective0 waypoint0\n",
      "visible_from - objective1 waypoint0\n",
      "visible_from - objective1 waypoint1\n",
      "visible_from - objective1 waypoint2\n",
      "at - rover0 waypoint0\n",
      "have_soil_analysis - rover0 waypoint0\n",
      "communicated_soil_data - waypoint0\n",
      "available - rover0\n",
      "full - rover0store\n",
      "have_rock_analysis - rover0 waypoint0\n",
      "communicated_rock_data - waypoint0\n",
      "available - rover0\n",
      "have_image - rover0 objective1 low_res\n",
      "communicated_image_data - objective1 low_res\n",
      "available - rover0\n",
      "channel_free - general\n"
     ]
    }
   ],
   "source": [
    "file_name = breadth_first.iloc[0]['serialised_state']\n",
    "final_state = load_pickled_ob(file_name)\n",
    "display_final_state(final_state)"
   ],
   "metadata": {
    "collapsed": false,
    "pycharm": {
     "name": "#%%\n"
    }
   }
  }
 ],
 "metadata": {
  "kernelspec": {
   "display_name": "Python 3",
   "language": "python",
   "name": "python3"
  },
  "language_info": {
   "codemirror_mode": {
    "name": "ipython",
    "version": 2
   },
   "file_extension": ".py",
   "mimetype": "text/x-python",
   "name": "python",
   "nbconvert_exporter": "python",
   "pygments_lexer": "ipython2",
   "version": "2.7.6"
  }
 },
 "nbformat": 4,
 "nbformat_minor": 0
}