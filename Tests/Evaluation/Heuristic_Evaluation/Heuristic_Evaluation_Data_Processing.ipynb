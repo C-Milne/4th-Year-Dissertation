{
 "cells": [
  {
   "cell_type": "code",
   "execution_count": 1,
   "metadata": {
    "collapsed": true,
    "pycharm": {
     "name": "#%%\n"
    }
   },
   "outputs": [],
   "source": [
    "import pickle\n",
    "import os\n",
    "import sys\n",
    "from statistics import mean\n",
    "import numpy as np\n",
    "import pandas as pd\n",
    "import matplotlib.pyplot as plt\n",
    "working_dir = os.getcwd()\n",
    "os.chdir(\"../../..\")\n",
    "sys.path.append(os.getcwd())\n",
    "from Internal_Representation.state import State\n",
    "from Solver.action_tracker import ActionTracker\n",
    "from runner import Runner\n",
    "os.chdir(working_dir)"
   ]
  },
  {
   "cell_type": "code",
   "execution_count": 2,
   "outputs": [
    {
     "data": {
      "text/plain": "'C:\\\\Users\\\\Cael\\\\Documents\\\\University\\\\4th year\\\\Dissertation\\\\4th-Year-Dissertation\\\\Tests\\\\Evaluation\\\\Heuristic_Evaluation'"
     },
     "execution_count": 2,
     "metadata": {},
     "output_type": "execute_result"
    }
   ],
   "source": [
    "os.getcwd()"
   ],
   "metadata": {
    "collapsed": false,
    "pycharm": {
     "name": "#%%\n"
    }
   }
  },
  {
   "cell_type": "code",
   "execution_count": 3,
   "outputs": [],
   "source": [
    "# Load pickled Object\n",
    "def load_pickled_ob(file_name):\n",
    "    with (open(file_name, \"rb\")) as openfile:\n",
    "        while True:\n",
    "            try:\n",
    "                return pickle.load(openfile)\n",
    "            except EOFError:\n",
    "                break"
   ],
   "metadata": {
    "collapsed": false,
    "pycharm": {
     "name": "#%%\n"
    }
   }
  },
  {
   "cell_type": "code",
   "execution_count": 4,
   "outputs": [],
   "source": [
    "# Display pickled actions_taken\n",
    "def display_actions_taken(actions):\n",
    "    for a in actions:\n",
    "        print(a)"
   ],
   "metadata": {
    "collapsed": false,
    "pycharm": {
     "name": "#%%\n"
    }
   }
  },
  {
   "cell_type": "code",
   "execution_count": 5,
   "outputs": [],
   "source": [
    "# Display pickled final state\n",
    "def display_final_state(final_state):\n",
    "    print(final_state)"
   ],
   "metadata": {
    "collapsed": false,
    "pycharm": {
     "name": "#%%\n"
    }
   }
  },
  {
   "cell_type": "code",
   "execution_count": 6,
   "outputs": [
    {
     "data": {
      "text/plain": "{'Basic/pb1.hddl': 46,\n 'Rover/p01.hddl': 483,\n 'Rover/p02.hddl': 486,\n 'Rover/p03.hddl': 501,\n 'Rover/p04.hddl': 554,\n 'Rover/p05.hddl': 633,\n 'Rover/p06.hddl': 648,\n 'Rover/p07.hddl': 724}"
     },
     "execution_count": 6,
     "metadata": {},
     "output_type": "execute_result"
    }
   ],
   "source": [
    "size_dict = load_pickled_ob(\"problem_sizes.pickle\")\n",
    "size_dict"
   ],
   "metadata": {
    "collapsed": false,
    "pycharm": {
     "name": "#%%\n"
    }
   }
  },
  {
   "cell_type": "code",
   "execution_count": 7,
   "outputs": [],
   "source": [
    "class average_time:\n",
    "    def __init__(self):\n",
    "        self.times = {} # {'roverp0': float}\n",
    "        self.num_models = {}    # {'roverp0': float}\n",
    "\n",
    "    def calculate_average_time(self, problem_name: str, times: list) -> None:\n",
    "        self.times[problem_name] = mean(times)\n",
    "\n",
    "    def calculate_average_model(self, problem_name: str, num_models: list) -> None:\n",
    "        self.num_models[problem_name] = mean(num_models)\n",
    "\n",
    "    def get_num_models(self, problem_name: str) -> float:\n",
    "        return self.num_models[problem_name]\n",
    "\n",
    "    def __getitem__(self, item):\n",
    "        return self.times[item]"
   ],
   "metadata": {
    "collapsed": false,
    "pycharm": {
     "name": "#%%\n"
    }
   }
  },
  {
   "cell_type": "code",
   "execution_count": 8,
   "outputs": [],
   "source": [
    "def generate_graph(example_names: list, config_names: list, colours: list, values: list,\n",
    "                   title=\"Average Time Taken for Solving\", y_axis=\"Average Time Taken (Seconds)\"):\n",
    "    assert len(config_names) == len(colours) == len(values)\n",
    "    assert all([len(x) == len(example_names) for x in values])\n",
    "    plt.figure(figsize=(18, 8))\n",
    "\n",
    "    i, l = 0, len(config_names)\n",
    "    while i < l:\n",
    "        plt.plot([values[i][y] for y in range(len(values[i]))], 'bo-', label=r'{}'.format(config_names[i]), color=colours[i], alpha=0.6, linewidth=3)\n",
    "        i += 1\n",
    "    # plt.xticks(range(0, len(example_names)), example_names)\n",
    "    plt.locator_params(axis='x', nbins=len(example_names))\n",
    "    plt.xlabel('Problem Name'); plt.ylabel(r'{}'.format(y_axis))\n",
    "    plt.title(r'{}'.format(title))\n",
    "    plt.legend(loc='best')\n",
    "    # plt.savefig(\"{}_ABS_features_Weight_plot.svg\".format('lasso - Ridge'), dpi=500)  # Save graph to file\n",
    "    plt.grid()"
   ],
   "metadata": {
    "collapsed": false,
    "pycharm": {
     "name": "#%%\n"
    }
   }
  },
  {
   "cell_type": "markdown",
   "source": [
    "# Running operations on collected Data"
   ],
   "metadata": {
    "collapsed": false,
    "pycharm": {
     "name": "#%% md\n"
    }
   }
  },
  {
   "cell_type": "markdown",
   "source": [
    "## Rover p0 -> p3 with early precondition checking and without"
   ],
   "metadata": {
    "collapsed": false,
    "pycharm": {
     "name": "#%% md\n"
    }
   }
  },
  {
   "cell_type": "code",
   "execution_count": 9,
   "outputs": [
    {
     "data": {
      "text/plain": "      example_name  time_taken  search_models_created  \\\n0   Rover/p01.hddl    0.401264                   1391   \n1   Rover/p01.hddl    0.489056                   2782   \n2   Rover/p01.hddl    0.427552                   4173   \n3   Rover/p01.hddl    0.426063                   5564   \n4   Rover/p01.hddl    0.433008                   6955   \n5   Rover/p02.hddl    1.011344                   9502   \n6   Rover/p02.hddl    1.014320                  12049   \n7   Rover/p02.hddl    1.083760                  14596   \n8   Rover/p02.hddl    1.002416                  17143   \n9   Rover/p02.hddl    1.030688                  19690   \n10  Rover/p03.hddl    0.890816                  22076   \n11  Rover/p03.hddl    0.941905                  24462   \n12  Rover/p03.hddl    0.888335                  26848   \n13  Rover/p03.hddl    0.863536                  29234   \n14  Rover/p03.hddl    0.875440                  31620   \n\n                             serialised_actions_taken  \\\n0   serialised_objects\\Rover_p01hddl_Breadth_First...   \n1   serialised_objects\\Rover_p01hddl_Breadth_First...   \n2   serialised_objects\\Rover_p01hddl_Breadth_First...   \n3   serialised_objects\\Rover_p01hddl_Breadth_First...   \n4   serialised_objects\\Rover_p01hddl_Breadth_First...   \n5   serialised_objects\\Rover_p02hddl_Breadth_First...   \n6   serialised_objects\\Rover_p02hddl_Breadth_First...   \n7   serialised_objects\\Rover_p02hddl_Breadth_First...   \n8   serialised_objects\\Rover_p02hddl_Breadth_First...   \n9   serialised_objects\\Rover_p02hddl_Breadth_First...   \n10  serialised_objects\\Rover_p03hddl_Breadth_First...   \n11  serialised_objects\\Rover_p03hddl_Breadth_First...   \n12  serialised_objects\\Rover_p03hddl_Breadth_First...   \n13  serialised_objects\\Rover_p03hddl_Breadth_First...   \n14  serialised_objects\\Rover_p03hddl_Breadth_First...   \n\n                                     serialised_state  \n0   serialised_objects\\Rover_p01hddl_Breadth_First...  \n1   serialised_objects\\Rover_p01hddl_Breadth_First...  \n2   serialised_objects\\Rover_p01hddl_Breadth_First...  \n3   serialised_objects\\Rover_p01hddl_Breadth_First...  \n4   serialised_objects\\Rover_p01hddl_Breadth_First...  \n5   serialised_objects\\Rover_p02hddl_Breadth_First...  \n6   serialised_objects\\Rover_p02hddl_Breadth_First...  \n7   serialised_objects\\Rover_p02hddl_Breadth_First...  \n8   serialised_objects\\Rover_p02hddl_Breadth_First...  \n9   serialised_objects\\Rover_p02hddl_Breadth_First...  \n10  serialised_objects\\Rover_p03hddl_Breadth_First...  \n11  serialised_objects\\Rover_p03hddl_Breadth_First...  \n12  serialised_objects\\Rover_p03hddl_Breadth_First...  \n13  serialised_objects\\Rover_p03hddl_Breadth_First...  \n14  serialised_objects\\Rover_p03hddl_Breadth_First...  ",
      "text/html": "<div>\n<style scoped>\n    .dataframe tbody tr th:only-of-type {\n        vertical-align: middle;\n    }\n\n    .dataframe tbody tr th {\n        vertical-align: top;\n    }\n\n    .dataframe thead th {\n        text-align: right;\n    }\n</style>\n<table border=\"1\" class=\"dataframe\">\n  <thead>\n    <tr style=\"text-align: right;\">\n      <th></th>\n      <th>example_name</th>\n      <th>time_taken</th>\n      <th>search_models_created</th>\n      <th>serialised_actions_taken</th>\n      <th>serialised_state</th>\n    </tr>\n  </thead>\n  <tbody>\n    <tr>\n      <th>0</th>\n      <td>Rover/p01.hddl</td>\n      <td>0.401264</td>\n      <td>1391</td>\n      <td>serialised_objects\\Rover_p01hddl_Breadth_First...</td>\n      <td>serialised_objects\\Rover_p01hddl_Breadth_First...</td>\n    </tr>\n    <tr>\n      <th>1</th>\n      <td>Rover/p01.hddl</td>\n      <td>0.489056</td>\n      <td>2782</td>\n      <td>serialised_objects\\Rover_p01hddl_Breadth_First...</td>\n      <td>serialised_objects\\Rover_p01hddl_Breadth_First...</td>\n    </tr>\n    <tr>\n      <th>2</th>\n      <td>Rover/p01.hddl</td>\n      <td>0.427552</td>\n      <td>4173</td>\n      <td>serialised_objects\\Rover_p01hddl_Breadth_First...</td>\n      <td>serialised_objects\\Rover_p01hddl_Breadth_First...</td>\n    </tr>\n    <tr>\n      <th>3</th>\n      <td>Rover/p01.hddl</td>\n      <td>0.426063</td>\n      <td>5564</td>\n      <td>serialised_objects\\Rover_p01hddl_Breadth_First...</td>\n      <td>serialised_objects\\Rover_p01hddl_Breadth_First...</td>\n    </tr>\n    <tr>\n      <th>4</th>\n      <td>Rover/p01.hddl</td>\n      <td>0.433008</td>\n      <td>6955</td>\n      <td>serialised_objects\\Rover_p01hddl_Breadth_First...</td>\n      <td>serialised_objects\\Rover_p01hddl_Breadth_First...</td>\n    </tr>\n    <tr>\n      <th>5</th>\n      <td>Rover/p02.hddl</td>\n      <td>1.011344</td>\n      <td>9502</td>\n      <td>serialised_objects\\Rover_p02hddl_Breadth_First...</td>\n      <td>serialised_objects\\Rover_p02hddl_Breadth_First...</td>\n    </tr>\n    <tr>\n      <th>6</th>\n      <td>Rover/p02.hddl</td>\n      <td>1.014320</td>\n      <td>12049</td>\n      <td>serialised_objects\\Rover_p02hddl_Breadth_First...</td>\n      <td>serialised_objects\\Rover_p02hddl_Breadth_First...</td>\n    </tr>\n    <tr>\n      <th>7</th>\n      <td>Rover/p02.hddl</td>\n      <td>1.083760</td>\n      <td>14596</td>\n      <td>serialised_objects\\Rover_p02hddl_Breadth_First...</td>\n      <td>serialised_objects\\Rover_p02hddl_Breadth_First...</td>\n    </tr>\n    <tr>\n      <th>8</th>\n      <td>Rover/p02.hddl</td>\n      <td>1.002416</td>\n      <td>17143</td>\n      <td>serialised_objects\\Rover_p02hddl_Breadth_First...</td>\n      <td>serialised_objects\\Rover_p02hddl_Breadth_First...</td>\n    </tr>\n    <tr>\n      <th>9</th>\n      <td>Rover/p02.hddl</td>\n      <td>1.030688</td>\n      <td>19690</td>\n      <td>serialised_objects\\Rover_p02hddl_Breadth_First...</td>\n      <td>serialised_objects\\Rover_p02hddl_Breadth_First...</td>\n    </tr>\n    <tr>\n      <th>10</th>\n      <td>Rover/p03.hddl</td>\n      <td>0.890816</td>\n      <td>22076</td>\n      <td>serialised_objects\\Rover_p03hddl_Breadth_First...</td>\n      <td>serialised_objects\\Rover_p03hddl_Breadth_First...</td>\n    </tr>\n    <tr>\n      <th>11</th>\n      <td>Rover/p03.hddl</td>\n      <td>0.941905</td>\n      <td>24462</td>\n      <td>serialised_objects\\Rover_p03hddl_Breadth_First...</td>\n      <td>serialised_objects\\Rover_p03hddl_Breadth_First...</td>\n    </tr>\n    <tr>\n      <th>12</th>\n      <td>Rover/p03.hddl</td>\n      <td>0.888335</td>\n      <td>26848</td>\n      <td>serialised_objects\\Rover_p03hddl_Breadth_First...</td>\n      <td>serialised_objects\\Rover_p03hddl_Breadth_First...</td>\n    </tr>\n    <tr>\n      <th>13</th>\n      <td>Rover/p03.hddl</td>\n      <td>0.863536</td>\n      <td>29234</td>\n      <td>serialised_objects\\Rover_p03hddl_Breadth_First...</td>\n      <td>serialised_objects\\Rover_p03hddl_Breadth_First...</td>\n    </tr>\n    <tr>\n      <th>14</th>\n      <td>Rover/p03.hddl</td>\n      <td>0.875440</td>\n      <td>31620</td>\n      <td>serialised_objects\\Rover_p03hddl_Breadth_First...</td>\n      <td>serialised_objects\\Rover_p03hddl_Breadth_First...</td>\n    </tr>\n  </tbody>\n</table>\n</div>"
     },
     "execution_count": 9,
     "metadata": {},
     "output_type": "execute_result"
    }
   ],
   "source": [
    "\"\"\"Load data from breadth first - no early precondition checker\"\"\"\n",
    "breadth_first_no_early_precon_check_data_path = os.path.join(os.getcwd(), \"Archive\", \"rover_no_early_precon\", \"Breadth_First_Operations.csv\")\n",
    "breadth_first_no_early_precon_check = pd.read_csv(breadth_first_no_early_precon_check_data_path, sep=\",\")\n",
    "\n",
    "breadth_first_no_early_precon_check_av_time = average_time()\n",
    "for example_name in breadth_first_no_early_precon_check.example_name.unique():\n",
    "\n",
    "    breadth_first_no_early_precon_check_av_time.calculate_average_time(example_name, breadth_first_no_early_precon_check[breadth_first_no_early_precon_check['example_name'] == example_name]['time_taken'])\n",
    "\n",
    "    breadth_first_no_early_precon_check_av_time.calculate_average_model(example_name,                               breadth_first_no_early_precon_check[breadth_first_no_early_precon_check['example_name'] == example_name]['search_models_created'])\n",
    "\n",
    "breadth_first_no_early_precon_check"
   ],
   "metadata": {
    "collapsed": false,
    "pycharm": {
     "name": "#%%\n"
    }
   }
  },
  {
   "cell_type": "code",
   "execution_count": 13,
   "outputs": [
    {
     "ename": "FileNotFoundError",
     "evalue": "[Errno 2] No such file or directory: 'C:\\\\Users\\\\Cael\\\\Documents\\\\University\\\\4th year\\\\Dissertation\\\\4th-Year-Dissertation\\\\Tests\\\\Evaluation\\\\Heuristic_Evaluation\\\\Archive\\\\Rover\\\\Breadth_First_Operations.csv'",
     "output_type": "error",
     "traceback": [
      "\u001B[1;31m---------------------------------------------------------------------------\u001B[0m",
      "\u001B[1;31mFileNotFoundError\u001B[0m                         Traceback (most recent call last)",
      "\u001B[1;32m<ipython-input-13-7fc7490dfb0c>\u001B[0m in \u001B[0;36m<module>\u001B[1;34m\u001B[0m\n\u001B[0;32m      1\u001B[0m \u001B[1;34m\"\"\"Load data from breadth first\"\"\"\u001B[0m\u001B[1;33m\u001B[0m\u001B[1;33m\u001B[0m\u001B[0m\n\u001B[0;32m      2\u001B[0m \u001B[0mbreadth_first_early_precon_check_data_path\u001B[0m \u001B[1;33m=\u001B[0m \u001B[0mos\u001B[0m\u001B[1;33m.\u001B[0m\u001B[0mpath\u001B[0m\u001B[1;33m.\u001B[0m\u001B[0mjoin\u001B[0m\u001B[1;33m(\u001B[0m\u001B[0mos\u001B[0m\u001B[1;33m.\u001B[0m\u001B[0mgetcwd\u001B[0m\u001B[1;33m(\u001B[0m\u001B[1;33m)\u001B[0m\u001B[1;33m,\u001B[0m \u001B[1;34m\"Archive\"\u001B[0m\u001B[1;33m,\u001B[0m \u001B[1;34m\"Rover\"\u001B[0m\u001B[1;33m,\u001B[0m \u001B[1;34m\"Breadth_First_Operations.csv\"\u001B[0m\u001B[1;33m)\u001B[0m\u001B[1;33m\u001B[0m\u001B[1;33m\u001B[0m\u001B[0m\n\u001B[1;32m----> 3\u001B[1;33m \u001B[0mbreadth_first_early_precon_check\u001B[0m \u001B[1;33m=\u001B[0m \u001B[0mpd\u001B[0m\u001B[1;33m.\u001B[0m\u001B[0mread_csv\u001B[0m\u001B[1;33m(\u001B[0m\u001B[0mbreadth_first_early_precon_check_data_path\u001B[0m\u001B[1;33m,\u001B[0m \u001B[0msep\u001B[0m\u001B[1;33m=\u001B[0m\u001B[1;34m\",\"\u001B[0m\u001B[1;33m)\u001B[0m\u001B[1;33m\u001B[0m\u001B[1;33m\u001B[0m\u001B[0m\n\u001B[0m\u001B[0;32m      4\u001B[0m \u001B[1;33m\u001B[0m\u001B[0m\n\u001B[0;32m      5\u001B[0m \u001B[0mbreadth_first_early_precon_check_av_time\u001B[0m \u001B[1;33m=\u001B[0m \u001B[0maverage_time\u001B[0m\u001B[1;33m(\u001B[0m\u001B[1;33m)\u001B[0m\u001B[1;33m\u001B[0m\u001B[1;33m\u001B[0m\u001B[0m\n",
      "\u001B[1;32m~\\anaconda3\\lib\\site-packages\\pandas\\io\\parsers.py\u001B[0m in \u001B[0;36mread_csv\u001B[1;34m(filepath_or_buffer, sep, delimiter, header, names, index_col, usecols, squeeze, prefix, mangle_dupe_cols, dtype, engine, converters, true_values, false_values, skipinitialspace, skiprows, skipfooter, nrows, na_values, keep_default_na, na_filter, verbose, skip_blank_lines, parse_dates, infer_datetime_format, keep_date_col, date_parser, dayfirst, cache_dates, iterator, chunksize, compression, thousands, decimal, lineterminator, quotechar, quoting, doublequote, escapechar, comment, encoding, dialect, error_bad_lines, warn_bad_lines, delim_whitespace, low_memory, memory_map, float_precision, storage_options)\u001B[0m\n\u001B[0;32m    608\u001B[0m     \u001B[0mkwds\u001B[0m\u001B[1;33m.\u001B[0m\u001B[0mupdate\u001B[0m\u001B[1;33m(\u001B[0m\u001B[0mkwds_defaults\u001B[0m\u001B[1;33m)\u001B[0m\u001B[1;33m\u001B[0m\u001B[1;33m\u001B[0m\u001B[0m\n\u001B[0;32m    609\u001B[0m \u001B[1;33m\u001B[0m\u001B[0m\n\u001B[1;32m--> 610\u001B[1;33m     \u001B[1;32mreturn\u001B[0m \u001B[0m_read\u001B[0m\u001B[1;33m(\u001B[0m\u001B[0mfilepath_or_buffer\u001B[0m\u001B[1;33m,\u001B[0m \u001B[0mkwds\u001B[0m\u001B[1;33m)\u001B[0m\u001B[1;33m\u001B[0m\u001B[1;33m\u001B[0m\u001B[0m\n\u001B[0m\u001B[0;32m    611\u001B[0m \u001B[1;33m\u001B[0m\u001B[0m\n\u001B[0;32m    612\u001B[0m \u001B[1;33m\u001B[0m\u001B[0m\n",
      "\u001B[1;32m~\\anaconda3\\lib\\site-packages\\pandas\\io\\parsers.py\u001B[0m in \u001B[0;36m_read\u001B[1;34m(filepath_or_buffer, kwds)\u001B[0m\n\u001B[0;32m    460\u001B[0m \u001B[1;33m\u001B[0m\u001B[0m\n\u001B[0;32m    461\u001B[0m     \u001B[1;31m# Create the parser.\u001B[0m\u001B[1;33m\u001B[0m\u001B[1;33m\u001B[0m\u001B[1;33m\u001B[0m\u001B[0m\n\u001B[1;32m--> 462\u001B[1;33m     \u001B[0mparser\u001B[0m \u001B[1;33m=\u001B[0m \u001B[0mTextFileReader\u001B[0m\u001B[1;33m(\u001B[0m\u001B[0mfilepath_or_buffer\u001B[0m\u001B[1;33m,\u001B[0m \u001B[1;33m**\u001B[0m\u001B[0mkwds\u001B[0m\u001B[1;33m)\u001B[0m\u001B[1;33m\u001B[0m\u001B[1;33m\u001B[0m\u001B[0m\n\u001B[0m\u001B[0;32m    463\u001B[0m \u001B[1;33m\u001B[0m\u001B[0m\n\u001B[0;32m    464\u001B[0m     \u001B[1;32mif\u001B[0m \u001B[0mchunksize\u001B[0m \u001B[1;32mor\u001B[0m \u001B[0miterator\u001B[0m\u001B[1;33m:\u001B[0m\u001B[1;33m\u001B[0m\u001B[1;33m\u001B[0m\u001B[0m\n",
      "\u001B[1;32m~\\anaconda3\\lib\\site-packages\\pandas\\io\\parsers.py\u001B[0m in \u001B[0;36m__init__\u001B[1;34m(self, f, engine, **kwds)\u001B[0m\n\u001B[0;32m    817\u001B[0m             \u001B[0mself\u001B[0m\u001B[1;33m.\u001B[0m\u001B[0moptions\u001B[0m\u001B[1;33m[\u001B[0m\u001B[1;34m\"has_index_names\"\u001B[0m\u001B[1;33m]\u001B[0m \u001B[1;33m=\u001B[0m \u001B[0mkwds\u001B[0m\u001B[1;33m[\u001B[0m\u001B[1;34m\"has_index_names\"\u001B[0m\u001B[1;33m]\u001B[0m\u001B[1;33m\u001B[0m\u001B[1;33m\u001B[0m\u001B[0m\n\u001B[0;32m    818\u001B[0m \u001B[1;33m\u001B[0m\u001B[0m\n\u001B[1;32m--> 819\u001B[1;33m         \u001B[0mself\u001B[0m\u001B[1;33m.\u001B[0m\u001B[0m_engine\u001B[0m \u001B[1;33m=\u001B[0m \u001B[0mself\u001B[0m\u001B[1;33m.\u001B[0m\u001B[0m_make_engine\u001B[0m\u001B[1;33m(\u001B[0m\u001B[0mself\u001B[0m\u001B[1;33m.\u001B[0m\u001B[0mengine\u001B[0m\u001B[1;33m)\u001B[0m\u001B[1;33m\u001B[0m\u001B[1;33m\u001B[0m\u001B[0m\n\u001B[0m\u001B[0;32m    820\u001B[0m \u001B[1;33m\u001B[0m\u001B[0m\n\u001B[0;32m    821\u001B[0m     \u001B[1;32mdef\u001B[0m \u001B[0mclose\u001B[0m\u001B[1;33m(\u001B[0m\u001B[0mself\u001B[0m\u001B[1;33m)\u001B[0m\u001B[1;33m:\u001B[0m\u001B[1;33m\u001B[0m\u001B[1;33m\u001B[0m\u001B[0m\n",
      "\u001B[1;32m~\\anaconda3\\lib\\site-packages\\pandas\\io\\parsers.py\u001B[0m in \u001B[0;36m_make_engine\u001B[1;34m(self, engine)\u001B[0m\n\u001B[0;32m   1048\u001B[0m             )\n\u001B[0;32m   1049\u001B[0m         \u001B[1;31m# error: Too many arguments for \"ParserBase\"\u001B[0m\u001B[1;33m\u001B[0m\u001B[1;33m\u001B[0m\u001B[1;33m\u001B[0m\u001B[0m\n\u001B[1;32m-> 1050\u001B[1;33m         \u001B[1;32mreturn\u001B[0m \u001B[0mmapping\u001B[0m\u001B[1;33m[\u001B[0m\u001B[0mengine\u001B[0m\u001B[1;33m]\u001B[0m\u001B[1;33m(\u001B[0m\u001B[0mself\u001B[0m\u001B[1;33m.\u001B[0m\u001B[0mf\u001B[0m\u001B[1;33m,\u001B[0m \u001B[1;33m**\u001B[0m\u001B[0mself\u001B[0m\u001B[1;33m.\u001B[0m\u001B[0moptions\u001B[0m\u001B[1;33m)\u001B[0m  \u001B[1;31m# type: ignore[call-arg]\u001B[0m\u001B[1;33m\u001B[0m\u001B[1;33m\u001B[0m\u001B[0m\n\u001B[0m\u001B[0;32m   1051\u001B[0m \u001B[1;33m\u001B[0m\u001B[0m\n\u001B[0;32m   1052\u001B[0m     \u001B[1;32mdef\u001B[0m \u001B[0m_failover_to_python\u001B[0m\u001B[1;33m(\u001B[0m\u001B[0mself\u001B[0m\u001B[1;33m)\u001B[0m\u001B[1;33m:\u001B[0m\u001B[1;33m\u001B[0m\u001B[1;33m\u001B[0m\u001B[0m\n",
      "\u001B[1;32m~\\anaconda3\\lib\\site-packages\\pandas\\io\\parsers.py\u001B[0m in \u001B[0;36m__init__\u001B[1;34m(self, src, **kwds)\u001B[0m\n\u001B[0;32m   1865\u001B[0m \u001B[1;33m\u001B[0m\u001B[0m\n\u001B[0;32m   1866\u001B[0m         \u001B[1;31m# open handles\u001B[0m\u001B[1;33m\u001B[0m\u001B[1;33m\u001B[0m\u001B[1;33m\u001B[0m\u001B[0m\n\u001B[1;32m-> 1867\u001B[1;33m         \u001B[0mself\u001B[0m\u001B[1;33m.\u001B[0m\u001B[0m_open_handles\u001B[0m\u001B[1;33m(\u001B[0m\u001B[0msrc\u001B[0m\u001B[1;33m,\u001B[0m \u001B[0mkwds\u001B[0m\u001B[1;33m)\u001B[0m\u001B[1;33m\u001B[0m\u001B[1;33m\u001B[0m\u001B[0m\n\u001B[0m\u001B[0;32m   1868\u001B[0m         \u001B[1;32massert\u001B[0m \u001B[0mself\u001B[0m\u001B[1;33m.\u001B[0m\u001B[0mhandles\u001B[0m \u001B[1;32mis\u001B[0m \u001B[1;32mnot\u001B[0m \u001B[1;32mNone\u001B[0m\u001B[1;33m\u001B[0m\u001B[1;33m\u001B[0m\u001B[0m\n\u001B[0;32m   1869\u001B[0m         \u001B[1;32mfor\u001B[0m \u001B[0mkey\u001B[0m \u001B[1;32min\u001B[0m \u001B[1;33m(\u001B[0m\u001B[1;34m\"storage_options\"\u001B[0m\u001B[1;33m,\u001B[0m \u001B[1;34m\"encoding\"\u001B[0m\u001B[1;33m,\u001B[0m \u001B[1;34m\"memory_map\"\u001B[0m\u001B[1;33m,\u001B[0m \u001B[1;34m\"compression\"\u001B[0m\u001B[1;33m)\u001B[0m\u001B[1;33m:\u001B[0m\u001B[1;33m\u001B[0m\u001B[1;33m\u001B[0m\u001B[0m\n",
      "\u001B[1;32m~\\anaconda3\\lib\\site-packages\\pandas\\io\\parsers.py\u001B[0m in \u001B[0;36m_open_handles\u001B[1;34m(self, src, kwds)\u001B[0m\n\u001B[0;32m   1360\u001B[0m         \u001B[0mLet\u001B[0m \u001B[0mthe\u001B[0m \u001B[0mreaders\u001B[0m \u001B[0mopen\u001B[0m \u001B[0mIOHanldes\u001B[0m \u001B[0mafter\u001B[0m \u001B[0mthey\u001B[0m \u001B[0mare\u001B[0m \u001B[0mdone\u001B[0m \u001B[1;32mwith\u001B[0m \u001B[0mtheir\u001B[0m \u001B[0mpotential\u001B[0m \u001B[0mraises\u001B[0m\u001B[1;33m.\u001B[0m\u001B[1;33m\u001B[0m\u001B[1;33m\u001B[0m\u001B[0m\n\u001B[0;32m   1361\u001B[0m         \"\"\"\n\u001B[1;32m-> 1362\u001B[1;33m         self.handles = get_handle(\n\u001B[0m\u001B[0;32m   1363\u001B[0m             \u001B[0msrc\u001B[0m\u001B[1;33m,\u001B[0m\u001B[1;33m\u001B[0m\u001B[1;33m\u001B[0m\u001B[0m\n\u001B[0;32m   1364\u001B[0m             \u001B[1;34m\"r\"\u001B[0m\u001B[1;33m,\u001B[0m\u001B[1;33m\u001B[0m\u001B[1;33m\u001B[0m\u001B[0m\n",
      "\u001B[1;32m~\\anaconda3\\lib\\site-packages\\pandas\\io\\common.py\u001B[0m in \u001B[0;36mget_handle\u001B[1;34m(path_or_buf, mode, encoding, compression, memory_map, is_text, errors, storage_options)\u001B[0m\n\u001B[0;32m    640\u001B[0m                 \u001B[0merrors\u001B[0m \u001B[1;33m=\u001B[0m \u001B[1;34m\"replace\"\u001B[0m\u001B[1;33m\u001B[0m\u001B[1;33m\u001B[0m\u001B[0m\n\u001B[0;32m    641\u001B[0m             \u001B[1;31m# Encoding\u001B[0m\u001B[1;33m\u001B[0m\u001B[1;33m\u001B[0m\u001B[1;33m\u001B[0m\u001B[0m\n\u001B[1;32m--> 642\u001B[1;33m             handle = open(\n\u001B[0m\u001B[0;32m    643\u001B[0m                 \u001B[0mhandle\u001B[0m\u001B[1;33m,\u001B[0m\u001B[1;33m\u001B[0m\u001B[1;33m\u001B[0m\u001B[0m\n\u001B[0;32m    644\u001B[0m                 \u001B[0mioargs\u001B[0m\u001B[1;33m.\u001B[0m\u001B[0mmode\u001B[0m\u001B[1;33m,\u001B[0m\u001B[1;33m\u001B[0m\u001B[1;33m\u001B[0m\u001B[0m\n",
      "\u001B[1;31mFileNotFoundError\u001B[0m: [Errno 2] No such file or directory: 'C:\\\\Users\\\\Cael\\\\Documents\\\\University\\\\4th year\\\\Dissertation\\\\4th-Year-Dissertation\\\\Tests\\\\Evaluation\\\\Heuristic_Evaluation\\\\Archive\\\\Rover\\\\Breadth_First_Operations.csv'"
     ]
    }
   ],
   "source": [
    "\"\"\"Load data from breadth first\"\"\"\n",
    "breadth_first_early_precon_check_data_path = os.path.join(os.getcwd(), \"Archive\", \"Rover\", \"Breadth_First_Operations.csv\")\n",
    "breadth_first_early_precon_check = pd.read_csv(breadth_first_early_precon_check_data_path, sep=\",\")\n",
    "\n",
    "breadth_first_early_precon_check_av_time = average_time()\n",
    "for example_name in breadth_first_early_precon_check.example_name.unique():\n",
    "\n",
    "    breadth_first_early_precon_check_av_time.calculate_average_time(example_name, breadth_first_early_precon_check[breadth_first_early_precon_check['example_name'] == example_name]['time_taken'])\n",
    "\n",
    "    breadth_first_early_precon_check_av_time.calculate_average_model(example_name, breadth_first_early_precon_check[breadth_first_early_precon_check['example_name'] == example_name]['search_models_created'])\n",
    "\n",
    "breadth_first_early_precon_check"
   ],
   "metadata": {
    "collapsed": false,
    "pycharm": {
     "name": "#%%\n"
    }
   }
  },
  {
   "cell_type": "code",
   "execution_count": null,
   "outputs": [],
   "source": [
    "\"\"\"Create Graph\"\"\"\n",
    "generate_graph([\"Rover/p01.hddl\", \"Rover/p02.hddl\", \"Rover/p03.hddl\"], [\"Breadth First (No Early Precondition Checking)\", \"Breadth First\"], [\"darkblue\", \"yellow\"], [\n",
    "[breadth_first_no_early_precon_check_av_time[\"Rover/p01.hddl\"],\n",
    " breadth_first_no_early_precon_check_av_time[\"Rover/p02.hddl\"],\n",
    " breadth_first_no_early_precon_check_av_time[\"Rover/p03.hddl\"]],\n",
    "[breadth_first_early_precon_check_av_time[\"Rover/p01.hddl\"],\n",
    " breadth_first_early_precon_check_av_time[\"Rover/p02.hddl\"],\n",
    " breadth_first_early_precon_check_av_time[\"Rover/p03.hddl\"]]\n",
    "])"
   ],
   "metadata": {
    "collapsed": false,
    "pycharm": {
     "name": "#%%\n"
    }
   }
  },
  {
   "cell_type": "code",
   "execution_count": null,
   "outputs": [],
   "source": [
    "\"\"\"Stats test\"\"\""
   ],
   "metadata": {
    "collapsed": false,
    "pycharm": {
     "name": "#%%\n"
    }
   }
  },
  {
   "cell_type": "markdown",
   "source": [
    "## Rover p4 -> p7 with and without early precon checking"
   ],
   "metadata": {
    "collapsed": false,
    "pycharm": {
     "name": "#%% md\n"
    }
   }
  },
  {
   "cell_type": "markdown",
   "source": [
    "## Rover p0 -> p3 breadth first with and without data pruning. Predicate distance to goal p0 -> p3 also"
   ],
   "metadata": {
    "collapsed": false,
    "pycharm": {
     "name": "#%% md\n"
    }
   }
  },
  {
   "cell_type": "code",
   "execution_count": null,
   "outputs": [],
   "source": [
    "breadth_first_early_precon_check"
   ],
   "metadata": {
    "collapsed": false,
    "pycharm": {
     "name": "#%%\n"
    }
   }
  },
  {
   "cell_type": "code",
   "execution_count": null,
   "outputs": [],
   "source": [
    "\"\"\"Load data from breadth first\"\"\"\n",
    "breadth_first_pruning_data_path = os.path.join(os.getcwd(), \"Archive\", \"rover_early_precon_checker\", \"Breadth_First_Operations_Pruning.csv\")\n",
    "breadth_first_pruning = pd.read_csv(breadth_first_pruning_data_path, sep=\",\")\n",
    "\n",
    "breadth_first_pruning_av_time = average_time()\n",
    "for example_name in breadth_first_pruning.example_name.unique():\n",
    "    breadth_first_pruning_av_time.calculate_average_time(example_name, breadth_first_pruning[breadth_first_pruning['example_name'] == example_name]['time_taken'])\n",
    "\n",
    "    breadth_first_pruning_av_time.calculate_average_model(example_name, breadth_first_pruning[breadth_first_pruning['example_name'] == example_name]['search_models_created'])\n",
    "\n",
    "breadth_first_pruning"
   ],
   "metadata": {
    "collapsed": false,
    "pycharm": {
     "name": "#%%\n"
    }
   }
  },
  {
   "cell_type": "code",
   "execution_count": null,
   "outputs": [],
   "source": [
    "\"\"\"Load data from Predicate distance to goal\"\"\"\n",
    "predicate_distance_to_goal_data_path = os.path.join(os.getcwd(), \"Archive\", \"rover_predicate_distance\", \"Predicate_Distance_To_Goal.csv\")\n",
    "predicate_distance_to_goal = pd.read_csv(predicate_distance_to_goal_data_path, sep=\",\")\n",
    "\n",
    "predicate_distance_to_goal_av_time = average_time()\n",
    "for example_name in predicate_distance_to_goal.example_name.unique():\n",
    "    predicate_distance_to_goal_av_time.calculate_average_time(example_name, predicate_distance_to_goal[predicate_distance_to_goal['example_name'] == example_name]['time_taken'])\n",
    "\n",
    "    predicate_distance_to_goal_av_time.calculate_average_model(example_name, predicate_distance_to_goal[predicate_distance_to_goal['example_name'] == example_name]['search_models_created'])\n",
    "\n",
    "predicate_distance_to_goal"
   ],
   "metadata": {
    "collapsed": false,
    "pycharm": {
     "name": "#%%\n"
    }
   }
  },
  {
   "cell_type": "code",
   "execution_count": null,
   "outputs": [],
   "source": [
    "\"\"\"Create Graph\"\"\"\n",
    "generate_graph([\"Rover/p01.hddl\", \"Rover/p02.hddl\", \"Rover/p03.hddl\"], [\"Breadth First (No Pruning)\", \"Breadth First\", \"Predicate Distance To Goal Heuristic\"], [\"red\", \"purple\", \"aqua\"],\n",
    "[\n",
    "    [breadth_first_early_precon_check_av_time[\"Rover/p01.hddl\"],\n",
    "     breadth_first_early_precon_check_av_time[\"Rover/p02.hddl\"],\n",
    "     breadth_first_early_precon_check_av_time[\"Rover/p03.hddl\"]],\n",
    "    [breadth_first_pruning_av_time[\"Rover/p01.hddl\"],\n",
    "     breadth_first_pruning_av_time[\"Rover/p02.hddl\"],\n",
    "     breadth_first_pruning_av_time[\"Rover/p03.hddl\"]],\n",
    "    [predicate_distance_to_goal_av_time[\"Rover/p01.hddl\"],\n",
    "     predicate_distance_to_goal_av_time[\"Rover/p02.hddl\"],\n",
    "     predicate_distance_to_goal_av_time[\"Rover/p03.hddl\"]]\n",
    "])"
   ],
   "metadata": {
    "collapsed": false,
    "pycharm": {
     "name": "#%%\n"
    }
   }
  },
  {
   "cell_type": "markdown",
   "source": [
    "## Rover p04 pruning and predicate_distance\n",
    "For this test, the breadth first non-pruning search strategy was run for 2 hours and was not able to produce a result"
   ],
   "metadata": {
    "collapsed": false,
    "pycharm": {
     "name": "#%% md\n"
    }
   }
  },
  {
   "cell_type": "code",
   "execution_count": null,
   "outputs": [],
   "source": [
    "\"\"\"Create Graph\"\"\"\n",
    "generate_graph([\"Rover/p01.hddl\", \"Rover/p02.hddl\", \"Rover/p03.hddl\", \"Rover/p04.hddl\"],\n",
    "               [\"Breadth First\", \"Predicate Distance To Goal Heuristic\"], [\"purple\", \"aqua\"],\n",
    "               [\n",
    "                   [breadth_first_pruning_av_time[\"Rover/p01.hddl\"],\n",
    "                    breadth_first_pruning_av_time[\"Rover/p02.hddl\"],\n",
    "                    breadth_first_pruning_av_time[\"Rover/p03.hddl\"],\n",
    "                    breadth_first_pruning_av_time[\"Rover/p04.hddl\"]],\n",
    "                   [predicate_distance_to_goal_av_time[\"Rover/p01.hddl\"],\n",
    "                    predicate_distance_to_goal_av_time[\"Rover/p02.hddl\"],\n",
    "                    predicate_distance_to_goal_av_time[\"Rover/p03.hddl\"],\n",
    "                    predicate_distance_to_goal_av_time[\"Rover/p04.hddl\"]]\n",
    "               ])"
   ],
   "metadata": {
    "collapsed": false,
    "pycharm": {
     "name": "#%%\n"
    }
   }
  },
  {
   "cell_type": "markdown",
   "source": [
    "## Rover p0 -> p7 predicate distance to goal"
   ],
   "metadata": {
    "collapsed": false,
    "pycharm": {
     "name": "#%% md\n"
    }
   }
  },
  {
   "cell_type": "code",
   "execution_count": null,
   "outputs": [],
   "source": [
    "\"\"\"Create Graph\"\"\"\n",
    "generate_graph([\"Rover/p01.hddl\", \"Rover/p02.hddl\", \"Rover/p03.hddl\", \"Rover/p04.hddl\", \"Rover/p05.hddl\",\n",
    "                \"Rover/p06.hddl\", \"Rover/p07.hddl\"],\n",
    "               [\"Predicate Distance To Goal Heuristic\"], [\"aqua\"],\n",
    "               [\n",
    "                   [predicate_distance_to_goal_av_time[\"Rover/p01.hddl\"],\n",
    "                    predicate_distance_to_goal_av_time[\"Rover/p02.hddl\"],\n",
    "                    predicate_distance_to_goal_av_time[\"Rover/p03.hddl\"],\n",
    "                    predicate_distance_to_goal_av_time[\"Rover/p04.hddl\"],\n",
    "                    predicate_distance_to_goal_av_time[\"Rover/p05.hddl\"],\n",
    "                    predicate_distance_to_goal_av_time[\"Rover/p06.hddl\"],\n",
    "                    predicate_distance_to_goal_av_time[\"Rover/p07.hddl\"]]\n",
    "               ])"
   ],
   "metadata": {
    "collapsed": false,
    "pycharm": {
     "name": "#%%\n"
    }
   }
  },
  {
   "cell_type": "markdown",
   "source": [
    "# Graph number of models created during search"
   ],
   "metadata": {
    "collapsed": false,
    "pycharm": {
     "name": "#%% md\n"
    }
   }
  },
  {
   "cell_type": "markdown",
   "source": [
    "## Rover p0 -> p3. Breadth first, breadth first with pruning, predicate distance to goal"
   ],
   "metadata": {
    "collapsed": false,
    "pycharm": {
     "name": "#%% md\n"
    }
   }
  },
  {
   "cell_type": "code",
   "execution_count": null,
   "outputs": [],
   "source": [
    "\"\"\"Create Graph\"\"\"\n",
    "generate_graph([\"Rover/p01.hddl\", \"Rover/p02.hddl\", \"Rover/p03.hddl\"], [\"Breadth First (No Pruning)\", \"Breadth First\", \"Predicate Distance To Goal Heuristic\"], [\"red\", \"purple\", \"aqua\"],\n",
    "               [\n",
    "                   [breadth_first_early_precon_check_av_time.get_num_models(\"Rover/p01.hddl\"),\n",
    "                    breadth_first_early_precon_check_av_time.get_num_models(\"Rover/p02.hddl\"),\n",
    "                    breadth_first_early_precon_check_av_time.get_num_models(\"Rover/p03.hddl\")],\n",
    "                   [breadth_first_pruning_av_time.get_num_models(\"Rover/p01.hddl\"),\n",
    "                    breadth_first_pruning_av_time.get_num_models(\"Rover/p02.hddl\"),\n",
    "                    breadth_first_pruning_av_time.get_num_models(\"Rover/p03.hddl\")],\n",
    "                   [predicate_distance_to_goal_av_time.get_num_models(\"Rover/p01.hddl\"),\n",
    "                    predicate_distance_to_goal_av_time.get_num_models(\"Rover/p02.hddl\"),\n",
    "                    predicate_distance_to_goal_av_time.get_num_models(\"Rover/p03.hddl\")]\n",
    "               ], \"Amount of Models Created During Search\", \"Number of Models\")"
   ],
   "metadata": {
    "collapsed": false,
    "pycharm": {
     "name": "#%%\n"
    }
   }
  },
  {
   "cell_type": "markdown",
   "source": [
    "# Area for checking serialised files"
   ],
   "metadata": {
    "collapsed": false,
    "pycharm": {
     "name": "#%% md\n"
    }
   }
  },
  {
   "cell_type": "code",
   "execution_count": null,
   "outputs": [],
   "source": [
    "file_name = predicate_distance_to_goal.iloc[0]['serialised_actions_taken']\n",
    "actions_taken = load_pickled_ob(file_name)\n",
    "display_actions_taken(actions_taken)"
   ],
   "metadata": {
    "collapsed": false,
    "pycharm": {
     "name": "#%%\n"
    }
   }
  },
  {
   "cell_type": "code",
   "execution_count": null,
   "outputs": [],
   "source": [
    "file_name = predicate_distance_to_goal.iloc[0]['serialised_state']\n",
    "final_state = load_pickled_ob(file_name)\n",
    "display_final_state(final_state)"
   ],
   "metadata": {
    "collapsed": false,
    "pycharm": {
     "name": "#%%\n"
    }
   }
  }
 ],
 "metadata": {
  "kernelspec": {
   "display_name": "Python 3",
   "language": "python",
   "name": "python3"
  },
  "language_info": {
   "codemirror_mode": {
    "name": "ipython",
    "version": 2
   },
   "file_extension": ".py",
   "mimetype": "text/x-python",
   "name": "python",
   "nbconvert_exporter": "python",
   "pygments_lexer": "ipython2",
   "version": "2.7.6"
  }
 },
 "nbformat": 4,
 "nbformat_minor": 0
}