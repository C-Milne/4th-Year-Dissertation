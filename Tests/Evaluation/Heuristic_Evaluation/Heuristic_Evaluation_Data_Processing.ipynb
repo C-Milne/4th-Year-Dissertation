{
 "cells": [
  {
   "cell_type": "code",
   "execution_count": 1,
   "metadata": {
    "collapsed": true,
    "pycharm": {
     "name": "#%%\n"
    }
   },
   "outputs": [],
   "source": [
    "import pickle\n",
    "import os\n",
    "import sys\n",
    "from statistics import mean\n",
    "from typing import List\n",
    "import numpy as np\n",
    "import pandas as pd\n",
    "import matplotlib.pyplot as plt\n",
    "working_dir = os.getcwd()\n",
    "os.chdir(\"../../..\")\n",
    "sys.path.append(os.getcwd())\n",
    "from Internal_Representation.state import State\n",
    "from Solver.action_tracker import ActionTracker\n",
    "from runner import Runner\n",
    "os.chdir(working_dir)"
   ]
  },
  {
   "cell_type": "code",
   "execution_count": 2,
   "outputs": [
    {
     "data": {
      "text/plain": "'C:\\\\Users\\\\Cael\\\\Documents\\\\University\\\\4th year\\\\Dissertation\\\\4th-Year-Dissertation\\\\Tests\\\\Evaluation\\\\Heuristic_Evaluation'"
     },
     "execution_count": 2,
     "metadata": {},
     "output_type": "execute_result"
    }
   ],
   "source": [
    "os.getcwd()"
   ],
   "metadata": {
    "collapsed": false,
    "pycharm": {
     "name": "#%%\n"
    }
   }
  },
  {
   "cell_type": "code",
   "execution_count": 3,
   "outputs": [],
   "source": [
    "# Load pickled Object\n",
    "def load_pickled_ob(file_name):\n",
    "    with (open(file_name, \"rb\")) as openfile:\n",
    "        while True:\n",
    "            try:\n",
    "                return pickle.load(openfile)\n",
    "            except EOFError:\n",
    "                break"
   ],
   "metadata": {
    "collapsed": false,
    "pycharm": {
     "name": "#%%\n"
    }
   }
  },
  {
   "cell_type": "code",
   "execution_count": 4,
   "outputs": [],
   "source": [
    "# Display pickled actions_taken\n",
    "def display_actions_taken(actions):\n",
    "    for a in actions:\n",
    "        print(a)"
   ],
   "metadata": {
    "collapsed": false,
    "pycharm": {
     "name": "#%%\n"
    }
   }
  },
  {
   "cell_type": "code",
   "execution_count": 5,
   "outputs": [],
   "source": [
    "# Display pickled final state\n",
    "def display_final_state(final_state):\n",
    "    print(final_state)"
   ],
   "metadata": {
    "collapsed": false,
    "pycharm": {
     "name": "#%%\n"
    }
   }
  },
  {
   "cell_type": "code",
   "execution_count": 52,
   "outputs": [
    {
     "data": {
      "text/plain": "{'Basic/pb1.hddl': 46,\n 'Rover/p01.hddl': 483,\n 'Rover/p02.hddl': 486,\n 'Rover/p03.hddl': 501,\n 'Rover/p04.hddl': 554,\n 'Rover/p05.hddl': 633,\n 'Rover/p06.hddl': 648,\n 'Rover/p07.hddl': 724,\n 'Depots/p01.hddl': 302,\n 'Depots/p02.hddl': 330,\n 'Depots/p03.hddl': 358,\n 'um-translog01/problem.hddl': 1395,\n 'Factories/pfile01.hddl': 219,\n 'Barman/pfile01.hddl': 514}"
     },
     "execution_count": 52,
     "metadata": {},
     "output_type": "execute_result"
    }
   ],
   "source": [
    "size_dict = load_pickled_ob(\"problem_sizes.pickle\")\n",
    "size_dict"
   ],
   "metadata": {
    "collapsed": false,
    "pycharm": {
     "name": "#%%\n"
    }
   }
  },
  {
   "cell_type": "code",
   "execution_count": 17,
   "outputs": [],
   "source": [
    "class average_time:\n",
    "    def __init__(self):\n",
    "        self.times = {} # {'roverp0': float}\n",
    "        self.num_models = {}    # {'roverp0': float}\n",
    "\n",
    "    def calculate_average_time(self, problem_name: str, times: list) -> None:\n",
    "        self.times[problem_name] = mean(times)\n",
    "\n",
    "    def calculate_average_model(self, problem_name: str, num_models: list) -> None:\n",
    "        self.num_models[problem_name] = mean(num_models)\n",
    "\n",
    "    def get_num_models(self, problem_name: str) -> float:\n",
    "        return self.num_models[problem_name]\n",
    "\n",
    "    def __getitem__(self, item):\n",
    "        return self.times[item]"
   ],
   "metadata": {
    "collapsed": false,
    "pycharm": {
     "name": "#%%\n"
    }
   }
  },
  {
   "cell_type": "code",
   "execution_count": 8,
   "outputs": [],
   "source": [
    "def generate_graph(example_names: list, config_names: list, colours: list, values: list,\n",
    "                   title=\"Average Time Taken for Solving\", y_axis=\"Average Time Taken (Seconds)\"):\n",
    "    assert len(config_names) == len(colours) == len(values)\n",
    "    assert all([len(x) == len(example_names) for x in values])\n",
    "    plt.figure(figsize=(18, 8))\n",
    "\n",
    "    x_values = [size_dict[x] for x in example_names]\n",
    "\n",
    "    i, l = 0, len(config_names)\n",
    "    while i < l:\n",
    "        y_values = [values[i][y] for y in range(len(values[i]))]\n",
    "        plt.plot(x_values, y_values, 'bo-', label=r'{}'.format(config_names[i]), color=colours[i], alpha=0.6, linewidth=3)\n",
    "        i += 1\n",
    "    plt.xticks(x_values, [str(x) for x in x_values])\n",
    "    plt.locator_params(axis='x', nbins=len(example_names))\n",
    "    plt.xlabel('Problem Size'); plt.ylabel(r'{}'.format(y_axis))\n",
    "    plt.title(r'{}'.format(title))\n",
    "    plt.legend(loc='best')\n",
    "    # plt.savefig(\"{}_ABS_features_Weight_plot.svg\".format('lasso - Ridge'), dpi=500)  # Save graph to file\n",
    "    plt.grid()"
   ],
   "metadata": {
    "collapsed": false,
    "pycharm": {
     "name": "#%%\n"
    }
   }
  },
  {
   "cell_type": "code",
   "execution_count": 9,
   "outputs": [],
   "source": [
    "from scipy.stats import shapiro\n",
    "from scipy.stats import kruskal\n",
    "from scipy.stats import ttest_ind\n",
    "from scipy.stats import f_oneway\n",
    "def significant_difference_check(list_approach_names: List[str], *args):\n",
    "    \"\"\"Check for statistically different data sets\"\"\"\n",
    "    assert len(list_approach_names) == len(args)\n",
    "\n",
    "    # Run shapiro test on all data\n",
    "    data_values = [shapiro(x)[1] for x in args]\n",
    "    data_normal = [x < 0.05 for x in data_values]\n",
    "\n",
    "    # Assume we want to run dunn test\n",
    "    run_dunn_test = True\n",
    "    test_used = None\n",
    "\n",
    "    # Run ANOVA or Kruskal test\n",
    "    if all(x == False for x in data_normal):\n",
    "        # Anova test\n",
    "        print(\"All data is normally distributed\")\n",
    "        print(\"Shapiro p-values:\", data_values)\n",
    "        print(\"Non-Normal Check (False denoted non-normal):\", data_normal)\n",
    "\n",
    "        if len(list_approach_names) >= 3:\n",
    "            # One-way ANOVA\n",
    "            # https://statistics.laerd.com/statistical-guides/one-way-anova-statistical-guide.php\n",
    "            # https://docs.scipy.org/doc/scipy/reference/generated/scipy.stats.f_oneway.html\n",
    "            res = f_oneway(*args)[1]\n",
    "            test_used = \"One-Way ANOVA\"\n",
    "        else:\n",
    "            # https://docs.scipy.org/doc/scipy/reference/generated/scipy.stats.ttest_ind.html\n",
    "            assert len(list_approach_names) == 2\n",
    "            run_dunn_test = False\n",
    "            res = ttest_ind(args[0], args[1])[1]\n",
    "            test_used = \"T-Test\"\n",
    "    else:\n",
    "        # Kruskals test\n",
    "        print(\"NOT FOLLOWING NORMAL DISTRIBUTION\")\n",
    "        print(\"Shapiro p-values:\", data_values)\n",
    "        print(\"Non-Normal Check (False denotes non-normal):\", data_normal)\n",
    "        res = kruskal(*args)[1]\n",
    "        test_used = \"Kruskal-Wallis\"\n",
    "\n",
    "    if res <= 0.05:\n",
    "        # There is significant difference\n",
    "        print(\"Significant Difference found ({}). P-value: {}\".format(test_used, res))\n",
    "    else:\n",
    "        # No significant difference\n",
    "        print(\"NO Significant Difference found ({}). P-value: {}\".format(test_used, res))\n",
    "        run_dunn_test = False\n",
    "\n",
    "    # Run Dunn Test\n",
    "    if run_dunn_test:\n",
    "        dunns_pairwise_test(list_approach_names, *args)"
   ],
   "metadata": {
    "collapsed": false,
    "pycharm": {
     "name": "#%%\n"
    }
   }
  },
  {
   "cell_type": "code",
   "execution_count": 10,
   "outputs": [],
   "source": [
    "from scikit_posthocs import posthoc_dunn\n",
    "\n",
    "def dunns_pairwise_test(list_approach_names: List[str], *args):\n",
    "\n",
    "    d = []\n",
    "    list_approach_names_extended = []\n",
    "    i = 0\n",
    "    while i < len(list_approach_names):\n",
    "        for j in args[i]:\n",
    "            d.append(j)\n",
    "            list_approach_names_extended.append(list_approach_names[i])\n",
    "        i += 1\n",
    "\n",
    "    dataFrame = pd.DataFrame(list(zip(list_approach_names_extended, d)), columns=[\"Heuristic_Name\", \"Time_Taken\"])\n",
    "    # print(dataFrame)\n",
    "\n",
    "    r = posthoc_dunn(dataFrame, \"Time_Taken\", \"Heuristic_Name\", p_adjust=\"hommel\")\n",
    "    print(r)\n",
    "\n",
    "    # Print Results\n",
    "    seen_pairs = []\n",
    "    for i in r.keys():\n",
    "        for j in r[i].keys():\n",
    "            if j + i in seen_pairs:\n",
    "                continue\n",
    "            seen_pairs.append(i+j)\n",
    "\n",
    "            if r[i][j] > 0.05 and i != j:\n",
    "                print(\"No Significant Difference: {}, {} = {}\".format(i, j, r[i][j]))\n",
    "            elif i == j:\n",
    "                pass\n",
    "            else:\n",
    "                print(\"Significant Difference: {}, {} = {}\".format(i, j, r[i][j]))"
   ],
   "metadata": {
    "collapsed": false,
    "pycharm": {
     "name": "#%%\n"
    }
   }
  },
  {
   "cell_type": "markdown",
   "source": [
    "# Running operations on collected Data"
   ],
   "metadata": {
    "collapsed": false,
    "pycharm": {
     "name": "#%% md\n"
    }
   }
  },
  {
   "cell_type": "markdown",
   "source": [
    "## Rover p0 -> p3 with early precondition checking and without"
   ],
   "metadata": {
    "collapsed": false,
    "pycharm": {
     "name": "#%% md\n"
    }
   }
  },
  {
   "cell_type": "markdown",
   "source": [
    "# RE-RUN THIS TEST"
   ],
   "metadata": {
    "collapsed": false,
    "pycharm": {
     "name": "#%% md\n"
    }
   }
  },
  {
   "cell_type": "code",
   "execution_count": 14,
   "outputs": [
    {
     "data": {
      "text/plain": "      example_name  time_taken  search_models_created  \\\n0   Rover/p01.hddl    1.273007                   2571   \n1   Rover/p01.hddl    1.411523                   5142   \n2   Rover/p01.hddl    1.251475                   7713   \n3   Rover/p01.hddl    1.112457                  10284   \n4   Rover/p01.hddl    0.954380                  12855   \n5   Rover/p02.hddl    2.452671                  17516   \n6   Rover/p02.hddl    3.188172                  22177   \n7   Rover/p02.hddl    2.678498                  26838   \n8   Rover/p02.hddl    2.207513                  31499   \n9   Rover/p02.hddl    2.829706                  36160   \n10  Rover/p03.hddl    2.909303                  40486   \n11  Rover/p03.hddl    2.089727                  44812   \n12  Rover/p03.hddl    2.398014                  49138   \n13  Rover/p03.hddl    2.788897                  53464   \n14  Rover/p03.hddl    2.131181                  57790   \n\n                             serialised_actions_taken  \\\n0   serialised_objects\\Rover_p01hddl_Breadth_First...   \n1   serialised_objects\\Rover_p01hddl_Breadth_First...   \n2   serialised_objects\\Rover_p01hddl_Breadth_First...   \n3   serialised_objects\\Rover_p01hddl_Breadth_First...   \n4   serialised_objects\\Rover_p01hddl_Breadth_First...   \n5   serialised_objects\\Rover_p02hddl_Breadth_First...   \n6   serialised_objects\\Rover_p02hddl_Breadth_First...   \n7   serialised_objects\\Rover_p02hddl_Breadth_First...   \n8   serialised_objects\\Rover_p02hddl_Breadth_First...   \n9   serialised_objects\\Rover_p02hddl_Breadth_First...   \n10  serialised_objects\\Rover_p03hddl_Breadth_First...   \n11  serialised_objects\\Rover_p03hddl_Breadth_First...   \n12  serialised_objects\\Rover_p03hddl_Breadth_First...   \n13  serialised_objects\\Rover_p03hddl_Breadth_First...   \n14  serialised_objects\\Rover_p03hddl_Breadth_First...   \n\n                                     serialised_state  \n0   serialised_objects\\Rover_p01hddl_Breadth_First...  \n1   serialised_objects\\Rover_p01hddl_Breadth_First...  \n2   serialised_objects\\Rover_p01hddl_Breadth_First...  \n3   serialised_objects\\Rover_p01hddl_Breadth_First...  \n4   serialised_objects\\Rover_p01hddl_Breadth_First...  \n5   serialised_objects\\Rover_p02hddl_Breadth_First...  \n6   serialised_objects\\Rover_p02hddl_Breadth_First...  \n7   serialised_objects\\Rover_p02hddl_Breadth_First...  \n8   serialised_objects\\Rover_p02hddl_Breadth_First...  \n9   serialised_objects\\Rover_p02hddl_Breadth_First...  \n10  serialised_objects\\Rover_p03hddl_Breadth_First...  \n11  serialised_objects\\Rover_p03hddl_Breadth_First...  \n12  serialised_objects\\Rover_p03hddl_Breadth_First...  \n13  serialised_objects\\Rover_p03hddl_Breadth_First...  \n14  serialised_objects\\Rover_p03hddl_Breadth_First...  ",
      "text/html": "<div>\n<style scoped>\n    .dataframe tbody tr th:only-of-type {\n        vertical-align: middle;\n    }\n\n    .dataframe tbody tr th {\n        vertical-align: top;\n    }\n\n    .dataframe thead th {\n        text-align: right;\n    }\n</style>\n<table border=\"1\" class=\"dataframe\">\n  <thead>\n    <tr style=\"text-align: right;\">\n      <th></th>\n      <th>example_name</th>\n      <th>time_taken</th>\n      <th>search_models_created</th>\n      <th>serialised_actions_taken</th>\n      <th>serialised_state</th>\n    </tr>\n  </thead>\n  <tbody>\n    <tr>\n      <th>0</th>\n      <td>Rover/p01.hddl</td>\n      <td>1.273007</td>\n      <td>2571</td>\n      <td>serialised_objects\\Rover_p01hddl_Breadth_First...</td>\n      <td>serialised_objects\\Rover_p01hddl_Breadth_First...</td>\n    </tr>\n    <tr>\n      <th>1</th>\n      <td>Rover/p01.hddl</td>\n      <td>1.411523</td>\n      <td>5142</td>\n      <td>serialised_objects\\Rover_p01hddl_Breadth_First...</td>\n      <td>serialised_objects\\Rover_p01hddl_Breadth_First...</td>\n    </tr>\n    <tr>\n      <th>2</th>\n      <td>Rover/p01.hddl</td>\n      <td>1.251475</td>\n      <td>7713</td>\n      <td>serialised_objects\\Rover_p01hddl_Breadth_First...</td>\n      <td>serialised_objects\\Rover_p01hddl_Breadth_First...</td>\n    </tr>\n    <tr>\n      <th>3</th>\n      <td>Rover/p01.hddl</td>\n      <td>1.112457</td>\n      <td>10284</td>\n      <td>serialised_objects\\Rover_p01hddl_Breadth_First...</td>\n      <td>serialised_objects\\Rover_p01hddl_Breadth_First...</td>\n    </tr>\n    <tr>\n      <th>4</th>\n      <td>Rover/p01.hddl</td>\n      <td>0.954380</td>\n      <td>12855</td>\n      <td>serialised_objects\\Rover_p01hddl_Breadth_First...</td>\n      <td>serialised_objects\\Rover_p01hddl_Breadth_First...</td>\n    </tr>\n    <tr>\n      <th>5</th>\n      <td>Rover/p02.hddl</td>\n      <td>2.452671</td>\n      <td>17516</td>\n      <td>serialised_objects\\Rover_p02hddl_Breadth_First...</td>\n      <td>serialised_objects\\Rover_p02hddl_Breadth_First...</td>\n    </tr>\n    <tr>\n      <th>6</th>\n      <td>Rover/p02.hddl</td>\n      <td>3.188172</td>\n      <td>22177</td>\n      <td>serialised_objects\\Rover_p02hddl_Breadth_First...</td>\n      <td>serialised_objects\\Rover_p02hddl_Breadth_First...</td>\n    </tr>\n    <tr>\n      <th>7</th>\n      <td>Rover/p02.hddl</td>\n      <td>2.678498</td>\n      <td>26838</td>\n      <td>serialised_objects\\Rover_p02hddl_Breadth_First...</td>\n      <td>serialised_objects\\Rover_p02hddl_Breadth_First...</td>\n    </tr>\n    <tr>\n      <th>8</th>\n      <td>Rover/p02.hddl</td>\n      <td>2.207513</td>\n      <td>31499</td>\n      <td>serialised_objects\\Rover_p02hddl_Breadth_First...</td>\n      <td>serialised_objects\\Rover_p02hddl_Breadth_First...</td>\n    </tr>\n    <tr>\n      <th>9</th>\n      <td>Rover/p02.hddl</td>\n      <td>2.829706</td>\n      <td>36160</td>\n      <td>serialised_objects\\Rover_p02hddl_Breadth_First...</td>\n      <td>serialised_objects\\Rover_p02hddl_Breadth_First...</td>\n    </tr>\n    <tr>\n      <th>10</th>\n      <td>Rover/p03.hddl</td>\n      <td>2.909303</td>\n      <td>40486</td>\n      <td>serialised_objects\\Rover_p03hddl_Breadth_First...</td>\n      <td>serialised_objects\\Rover_p03hddl_Breadth_First...</td>\n    </tr>\n    <tr>\n      <th>11</th>\n      <td>Rover/p03.hddl</td>\n      <td>2.089727</td>\n      <td>44812</td>\n      <td>serialised_objects\\Rover_p03hddl_Breadth_First...</td>\n      <td>serialised_objects\\Rover_p03hddl_Breadth_First...</td>\n    </tr>\n    <tr>\n      <th>12</th>\n      <td>Rover/p03.hddl</td>\n      <td>2.398014</td>\n      <td>49138</td>\n      <td>serialised_objects\\Rover_p03hddl_Breadth_First...</td>\n      <td>serialised_objects\\Rover_p03hddl_Breadth_First...</td>\n    </tr>\n    <tr>\n      <th>13</th>\n      <td>Rover/p03.hddl</td>\n      <td>2.788897</td>\n      <td>53464</td>\n      <td>serialised_objects\\Rover_p03hddl_Breadth_First...</td>\n      <td>serialised_objects\\Rover_p03hddl_Breadth_First...</td>\n    </tr>\n    <tr>\n      <th>14</th>\n      <td>Rover/p03.hddl</td>\n      <td>2.131181</td>\n      <td>57790</td>\n      <td>serialised_objects\\Rover_p03hddl_Breadth_First...</td>\n      <td>serialised_objects\\Rover_p03hddl_Breadth_First...</td>\n    </tr>\n  </tbody>\n</table>\n</div>"
     },
     "execution_count": 14,
     "metadata": {},
     "output_type": "execute_result"
    }
   ],
   "source": [
    "\"\"\"Load data from breadth first - no early precondition checker\"\"\"\n",
    "breadth_first_no_early_precon_check_data_path = os.path.join(os.getcwd(), \"Archive\", \"rover_no_early_precon\", \"Breadth_First_Operations.csv\")\n",
    "breadth_first_no_early_precon_check = pd.read_csv(breadth_first_no_early_precon_check_data_path, sep=\",\")\n",
    "\n",
    "breadth_first_no_early_precon_check_av_time = average_time()\n",
    "for example_name in breadth_first_no_early_precon_check.example_name.unique():\n",
    "\n",
    "    breadth_first_no_early_precon_check_av_time.calculate_average_time(example_name, breadth_first_no_early_precon_check[breadth_first_no_early_precon_check['example_name'] == example_name]['time_taken'])\n",
    "\n",
    "    breadth_first_no_early_precon_check_av_time.calculate_average_model(example_name,                               breadth_first_no_early_precon_check[breadth_first_no_early_precon_check['example_name'] == example_name]['search_models_created'])\n",
    "\n",
    "breadth_first_no_early_precon_check"
   ],
   "metadata": {
    "collapsed": false,
    "pycharm": {
     "name": "#%%\n"
    }
   }
  },
  {
   "cell_type": "code",
   "execution_count": 28,
   "outputs": [
    {
     "data": {
      "text/plain": "                  example_name  time_taken  search_models_created  \\\n0               Rover/p01.hddl    0.433009                   2571   \n1               Rover/p01.hddl    0.407712                   5142   \n2               Rover/p01.hddl    0.408208                   7713   \n3               Rover/p01.hddl    0.407216                  10284   \n4               Rover/p01.hddl    0.403744                  12855   \n5               Rover/p02.hddl    1.059952                  17516   \n6               Rover/p02.hddl    1.072848                  22177   \n7               Rover/p02.hddl    1.455760                  26838   \n8               Rover/p02.hddl    1.058959                  31499   \n9               Rover/p02.hddl    1.057472                  36160   \n10              Rover/p03.hddl    1.229088                  40486   \n11              Rover/p03.hddl    0.959264                  44812   \n12              Rover/p03.hddl    0.954799                  49138   \n13              Rover/p03.hddl    0.954800                  53464   \n14              Rover/p03.hddl    1.292576                  57790   \n0          Barman/pfile01.hddl    5.603312                1381000   \n1          Barman/pfile01.hddl    5.602816                1402845   \n2          Barman/pfile01.hddl    5.805681                1424690   \n3          Barman/pfile01.hddl    6.370129                1446535   \n4          Barman/pfile01.hddl    6.344833                1468380   \n0              Depots/p01.hddl    0.173601                 950896   \n1              Depots/p01.hddl    0.143840                 952157   \n2              Depots/p01.hddl    0.140368                 953418   \n3              Depots/p01.hddl    0.141360                 954679   \n4              Depots/p01.hddl    0.140864                 955940   \n5              Depots/p02.hddl    2.985424                 967175   \n6              Depots/p02.hddl    2.997824                 978410   \n7              Depots/p02.hddl    2.974512                 989645   \n8              Depots/p02.hddl    2.992864                1000880   \n9              Depots/p02.hddl    3.436784                1012115   \n0       Factories/pfile01.hddl    7.146864                1861654   \n1       Factories/pfile01.hddl    7.392880                1875903   \n2       Factories/pfile01.hddl    7.326416                1890152   \n3       Factories/pfile01.hddl    7.326913                1904401   \n4       Factories/pfile01.hddl    7.763889                1918650   \n0   um-translog01/problem.hddl    0.086304                 931589   \n1   um-translog01/problem.hddl    0.086304                 932878   \n2   um-translog01/problem.hddl    0.280240                 934167   \n3   um-translog01/problem.hddl    0.086304                 935456   \n4   um-translog01/problem.hddl    0.085808                 936745   \n\n                             serialised_actions_taken  \\\n0   serialised_objects\\Rover_p01hddl_Breadth_First...   \n1   serialised_objects\\Rover_p01hddl_Breadth_First...   \n2   serialised_objects\\Rover_p01hddl_Breadth_First...   \n3   serialised_objects\\Rover_p01hddl_Breadth_First...   \n4   serialised_objects\\Rover_p01hddl_Breadth_First...   \n5   serialised_objects\\Rover_p02hddl_Breadth_First...   \n6   serialised_objects\\Rover_p02hddl_Breadth_First...   \n7   serialised_objects\\Rover_p02hddl_Breadth_First...   \n8   serialised_objects\\Rover_p02hddl_Breadth_First...   \n9   serialised_objects\\Rover_p02hddl_Breadth_First...   \n10  serialised_objects\\Rover_p03hddl_Breadth_First...   \n11  serialised_objects\\Rover_p03hddl_Breadth_First...   \n12  serialised_objects\\Rover_p03hddl_Breadth_First...   \n13  serialised_objects\\Rover_p03hddl_Breadth_First...   \n14  serialised_objects\\Rover_p03hddl_Breadth_First...   \n0   serialised_objects\\Barman_pfile01hddl_Breadth_...   \n1   serialised_objects\\Barman_pfile01hddl_Breadth_...   \n2   serialised_objects\\Barman_pfile01hddl_Breadth_...   \n3   serialised_objects\\Barman_pfile01hddl_Breadth_...   \n4   serialised_objects\\Barman_pfile01hddl_Breadth_...   \n0   serialised_objects\\Depots_p01hddl_Breadth_Firs...   \n1   serialised_objects\\Depots_p01hddl_Breadth_Firs...   \n2   serialised_objects\\Depots_p01hddl_Breadth_Firs...   \n3   serialised_objects\\Depots_p01hddl_Breadth_Firs...   \n4   serialised_objects\\Depots_p01hddl_Breadth_Firs...   \n5   serialised_objects\\Depots_p02hddl_Breadth_Firs...   \n6   serialised_objects\\Depots_p02hddl_Breadth_Firs...   \n7   serialised_objects\\Depots_p02hddl_Breadth_Firs...   \n8   serialised_objects\\Depots_p02hddl_Breadth_Firs...   \n9   serialised_objects\\Depots_p02hddl_Breadth_Firs...   \n0   serialised_objects\\Factories_pfile01hddl_Bread...   \n1   serialised_objects\\Factories_pfile01hddl_Bread...   \n2   serialised_objects\\Factories_pfile01hddl_Bread...   \n3   serialised_objects\\Factories_pfile01hddl_Bread...   \n4   serialised_objects\\Factories_pfile01hddl_Bread...   \n0   serialised_objects\\um-translog01_problemhddl_B...   \n1   serialised_objects\\um-translog01_problemhddl_B...   \n2   serialised_objects\\um-translog01_problemhddl_B...   \n3   serialised_objects\\um-translog01_problemhddl_B...   \n4   serialised_objects\\um-translog01_problemhddl_B...   \n\n                                     serialised_state  \n0   serialised_objects\\Rover_p01hddl_Breadth_First...  \n1   serialised_objects\\Rover_p01hddl_Breadth_First...  \n2   serialised_objects\\Rover_p01hddl_Breadth_First...  \n3   serialised_objects\\Rover_p01hddl_Breadth_First...  \n4   serialised_objects\\Rover_p01hddl_Breadth_First...  \n5   serialised_objects\\Rover_p02hddl_Breadth_First...  \n6   serialised_objects\\Rover_p02hddl_Breadth_First...  \n7   serialised_objects\\Rover_p02hddl_Breadth_First...  \n8   serialised_objects\\Rover_p02hddl_Breadth_First...  \n9   serialised_objects\\Rover_p02hddl_Breadth_First...  \n10  serialised_objects\\Rover_p03hddl_Breadth_First...  \n11  serialised_objects\\Rover_p03hddl_Breadth_First...  \n12  serialised_objects\\Rover_p03hddl_Breadth_First...  \n13  serialised_objects\\Rover_p03hddl_Breadth_First...  \n14  serialised_objects\\Rover_p03hddl_Breadth_First...  \n0   serialised_objects\\Barman_pfile01hddl_Breadth_...  \n1   serialised_objects\\Barman_pfile01hddl_Breadth_...  \n2   serialised_objects\\Barman_pfile01hddl_Breadth_...  \n3   serialised_objects\\Barman_pfile01hddl_Breadth_...  \n4   serialised_objects\\Barman_pfile01hddl_Breadth_...  \n0   serialised_objects\\Depots_p01hddl_Breadth_Firs...  \n1   serialised_objects\\Depots_p01hddl_Breadth_Firs...  \n2   serialised_objects\\Depots_p01hddl_Breadth_Firs...  \n3   serialised_objects\\Depots_p01hddl_Breadth_Firs...  \n4   serialised_objects\\Depots_p01hddl_Breadth_Firs...  \n5   serialised_objects\\Depots_p02hddl_Breadth_Firs...  \n6   serialised_objects\\Depots_p02hddl_Breadth_Firs...  \n7   serialised_objects\\Depots_p02hddl_Breadth_Firs...  \n8   serialised_objects\\Depots_p02hddl_Breadth_Firs...  \n9   serialised_objects\\Depots_p02hddl_Breadth_Firs...  \n0   serialised_objects\\Factories_pfile01hddl_Bread...  \n1   serialised_objects\\Factories_pfile01hddl_Bread...  \n2   serialised_objects\\Factories_pfile01hddl_Bread...  \n3   serialised_objects\\Factories_pfile01hddl_Bread...  \n4   serialised_objects\\Factories_pfile01hddl_Bread...  \n0   serialised_objects\\um-translog01_problemhddl_B...  \n1   serialised_objects\\um-translog01_problemhddl_B...  \n2   serialised_objects\\um-translog01_problemhddl_B...  \n3   serialised_objects\\um-translog01_problemhddl_B...  \n4   serialised_objects\\um-translog01_problemhddl_B...  ",
      "text/html": "<div>\n<style scoped>\n    .dataframe tbody tr th:only-of-type {\n        vertical-align: middle;\n    }\n\n    .dataframe tbody tr th {\n        vertical-align: top;\n    }\n\n    .dataframe thead th {\n        text-align: right;\n    }\n</style>\n<table border=\"1\" class=\"dataframe\">\n  <thead>\n    <tr style=\"text-align: right;\">\n      <th></th>\n      <th>example_name</th>\n      <th>time_taken</th>\n      <th>search_models_created</th>\n      <th>serialised_actions_taken</th>\n      <th>serialised_state</th>\n    </tr>\n  </thead>\n  <tbody>\n    <tr>\n      <th>0</th>\n      <td>Rover/p01.hddl</td>\n      <td>0.433009</td>\n      <td>2571</td>\n      <td>serialised_objects\\Rover_p01hddl_Breadth_First...</td>\n      <td>serialised_objects\\Rover_p01hddl_Breadth_First...</td>\n    </tr>\n    <tr>\n      <th>1</th>\n      <td>Rover/p01.hddl</td>\n      <td>0.407712</td>\n      <td>5142</td>\n      <td>serialised_objects\\Rover_p01hddl_Breadth_First...</td>\n      <td>serialised_objects\\Rover_p01hddl_Breadth_First...</td>\n    </tr>\n    <tr>\n      <th>2</th>\n      <td>Rover/p01.hddl</td>\n      <td>0.408208</td>\n      <td>7713</td>\n      <td>serialised_objects\\Rover_p01hddl_Breadth_First...</td>\n      <td>serialised_objects\\Rover_p01hddl_Breadth_First...</td>\n    </tr>\n    <tr>\n      <th>3</th>\n      <td>Rover/p01.hddl</td>\n      <td>0.407216</td>\n      <td>10284</td>\n      <td>serialised_objects\\Rover_p01hddl_Breadth_First...</td>\n      <td>serialised_objects\\Rover_p01hddl_Breadth_First...</td>\n    </tr>\n    <tr>\n      <th>4</th>\n      <td>Rover/p01.hddl</td>\n      <td>0.403744</td>\n      <td>12855</td>\n      <td>serialised_objects\\Rover_p01hddl_Breadth_First...</td>\n      <td>serialised_objects\\Rover_p01hddl_Breadth_First...</td>\n    </tr>\n    <tr>\n      <th>5</th>\n      <td>Rover/p02.hddl</td>\n      <td>1.059952</td>\n      <td>17516</td>\n      <td>serialised_objects\\Rover_p02hddl_Breadth_First...</td>\n      <td>serialised_objects\\Rover_p02hddl_Breadth_First...</td>\n    </tr>\n    <tr>\n      <th>6</th>\n      <td>Rover/p02.hddl</td>\n      <td>1.072848</td>\n      <td>22177</td>\n      <td>serialised_objects\\Rover_p02hddl_Breadth_First...</td>\n      <td>serialised_objects\\Rover_p02hddl_Breadth_First...</td>\n    </tr>\n    <tr>\n      <th>7</th>\n      <td>Rover/p02.hddl</td>\n      <td>1.455760</td>\n      <td>26838</td>\n      <td>serialised_objects\\Rover_p02hddl_Breadth_First...</td>\n      <td>serialised_objects\\Rover_p02hddl_Breadth_First...</td>\n    </tr>\n    <tr>\n      <th>8</th>\n      <td>Rover/p02.hddl</td>\n      <td>1.058959</td>\n      <td>31499</td>\n      <td>serialised_objects\\Rover_p02hddl_Breadth_First...</td>\n      <td>serialised_objects\\Rover_p02hddl_Breadth_First...</td>\n    </tr>\n    <tr>\n      <th>9</th>\n      <td>Rover/p02.hddl</td>\n      <td>1.057472</td>\n      <td>36160</td>\n      <td>serialised_objects\\Rover_p02hddl_Breadth_First...</td>\n      <td>serialised_objects\\Rover_p02hddl_Breadth_First...</td>\n    </tr>\n    <tr>\n      <th>10</th>\n      <td>Rover/p03.hddl</td>\n      <td>1.229088</td>\n      <td>40486</td>\n      <td>serialised_objects\\Rover_p03hddl_Breadth_First...</td>\n      <td>serialised_objects\\Rover_p03hddl_Breadth_First...</td>\n    </tr>\n    <tr>\n      <th>11</th>\n      <td>Rover/p03.hddl</td>\n      <td>0.959264</td>\n      <td>44812</td>\n      <td>serialised_objects\\Rover_p03hddl_Breadth_First...</td>\n      <td>serialised_objects\\Rover_p03hddl_Breadth_First...</td>\n    </tr>\n    <tr>\n      <th>12</th>\n      <td>Rover/p03.hddl</td>\n      <td>0.954799</td>\n      <td>49138</td>\n      <td>serialised_objects\\Rover_p03hddl_Breadth_First...</td>\n      <td>serialised_objects\\Rover_p03hddl_Breadth_First...</td>\n    </tr>\n    <tr>\n      <th>13</th>\n      <td>Rover/p03.hddl</td>\n      <td>0.954800</td>\n      <td>53464</td>\n      <td>serialised_objects\\Rover_p03hddl_Breadth_First...</td>\n      <td>serialised_objects\\Rover_p03hddl_Breadth_First...</td>\n    </tr>\n    <tr>\n      <th>14</th>\n      <td>Rover/p03.hddl</td>\n      <td>1.292576</td>\n      <td>57790</td>\n      <td>serialised_objects\\Rover_p03hddl_Breadth_First...</td>\n      <td>serialised_objects\\Rover_p03hddl_Breadth_First...</td>\n    </tr>\n    <tr>\n      <th>0</th>\n      <td>Barman/pfile01.hddl</td>\n      <td>5.603312</td>\n      <td>1381000</td>\n      <td>serialised_objects\\Barman_pfile01hddl_Breadth_...</td>\n      <td>serialised_objects\\Barman_pfile01hddl_Breadth_...</td>\n    </tr>\n    <tr>\n      <th>1</th>\n      <td>Barman/pfile01.hddl</td>\n      <td>5.602816</td>\n      <td>1402845</td>\n      <td>serialised_objects\\Barman_pfile01hddl_Breadth_...</td>\n      <td>serialised_objects\\Barman_pfile01hddl_Breadth_...</td>\n    </tr>\n    <tr>\n      <th>2</th>\n      <td>Barman/pfile01.hddl</td>\n      <td>5.805681</td>\n      <td>1424690</td>\n      <td>serialised_objects\\Barman_pfile01hddl_Breadth_...</td>\n      <td>serialised_objects\\Barman_pfile01hddl_Breadth_...</td>\n    </tr>\n    <tr>\n      <th>3</th>\n      <td>Barman/pfile01.hddl</td>\n      <td>6.370129</td>\n      <td>1446535</td>\n      <td>serialised_objects\\Barman_pfile01hddl_Breadth_...</td>\n      <td>serialised_objects\\Barman_pfile01hddl_Breadth_...</td>\n    </tr>\n    <tr>\n      <th>4</th>\n      <td>Barman/pfile01.hddl</td>\n      <td>6.344833</td>\n      <td>1468380</td>\n      <td>serialised_objects\\Barman_pfile01hddl_Breadth_...</td>\n      <td>serialised_objects\\Barman_pfile01hddl_Breadth_...</td>\n    </tr>\n    <tr>\n      <th>0</th>\n      <td>Depots/p01.hddl</td>\n      <td>0.173601</td>\n      <td>950896</td>\n      <td>serialised_objects\\Depots_p01hddl_Breadth_Firs...</td>\n      <td>serialised_objects\\Depots_p01hddl_Breadth_Firs...</td>\n    </tr>\n    <tr>\n      <th>1</th>\n      <td>Depots/p01.hddl</td>\n      <td>0.143840</td>\n      <td>952157</td>\n      <td>serialised_objects\\Depots_p01hddl_Breadth_Firs...</td>\n      <td>serialised_objects\\Depots_p01hddl_Breadth_Firs...</td>\n    </tr>\n    <tr>\n      <th>2</th>\n      <td>Depots/p01.hddl</td>\n      <td>0.140368</td>\n      <td>953418</td>\n      <td>serialised_objects\\Depots_p01hddl_Breadth_Firs...</td>\n      <td>serialised_objects\\Depots_p01hddl_Breadth_Firs...</td>\n    </tr>\n    <tr>\n      <th>3</th>\n      <td>Depots/p01.hddl</td>\n      <td>0.141360</td>\n      <td>954679</td>\n      <td>serialised_objects\\Depots_p01hddl_Breadth_Firs...</td>\n      <td>serialised_objects\\Depots_p01hddl_Breadth_Firs...</td>\n    </tr>\n    <tr>\n      <th>4</th>\n      <td>Depots/p01.hddl</td>\n      <td>0.140864</td>\n      <td>955940</td>\n      <td>serialised_objects\\Depots_p01hddl_Breadth_Firs...</td>\n      <td>serialised_objects\\Depots_p01hddl_Breadth_Firs...</td>\n    </tr>\n    <tr>\n      <th>5</th>\n      <td>Depots/p02.hddl</td>\n      <td>2.985424</td>\n      <td>967175</td>\n      <td>serialised_objects\\Depots_p02hddl_Breadth_Firs...</td>\n      <td>serialised_objects\\Depots_p02hddl_Breadth_Firs...</td>\n    </tr>\n    <tr>\n      <th>6</th>\n      <td>Depots/p02.hddl</td>\n      <td>2.997824</td>\n      <td>978410</td>\n      <td>serialised_objects\\Depots_p02hddl_Breadth_Firs...</td>\n      <td>serialised_objects\\Depots_p02hddl_Breadth_Firs...</td>\n    </tr>\n    <tr>\n      <th>7</th>\n      <td>Depots/p02.hddl</td>\n      <td>2.974512</td>\n      <td>989645</td>\n      <td>serialised_objects\\Depots_p02hddl_Breadth_Firs...</td>\n      <td>serialised_objects\\Depots_p02hddl_Breadth_Firs...</td>\n    </tr>\n    <tr>\n      <th>8</th>\n      <td>Depots/p02.hddl</td>\n      <td>2.992864</td>\n      <td>1000880</td>\n      <td>serialised_objects\\Depots_p02hddl_Breadth_Firs...</td>\n      <td>serialised_objects\\Depots_p02hddl_Breadth_Firs...</td>\n    </tr>\n    <tr>\n      <th>9</th>\n      <td>Depots/p02.hddl</td>\n      <td>3.436784</td>\n      <td>1012115</td>\n      <td>serialised_objects\\Depots_p02hddl_Breadth_Firs...</td>\n      <td>serialised_objects\\Depots_p02hddl_Breadth_Firs...</td>\n    </tr>\n    <tr>\n      <th>0</th>\n      <td>Factories/pfile01.hddl</td>\n      <td>7.146864</td>\n      <td>1861654</td>\n      <td>serialised_objects\\Factories_pfile01hddl_Bread...</td>\n      <td>serialised_objects\\Factories_pfile01hddl_Bread...</td>\n    </tr>\n    <tr>\n      <th>1</th>\n      <td>Factories/pfile01.hddl</td>\n      <td>7.392880</td>\n      <td>1875903</td>\n      <td>serialised_objects\\Factories_pfile01hddl_Bread...</td>\n      <td>serialised_objects\\Factories_pfile01hddl_Bread...</td>\n    </tr>\n    <tr>\n      <th>2</th>\n      <td>Factories/pfile01.hddl</td>\n      <td>7.326416</td>\n      <td>1890152</td>\n      <td>serialised_objects\\Factories_pfile01hddl_Bread...</td>\n      <td>serialised_objects\\Factories_pfile01hddl_Bread...</td>\n    </tr>\n    <tr>\n      <th>3</th>\n      <td>Factories/pfile01.hddl</td>\n      <td>7.326913</td>\n      <td>1904401</td>\n      <td>serialised_objects\\Factories_pfile01hddl_Bread...</td>\n      <td>serialised_objects\\Factories_pfile01hddl_Bread...</td>\n    </tr>\n    <tr>\n      <th>4</th>\n      <td>Factories/pfile01.hddl</td>\n      <td>7.763889</td>\n      <td>1918650</td>\n      <td>serialised_objects\\Factories_pfile01hddl_Bread...</td>\n      <td>serialised_objects\\Factories_pfile01hddl_Bread...</td>\n    </tr>\n    <tr>\n      <th>0</th>\n      <td>um-translog01/problem.hddl</td>\n      <td>0.086304</td>\n      <td>931589</td>\n      <td>serialised_objects\\um-translog01_problemhddl_B...</td>\n      <td>serialised_objects\\um-translog01_problemhddl_B...</td>\n    </tr>\n    <tr>\n      <th>1</th>\n      <td>um-translog01/problem.hddl</td>\n      <td>0.086304</td>\n      <td>932878</td>\n      <td>serialised_objects\\um-translog01_problemhddl_B...</td>\n      <td>serialised_objects\\um-translog01_problemhddl_B...</td>\n    </tr>\n    <tr>\n      <th>2</th>\n      <td>um-translog01/problem.hddl</td>\n      <td>0.280240</td>\n      <td>934167</td>\n      <td>serialised_objects\\um-translog01_problemhddl_B...</td>\n      <td>serialised_objects\\um-translog01_problemhddl_B...</td>\n    </tr>\n    <tr>\n      <th>3</th>\n      <td>um-translog01/problem.hddl</td>\n      <td>0.086304</td>\n      <td>935456</td>\n      <td>serialised_objects\\um-translog01_problemhddl_B...</td>\n      <td>serialised_objects\\um-translog01_problemhddl_B...</td>\n    </tr>\n    <tr>\n      <th>4</th>\n      <td>um-translog01/problem.hddl</td>\n      <td>0.085808</td>\n      <td>936745</td>\n      <td>serialised_objects\\um-translog01_problemhddl_B...</td>\n      <td>serialised_objects\\um-translog01_problemhddl_B...</td>\n    </tr>\n  </tbody>\n</table>\n</div>"
     },
     "execution_count": 28,
     "metadata": {},
     "output_type": "execute_result"
    }
   ],
   "source": [
    "\"\"\"Load data from breadth first\"\"\"\n",
    "breadth_first_data_path = os.path.join(os.getcwd(), \"Archive\", \"Rover\", \"Breadth_First_Operations.csv\")\n",
    "breadth_first = pd.read_csv(breadth_first_data_path, sep=\",\")\n",
    "\n",
    "breadth_first_data_path = os.path.join(os.getcwd(), \"Archive\", \"Barman\", \"Breadth_First_Operations.csv\")\n",
    "breadth_first = pd.concat([breadth_first, pd.read_csv(breadth_first_data_path, sep=\",\")])\n",
    "\n",
    "breadth_first_data_path = os.path.join(os.getcwd(), \"Archive\", \"Depot\", \"Breadth_First_Operations.csv\")\n",
    "breadth_first = pd.concat([breadth_first, pd.read_csv(breadth_first_data_path, sep=\",\")])\n",
    "\n",
    "breadth_first_data_path = os.path.join(os.getcwd(), \"Archive\", \"Factories\", \"Breadth_First_Operations.csv\")\n",
    "breadth_first = pd.concat([breadth_first, pd.read_csv(breadth_first_data_path, sep=\",\")])\n",
    "\n",
    "breadth_first_data_path = os.path.join(os.getcwd(), \"Archive\", \"translog\", \"Breadth_First_Operations.csv\")\n",
    "breadth_first = pd.concat([breadth_first, pd.read_csv(breadth_first_data_path, sep=\",\")])\n",
    "\n",
    "breadth_first_av_time = average_time()\n",
    "for example_name in breadth_first.example_name.unique():\n",
    "\n",
    "    breadth_first_av_time.calculate_average_time(example_name, breadth_first[breadth_first['example_name'] == example_name]['time_taken'])\n",
    "\n",
    "    breadth_first_av_time.calculate_average_model(example_name, breadth_first[breadth_first['example_name'] == example_name]['search_models_created'])\n",
    "\n",
    "breadth_first"
   ],
   "metadata": {
    "collapsed": false,
    "pycharm": {
     "name": "#%%\n"
    }
   }
  },
  {
   "cell_type": "code",
   "execution_count": 18,
   "outputs": [
    {
     "name": "stdout",
     "output_type": "stream",
     "text": [
      "dict_keys(['Rover/p01.hddl', 'Rover/p02.hddl', 'Rover/p03.hddl'])\n",
      "dict_keys(['Rover/p01.hddl', 'Rover/p02.hddl', 'Rover/p03.hddl'])\n",
      "dict_keys(['Rover/p01.hddl', 'Rover/p02.hddl', 'Rover/p03.hddl'])\n",
      "dict_keys(['Rover/p01.hddl', 'Rover/p02.hddl', 'Rover/p03.hddl'])\n",
      "dict_keys(['Rover/p01.hddl', 'Rover/p02.hddl', 'Rover/p03.hddl'])\n",
      "dict_keys(['Rover/p01.hddl', 'Rover/p02.hddl', 'Rover/p03.hddl'])\n"
     ]
    },
    {
     "data": {
      "text/plain": "<Figure size 1296x576 with 1 Axes>",
      "image/png": "[encoded data removed]"
     },
     "metadata": {
      "needs_background": "light"
     },
     "output_type": "display_data"
    }
   ],
   "source": [
    "\"\"\"Create Graph\"\"\"\n",
    "generate_graph([\"Rover/p01.hddl\", \"Rover/p02.hddl\", \"Rover/p03.hddl\"], [\"Breadth First (No Early Precondition Checking)\", \"Breadth First\"], [\"darkblue\", \"yellow\"], [\n",
    "[breadth_first_no_early_precon_check_av_time[\"Rover/p01.hddl\"],\n",
    " breadth_first_no_early_precon_check_av_time[\"Rover/p02.hddl\"],\n",
    " breadth_first_no_early_precon_check_av_time[\"Rover/p03.hddl\"]],\n",
    "[breadth_first_av_time[\"Rover/p01.hddl\"],\n",
    " breadth_first_av_time[\"Rover/p02.hddl\"],\n",
    " breadth_first_av_time[\"Rover/p03.hddl\"]]\n",
    "])"
   ],
   "metadata": {
    "collapsed": false,
    "pycharm": {
     "name": "#%%\n"
    }
   }
  },
  {
   "cell_type": "code",
   "execution_count": 19,
   "outputs": [
    {
     "name": "stdout",
     "output_type": "stream",
     "text": [
      "Rover p01 Statistically Significant Test\n",
      "NOT FOLLOWING NORMAL DISTRIBUTION\n",
      "Shapiro p-values: [0.8895746469497681, 0.006790124345570803]\n",
      "Non-Normal Check (False denotes non-normal): [False, True]\n",
      "Significant Difference found (Kruskal-Wallis). P-value: 0.009023438818080334\n",
      "                                                Breadth First  \\\n",
      "Breadth First                                        1.000000   \n",
      "Breadth First (No Early Precondition Checking)       0.009023   \n",
      "\n",
      "                                                Breadth First (No Early Precondition Checking)  \n",
      "Breadth First                                                                         0.009023  \n",
      "Breadth First (No Early Precondition Checking)                                        1.000000  \n",
      "Significant Difference: Breadth First, Breadth First (No Early Precondition Checking) = 0.009023438818080326\n"
     ]
    }
   ],
   "source": [
    "# Get test times for rover p01\n",
    "no_precon_check = breadth_first_no_early_precon_check[breadth_first_no_early_precon_check['example_name'] == \"Rover/p01.hddl\"]['time_taken']\n",
    "precon_check = breadth_first[breadth_first['example_name'] == \"Rover/p01.hddl\"]['time_taken']\n",
    "\n",
    "print(\"Rover p01 Statistically Significant Test\")\n",
    "significant_difference_check([\"Breadth First (No Early Precondition Checking)\", \"Breadth First\"], no_precon_check, precon_check)"
   ],
   "metadata": {
    "collapsed": false,
    "pycharm": {
     "name": "#%%\n"
    }
   }
  },
  {
   "cell_type": "code",
   "execution_count": 20,
   "outputs": [
    {
     "name": "stdout",
     "output_type": "stream",
     "text": [
      "Rover p02 Statistically Significant Test\n",
      "NOT FOLLOWING NORMAL DISTRIBUTION\n",
      "Shapiro p-values: [0.9910498857498169, 0.0003285231941845268]\n",
      "Non-Normal Check (False denotes non-normal): [False, True]\n",
      "Significant Difference found (Kruskal-Wallis). P-value: 0.009023438818080334\n",
      "                                                Breadth First  \\\n",
      "Breadth First                                        1.000000   \n",
      "Breadth First (No Early Precondition Checking)       0.009023   \n",
      "\n",
      "                                                Breadth First (No Early Precondition Checking)  \n",
      "Breadth First                                                                         0.009023  \n",
      "Breadth First (No Early Precondition Checking)                                        1.000000  \n",
      "Significant Difference: Breadth First, Breadth First (No Early Precondition Checking) = 0.009023438818080326\n"
     ]
    }
   ],
   "source": [
    "# Get test times for rover p03\n",
    "no_precon_check = breadth_first_no_early_precon_check[breadth_first_no_early_precon_check['example_name'] == \"Rover/p02.hddl\"]['time_taken']\n",
    "precon_check = breadth_first[breadth_first['example_name'] == \"Rover/p02.hddl\"]['time_taken']\n",
    "\n",
    "print(\"Rover p02 Statistically Significant Test\")\n",
    "significant_difference_check([\"Breadth First (No Early Precondition Checking)\", \"Breadth First\"], no_precon_check, precon_check)"
   ],
   "metadata": {
    "collapsed": false,
    "pycharm": {
     "name": "#%%\n"
    }
   }
  },
  {
   "cell_type": "code",
   "execution_count": 21,
   "outputs": [
    {
     "name": "stdout",
     "output_type": "stream",
     "text": [
      "Rover p03 Statistically Significant Test\n",
      "NOT FOLLOWING NORMAL DISTRIBUTION\n",
      "Shapiro p-values: [0.3334891200065613, 0.027146784588694572]\n",
      "Non-Normal Check (False denotes non-normal): [False, True]\n",
      "Significant Difference found (Kruskal-Wallis). P-value: 0.009023438818080334\n",
      "                                                Breadth First  \\\n",
      "Breadth First                                        1.000000   \n",
      "Breadth First (No Early Precondition Checking)       0.009023   \n",
      "\n",
      "                                                Breadth First (No Early Precondition Checking)  \n",
      "Breadth First                                                                         0.009023  \n",
      "Breadth First (No Early Precondition Checking)                                        1.000000  \n",
      "Significant Difference: Breadth First, Breadth First (No Early Precondition Checking) = 0.009023438818080326\n"
     ]
    }
   ],
   "source": [
    "# Get test times for rover p03\n",
    "no_precon_check = breadth_first_no_early_precon_check[breadth_first_no_early_precon_check['example_name'] == \"Rover/p03.hddl\"]['time_taken']\n",
    "precon_check = breadth_first[breadth_first['example_name'] == \"Rover/p03.hddl\"]['time_taken']\n",
    "\n",
    "print(\"Rover p03 Statistically Significant Test\")\n",
    "significant_difference_check([\"Breadth First (No Early Precondition Checking)\", \"Breadth First\"], no_precon_check, precon_check)"
   ],
   "metadata": {
    "collapsed": false,
    "pycharm": {
     "name": "#%%\n"
    }
   }
  },
  {
   "cell_type": "markdown",
   "source": [
    "## Rover p0 -> p3.\n",
    "### Breadth First\n",
    "### Breadth First Pruning\n",
    "### Hamming Distance\n",
    "### Tree Distance\n",
    "### Delete Relaxed"
   ],
   "metadata": {
    "collapsed": false,
    "pycharm": {
     "name": "#%% md\n"
    }
   }
  },
  {
   "cell_type": "code",
   "execution_count": 51,
   "outputs": [
    {
     "data": {
      "text/plain": "                  example_name  time_taken  search_models_created  \\\n0               Rover/p01.hddl    0.433009                   2571   \n1               Rover/p01.hddl    0.407712                   5142   \n2               Rover/p01.hddl    0.408208                   7713   \n3               Rover/p01.hddl    0.407216                  10284   \n4               Rover/p01.hddl    0.403744                  12855   \n5               Rover/p02.hddl    1.059952                  17516   \n6               Rover/p02.hddl    1.072848                  22177   \n7               Rover/p02.hddl    1.455760                  26838   \n8               Rover/p02.hddl    1.058959                  31499   \n9               Rover/p02.hddl    1.057472                  36160   \n10              Rover/p03.hddl    1.229088                  40486   \n11              Rover/p03.hddl    0.959264                  44812   \n12              Rover/p03.hddl    0.954799                  49138   \n13              Rover/p03.hddl    0.954800                  53464   \n14              Rover/p03.hddl    1.292576                  57790   \n0          Barman/pfile01.hddl    5.603312                1381000   \n1          Barman/pfile01.hddl    5.602816                1402845   \n2          Barman/pfile01.hddl    5.805681                1424690   \n3          Barman/pfile01.hddl    6.370129                1446535   \n4          Barman/pfile01.hddl    6.344833                1468380   \n0              Depots/p01.hddl    0.173601                 950896   \n1              Depots/p01.hddl    0.143840                 952157   \n2              Depots/p01.hddl    0.140368                 953418   \n3              Depots/p01.hddl    0.141360                 954679   \n4              Depots/p01.hddl    0.140864                 955940   \n5              Depots/p02.hddl    2.985424                 967175   \n6              Depots/p02.hddl    2.997824                 978410   \n7              Depots/p02.hddl    2.974512                 989645   \n8              Depots/p02.hddl    2.992864                1000880   \n9              Depots/p02.hddl    3.436784                1012115   \n0       Factories/pfile01.hddl    7.146864                1861654   \n1       Factories/pfile01.hddl    7.392880                1875903   \n2       Factories/pfile01.hddl    7.326416                1890152   \n3       Factories/pfile01.hddl    7.326913                1904401   \n4       Factories/pfile01.hddl    7.763889                1918650   \n0   um-translog01/problem.hddl    0.086304                 931589   \n1   um-translog01/problem.hddl    0.086304                 932878   \n2   um-translog01/problem.hddl    0.280240                 934167   \n3   um-translog01/problem.hddl    0.086304                 935456   \n4   um-translog01/problem.hddl    0.085808                 936745   \n\n                             serialised_actions_taken  \\\n0   serialised_objects\\Rover_p01hddl_Breadth_First...   \n1   serialised_objects\\Rover_p01hddl_Breadth_First...   \n2   serialised_objects\\Rover_p01hddl_Breadth_First...   \n3   serialised_objects\\Rover_p01hddl_Breadth_First...   \n4   serialised_objects\\Rover_p01hddl_Breadth_First...   \n5   serialised_objects\\Rover_p02hddl_Breadth_First...   \n6   serialised_objects\\Rover_p02hddl_Breadth_First...   \n7   serialised_objects\\Rover_p02hddl_Breadth_First...   \n8   serialised_objects\\Rover_p02hddl_Breadth_First...   \n9   serialised_objects\\Rover_p02hddl_Breadth_First...   \n10  serialised_objects\\Rover_p03hddl_Breadth_First...   \n11  serialised_objects\\Rover_p03hddl_Breadth_First...   \n12  serialised_objects\\Rover_p03hddl_Breadth_First...   \n13  serialised_objects\\Rover_p03hddl_Breadth_First...   \n14  serialised_objects\\Rover_p03hddl_Breadth_First...   \n0   serialised_objects\\Barman_pfile01hddl_Breadth_...   \n1   serialised_objects\\Barman_pfile01hddl_Breadth_...   \n2   serialised_objects\\Barman_pfile01hddl_Breadth_...   \n3   serialised_objects\\Barman_pfile01hddl_Breadth_...   \n4   serialised_objects\\Barman_pfile01hddl_Breadth_...   \n0   serialised_objects\\Depots_p01hddl_Breadth_Firs...   \n1   serialised_objects\\Depots_p01hddl_Breadth_Firs...   \n2   serialised_objects\\Depots_p01hddl_Breadth_Firs...   \n3   serialised_objects\\Depots_p01hddl_Breadth_Firs...   \n4   serialised_objects\\Depots_p01hddl_Breadth_Firs...   \n5   serialised_objects\\Depots_p02hddl_Breadth_Firs...   \n6   serialised_objects\\Depots_p02hddl_Breadth_Firs...   \n7   serialised_objects\\Depots_p02hddl_Breadth_Firs...   \n8   serialised_objects\\Depots_p02hddl_Breadth_Firs...   \n9   serialised_objects\\Depots_p02hddl_Breadth_Firs...   \n0   serialised_objects\\Factories_pfile01hddl_Bread...   \n1   serialised_objects\\Factories_pfile01hddl_Bread...   \n2   serialised_objects\\Factories_pfile01hddl_Bread...   \n3   serialised_objects\\Factories_pfile01hddl_Bread...   \n4   serialised_objects\\Factories_pfile01hddl_Bread...   \n0   serialised_objects\\um-translog01_problemhddl_B...   \n1   serialised_objects\\um-translog01_problemhddl_B...   \n2   serialised_objects\\um-translog01_problemhddl_B...   \n3   serialised_objects\\um-translog01_problemhddl_B...   \n4   serialised_objects\\um-translog01_problemhddl_B...   \n\n                                     serialised_state  \n0   serialised_objects\\Rover_p01hddl_Breadth_First...  \n1   serialised_objects\\Rover_p01hddl_Breadth_First...  \n2   serialised_objects\\Rover_p01hddl_Breadth_First...  \n3   serialised_objects\\Rover_p01hddl_Breadth_First...  \n4   serialised_objects\\Rover_p01hddl_Breadth_First...  \n5   serialised_objects\\Rover_p02hddl_Breadth_First...  \n6   serialised_objects\\Rover_p02hddl_Breadth_First...  \n7   serialised_objects\\Rover_p02hddl_Breadth_First...  \n8   serialised_objects\\Rover_p02hddl_Breadth_First...  \n9   serialised_objects\\Rover_p02hddl_Breadth_First...  \n10  serialised_objects\\Rover_p03hddl_Breadth_First...  \n11  serialised_objects\\Rover_p03hddl_Breadth_First...  \n12  serialised_objects\\Rover_p03hddl_Breadth_First...  \n13  serialised_objects\\Rover_p03hddl_Breadth_First...  \n14  serialised_objects\\Rover_p03hddl_Breadth_First...  \n0   serialised_objects\\Barman_pfile01hddl_Breadth_...  \n1   serialised_objects\\Barman_pfile01hddl_Breadth_...  \n2   serialised_objects\\Barman_pfile01hddl_Breadth_...  \n3   serialised_objects\\Barman_pfile01hddl_Breadth_...  \n4   serialised_objects\\Barman_pfile01hddl_Breadth_...  \n0   serialised_objects\\Depots_p01hddl_Breadth_Firs...  \n1   serialised_objects\\Depots_p01hddl_Breadth_Firs...  \n2   serialised_objects\\Depots_p01hddl_Breadth_Firs...  \n3   serialised_objects\\Depots_p01hddl_Breadth_Firs...  \n4   serialised_objects\\Depots_p01hddl_Breadth_Firs...  \n5   serialised_objects\\Depots_p02hddl_Breadth_Firs...  \n6   serialised_objects\\Depots_p02hddl_Breadth_Firs...  \n7   serialised_objects\\Depots_p02hddl_Breadth_Firs...  \n8   serialised_objects\\Depots_p02hddl_Breadth_Firs...  \n9   serialised_objects\\Depots_p02hddl_Breadth_Firs...  \n0   serialised_objects\\Factories_pfile01hddl_Bread...  \n1   serialised_objects\\Factories_pfile01hddl_Bread...  \n2   serialised_objects\\Factories_pfile01hddl_Bread...  \n3   serialised_objects\\Factories_pfile01hddl_Bread...  \n4   serialised_objects\\Factories_pfile01hddl_Bread...  \n0   serialised_objects\\um-translog01_problemhddl_B...  \n1   serialised_objects\\um-translog01_problemhddl_B...  \n2   serialised_objects\\um-translog01_problemhddl_B...  \n3   serialised_objects\\um-translog01_problemhddl_B...  \n4   serialised_objects\\um-translog01_problemhddl_B...  ",
      "text/html": "<div>\n<style scoped>\n    .dataframe tbody tr th:only-of-type {\n        vertical-align: middle;\n    }\n\n    .dataframe tbody tr th {\n        vertical-align: top;\n    }\n\n    .dataframe thead th {\n        text-align: right;\n    }\n</style>\n<table border=\"1\" class=\"dataframe\">\n  <thead>\n    <tr style=\"text-align: right;\">\n      <th></th>\n      <th>example_name</th>\n      <th>time_taken</th>\n      <th>search_models_created</th>\n      <th>serialised_actions_taken</th>\n      <th>serialised_state</th>\n    </tr>\n  </thead>\n  <tbody>\n    <tr>\n      <th>0</th>\n      <td>Rover/p01.hddl</td>\n      <td>0.433009</td>\n      <td>2571</td>\n      <td>serialised_objects\\Rover_p01hddl_Breadth_First...</td>\n      <td>serialised_objects\\Rover_p01hddl_Breadth_First...</td>\n    </tr>\n    <tr>\n      <th>1</th>\n      <td>Rover/p01.hddl</td>\n      <td>0.407712</td>\n      <td>5142</td>\n      <td>serialised_objects\\Rover_p01hddl_Breadth_First...</td>\n      <td>serialised_objects\\Rover_p01hddl_Breadth_First...</td>\n    </tr>\n    <tr>\n      <th>2</th>\n      <td>Rover/p01.hddl</td>\n      <td>0.408208</td>\n      <td>7713</td>\n      <td>serialised_objects\\Rover_p01hddl_Breadth_First...</td>\n      <td>serialised_objects\\Rover_p01hddl_Breadth_First...</td>\n    </tr>\n    <tr>\n      <th>3</th>\n      <td>Rover/p01.hddl</td>\n      <td>0.407216</td>\n      <td>10284</td>\n      <td>serialised_objects\\Rover_p01hddl_Breadth_First...</td>\n      <td>serialised_objects\\Rover_p01hddl_Breadth_First...</td>\n    </tr>\n    <tr>\n      <th>4</th>\n      <td>Rover/p01.hddl</td>\n      <td>0.403744</td>\n      <td>12855</td>\n      <td>serialised_objects\\Rover_p01hddl_Breadth_First...</td>\n      <td>serialised_objects\\Rover_p01hddl_Breadth_First...</td>\n    </tr>\n    <tr>\n      <th>5</th>\n      <td>Rover/p02.hddl</td>\n      <td>1.059952</td>\n      <td>17516</td>\n      <td>serialised_objects\\Rover_p02hddl_Breadth_First...</td>\n      <td>serialised_objects\\Rover_p02hddl_Breadth_First...</td>\n    </tr>\n    <tr>\n      <th>6</th>\n      <td>Rover/p02.hddl</td>\n      <td>1.072848</td>\n      <td>22177</td>\n      <td>serialised_objects\\Rover_p02hddl_Breadth_First...</td>\n      <td>serialised_objects\\Rover_p02hddl_Breadth_First...</td>\n    </tr>\n    <tr>\n      <th>7</th>\n      <td>Rover/p02.hddl</td>\n      <td>1.455760</td>\n      <td>26838</td>\n      <td>serialised_objects\\Rover_p02hddl_Breadth_First...</td>\n      <td>serialised_objects\\Rover_p02hddl_Breadth_First...</td>\n    </tr>\n    <tr>\n      <th>8</th>\n      <td>Rover/p02.hddl</td>\n      <td>1.058959</td>\n      <td>31499</td>\n      <td>serialised_objects\\Rover_p02hddl_Breadth_First...</td>\n      <td>serialised_objects\\Rover_p02hddl_Breadth_First...</td>\n    </tr>\n    <tr>\n      <th>9</th>\n      <td>Rover/p02.hddl</td>\n      <td>1.057472</td>\n      <td>36160</td>\n      <td>serialised_objects\\Rover_p02hddl_Breadth_First...</td>\n      <td>serialised_objects\\Rover_p02hddl_Breadth_First...</td>\n    </tr>\n    <tr>\n      <th>10</th>\n      <td>Rover/p03.hddl</td>\n      <td>1.229088</td>\n      <td>40486</td>\n      <td>serialised_objects\\Rover_p03hddl_Breadth_First...</td>\n      <td>serialised_objects\\Rover_p03hddl_Breadth_First...</td>\n    </tr>\n    <tr>\n      <th>11</th>\n      <td>Rover/p03.hddl</td>\n      <td>0.959264</td>\n      <td>44812</td>\n      <td>serialised_objects\\Rover_p03hddl_Breadth_First...</td>\n      <td>serialised_objects\\Rover_p03hddl_Breadth_First...</td>\n    </tr>\n    <tr>\n      <th>12</th>\n      <td>Rover/p03.hddl</td>\n      <td>0.954799</td>\n      <td>49138</td>\n      <td>serialised_objects\\Rover_p03hddl_Breadth_First...</td>\n      <td>serialised_objects\\Rover_p03hddl_Breadth_First...</td>\n    </tr>\n    <tr>\n      <th>13</th>\n      <td>Rover/p03.hddl</td>\n      <td>0.954800</td>\n      <td>53464</td>\n      <td>serialised_objects\\Rover_p03hddl_Breadth_First...</td>\n      <td>serialised_objects\\Rover_p03hddl_Breadth_First...</td>\n    </tr>\n    <tr>\n      <th>14</th>\n      <td>Rover/p03.hddl</td>\n      <td>1.292576</td>\n      <td>57790</td>\n      <td>serialised_objects\\Rover_p03hddl_Breadth_First...</td>\n      <td>serialised_objects\\Rover_p03hddl_Breadth_First...</td>\n    </tr>\n    <tr>\n      <th>0</th>\n      <td>Barman/pfile01.hddl</td>\n      <td>5.603312</td>\n      <td>1381000</td>\n      <td>serialised_objects\\Barman_pfile01hddl_Breadth_...</td>\n      <td>serialised_objects\\Barman_pfile01hddl_Breadth_...</td>\n    </tr>\n    <tr>\n      <th>1</th>\n      <td>Barman/pfile01.hddl</td>\n      <td>5.602816</td>\n      <td>1402845</td>\n      <td>serialised_objects\\Barman_pfile01hddl_Breadth_...</td>\n      <td>serialised_objects\\Barman_pfile01hddl_Breadth_...</td>\n    </tr>\n    <tr>\n      <th>2</th>\n      <td>Barman/pfile01.hddl</td>\n      <td>5.805681</td>\n      <td>1424690</td>\n      <td>serialised_objects\\Barman_pfile01hddl_Breadth_...</td>\n      <td>serialised_objects\\Barman_pfile01hddl_Breadth_...</td>\n    </tr>\n    <tr>\n      <th>3</th>\n      <td>Barman/pfile01.hddl</td>\n      <td>6.370129</td>\n      <td>1446535</td>\n      <td>serialised_objects\\Barman_pfile01hddl_Breadth_...</td>\n      <td>serialised_objects\\Barman_pfile01hddl_Breadth_...</td>\n    </tr>\n    <tr>\n      <th>4</th>\n      <td>Barman/pfile01.hddl</td>\n      <td>6.344833</td>\n      <td>1468380</td>\n      <td>serialised_objects\\Barman_pfile01hddl_Breadth_...</td>\n      <td>serialised_objects\\Barman_pfile01hddl_Breadth_...</td>\n    </tr>\n    <tr>\n      <th>0</th>\n      <td>Depots/p01.hddl</td>\n      <td>0.173601</td>\n      <td>950896</td>\n      <td>serialised_objects\\Depots_p01hddl_Breadth_Firs...</td>\n      <td>serialised_objects\\Depots_p01hddl_Breadth_Firs...</td>\n    </tr>\n    <tr>\n      <th>1</th>\n      <td>Depots/p01.hddl</td>\n      <td>0.143840</td>\n      <td>952157</td>\n      <td>serialised_objects\\Depots_p01hddl_Breadth_Firs...</td>\n      <td>serialised_objects\\Depots_p01hddl_Breadth_Firs...</td>\n    </tr>\n    <tr>\n      <th>2</th>\n      <td>Depots/p01.hddl</td>\n      <td>0.140368</td>\n      <td>953418</td>\n      <td>serialised_objects\\Depots_p01hddl_Breadth_Firs...</td>\n      <td>serialised_objects\\Depots_p01hddl_Breadth_Firs...</td>\n    </tr>\n    <tr>\n      <th>3</th>\n      <td>Depots/p01.hddl</td>\n      <td>0.141360</td>\n      <td>954679</td>\n      <td>serialised_objects\\Depots_p01hddl_Breadth_Firs...</td>\n      <td>serialised_objects\\Depots_p01hddl_Breadth_Firs...</td>\n    </tr>\n    <tr>\n      <th>4</th>\n      <td>Depots/p01.hddl</td>\n      <td>0.140864</td>\n      <td>955940</td>\n      <td>serialised_objects\\Depots_p01hddl_Breadth_Firs...</td>\n      <td>serialised_objects\\Depots_p01hddl_Breadth_Firs...</td>\n    </tr>\n    <tr>\n      <th>5</th>\n      <td>Depots/p02.hddl</td>\n      <td>2.985424</td>\n      <td>967175</td>\n      <td>serialised_objects\\Depots_p02hddl_Breadth_Firs...</td>\n      <td>serialised_objects\\Depots_p02hddl_Breadth_Firs...</td>\n    </tr>\n    <tr>\n      <th>6</th>\n      <td>Depots/p02.hddl</td>\n      <td>2.997824</td>\n      <td>978410</td>\n      <td>serialised_objects\\Depots_p02hddl_Breadth_Firs...</td>\n      <td>serialised_objects\\Depots_p02hddl_Breadth_Firs...</td>\n    </tr>\n    <tr>\n      <th>7</th>\n      <td>Depots/p02.hddl</td>\n      <td>2.974512</td>\n      <td>989645</td>\n      <td>serialised_objects\\Depots_p02hddl_Breadth_Firs...</td>\n      <td>serialised_objects\\Depots_p02hddl_Breadth_Firs...</td>\n    </tr>\n    <tr>\n      <th>8</th>\n      <td>Depots/p02.hddl</td>\n      <td>2.992864</td>\n      <td>1000880</td>\n      <td>serialised_objects\\Depots_p02hddl_Breadth_Firs...</td>\n      <td>serialised_objects\\Depots_p02hddl_Breadth_Firs...</td>\n    </tr>\n    <tr>\n      <th>9</th>\n      <td>Depots/p02.hddl</td>\n      <td>3.436784</td>\n      <td>1012115</td>\n      <td>serialised_objects\\Depots_p02hddl_Breadth_Firs...</td>\n      <td>serialised_objects\\Depots_p02hddl_Breadth_Firs...</td>\n    </tr>\n    <tr>\n      <th>0</th>\n      <td>Factories/pfile01.hddl</td>\n      <td>7.146864</td>\n      <td>1861654</td>\n      <td>serialised_objects\\Factories_pfile01hddl_Bread...</td>\n      <td>serialised_objects\\Factories_pfile01hddl_Bread...</td>\n    </tr>\n    <tr>\n      <th>1</th>\n      <td>Factories/pfile01.hddl</td>\n      <td>7.392880</td>\n      <td>1875903</td>\n      <td>serialised_objects\\Factories_pfile01hddl_Bread...</td>\n      <td>serialised_objects\\Factories_pfile01hddl_Bread...</td>\n    </tr>\n    <tr>\n      <th>2</th>\n      <td>Factories/pfile01.hddl</td>\n      <td>7.326416</td>\n      <td>1890152</td>\n      <td>serialised_objects\\Factories_pfile01hddl_Bread...</td>\n      <td>serialised_objects\\Factories_pfile01hddl_Bread...</td>\n    </tr>\n    <tr>\n      <th>3</th>\n      <td>Factories/pfile01.hddl</td>\n      <td>7.326913</td>\n      <td>1904401</td>\n      <td>serialised_objects\\Factories_pfile01hddl_Bread...</td>\n      <td>serialised_objects\\Factories_pfile01hddl_Bread...</td>\n    </tr>\n    <tr>\n      <th>4</th>\n      <td>Factories/pfile01.hddl</td>\n      <td>7.763889</td>\n      <td>1918650</td>\n      <td>serialised_objects\\Factories_pfile01hddl_Bread...</td>\n      <td>serialised_objects\\Factories_pfile01hddl_Bread...</td>\n    </tr>\n    <tr>\n      <th>0</th>\n      <td>um-translog01/problem.hddl</td>\n      <td>0.086304</td>\n      <td>931589</td>\n      <td>serialised_objects\\um-translog01_problemhddl_B...</td>\n      <td>serialised_objects\\um-translog01_problemhddl_B...</td>\n    </tr>\n    <tr>\n      <th>1</th>\n      <td>um-translog01/problem.hddl</td>\n      <td>0.086304</td>\n      <td>932878</td>\n      <td>serialised_objects\\um-translog01_problemhddl_B...</td>\n      <td>serialised_objects\\um-translog01_problemhddl_B...</td>\n    </tr>\n    <tr>\n      <th>2</th>\n      <td>um-translog01/problem.hddl</td>\n      <td>0.280240</td>\n      <td>934167</td>\n      <td>serialised_objects\\um-translog01_problemhddl_B...</td>\n      <td>serialised_objects\\um-translog01_problemhddl_B...</td>\n    </tr>\n    <tr>\n      <th>3</th>\n      <td>um-translog01/problem.hddl</td>\n      <td>0.086304</td>\n      <td>935456</td>\n      <td>serialised_objects\\um-translog01_problemhddl_B...</td>\n      <td>serialised_objects\\um-translog01_problemhddl_B...</td>\n    </tr>\n    <tr>\n      <th>4</th>\n      <td>um-translog01/problem.hddl</td>\n      <td>0.085808</td>\n      <td>936745</td>\n      <td>serialised_objects\\um-translog01_problemhddl_B...</td>\n      <td>serialised_objects\\um-translog01_problemhddl_B...</td>\n    </tr>\n  </tbody>\n</table>\n</div>"
     },
     "execution_count": 51,
     "metadata": {},
     "output_type": "execute_result"
    }
   ],
   "source": [
    "breadth_first"
   ],
   "metadata": {
    "collapsed": false,
    "pycharm": {
     "name": "#%%\n"
    }
   }
  },
  {
   "cell_type": "code",
   "execution_count": 42,
   "outputs": [
    {
     "data": {
      "text/plain": "                  example_name  time_taken  search_models_created  \\\n0               Rover/p01.hddl    0.094736                  58297   \n1               Rover/p01.hddl    0.065472                  58804   \n2               Rover/p01.hddl    0.087296                  59311   \n3               Rover/p01.hddl    0.065968                  59818   \n4               Rover/p01.hddl    0.065471                  60325   \n5               Rover/p02.hddl    0.093248                  61142   \n6               Rover/p02.hddl    0.100192                  61959   \n7               Rover/p02.hddl    0.095232                  62776   \n8               Rover/p02.hddl    0.094240                  63593   \n9               Rover/p02.hddl    0.100688                  64410   \n10              Rover/p03.hddl    0.117056                  65308   \n11              Rover/p03.hddl    0.124992                  66206   \n12              Rover/p03.hddl    0.115568                  67104   \n13              Rover/p03.hddl    0.117056                  68002   \n14              Rover/p03.hddl    0.185504                  68900   \n15              Rover/p04.hddl   78.379911                 119535   \n16              Rover/p04.hddl   77.705847                 170170   \n17              Rover/p04.hddl   79.121432                 220805   \n18              Rover/p04.hddl   77.586807                 271440   \n19              Rover/p04.hddl   79.298999                 322075   \n0          Barman/pfile01.hddl    5.687136                1490225   \n1          Barman/pfile01.hddl    5.649936                1512070   \n2          Barman/pfile01.hddl    5.700032                1533915   \n3          Barman/pfile01.hddl    6.245632                1555760   \n4          Barman/pfile01.hddl    5.528912                1577605   \n0              Depots/p01.hddl    0.141360                1013376   \n1              Depots/p01.hddl    0.144832                1014637   \n2              Depots/p01.hddl    0.139376                1015898   \n3              Depots/p01.hddl    0.140864                1017159   \n4              Depots/p01.hddl    0.138381                1018420   \n5              Depots/p02.hddl    0.502448                1022471   \n6              Depots/p02.hddl    0.507904                1026522   \n7              Depots/p02.hddl    0.763840                1030573   \n8              Depots/p02.hddl    0.510384                1034624   \n9              Depots/p02.hddl    0.504928                1038675   \n10             Depots/p03.hddl    9.528656                1063604   \n11             Depots/p03.hddl    8.452337                1088533   \n12             Depots/p03.hddl    8.801521                1113462   \n13             Depots/p03.hddl    9.030672                1138391   \n14             Depots/p03.hddl    8.841201                1163320   \n0       Factories/pfile01.hddl    7.713296                1932899   \n1       Factories/pfile01.hddl    7.172657                1947148   \n2       Factories/pfile01.hddl    7.647328                1961397   \n3       Factories/pfile01.hddl    7.560529                1975646   \n4       Factories/pfile01.hddl    8.251953                1989895   \n0   um-translog01/problem.hddl    0.395622                   7734   \n1   um-translog01/problem.hddl    0.352002                   9023   \n2   um-translog01/problem.hddl    0.278978                  10312   \n3   um-translog01/problem.hddl    0.350768                  11601   \n4   um-translog01/problem.hddl    0.200944                  12890   \n\n                             serialised_actions_taken  \\\n0   serialised_objects\\Rover_p01hddl_Breadth_First...   \n1   serialised_objects\\Rover_p01hddl_Breadth_First...   \n2   serialised_objects\\Rover_p01hddl_Breadth_First...   \n3   serialised_objects\\Rover_p01hddl_Breadth_First...   \n4   serialised_objects\\Rover_p01hddl_Breadth_First...   \n5   serialised_objects\\Rover_p02hddl_Breadth_First...   \n6   serialised_objects\\Rover_p02hddl_Breadth_First...   \n7   serialised_objects\\Rover_p02hddl_Breadth_First...   \n8   serialised_objects\\Rover_p02hddl_Breadth_First...   \n9   serialised_objects\\Rover_p02hddl_Breadth_First...   \n10  serialised_objects\\Rover_p03hddl_Breadth_First...   \n11  serialised_objects\\Rover_p03hddl_Breadth_First...   \n12  serialised_objects\\Rover_p03hddl_Breadth_First...   \n13  serialised_objects\\Rover_p03hddl_Breadth_First...   \n14  serialised_objects\\Rover_p03hddl_Breadth_First...   \n15  serialised_objects\\Rover_p04hddl_Breadth_First...   \n16  serialised_objects\\Rover_p04hddl_Breadth_First...   \n17  serialised_objects\\Rover_p04hddl_Breadth_First...   \n18  serialised_objects\\Rover_p04hddl_Breadth_First...   \n19  serialised_objects\\Rover_p04hddl_Breadth_First...   \n0   serialised_objects\\Barman_pfile01hddl_Breadth_...   \n1   serialised_objects\\Barman_pfile01hddl_Breadth_...   \n2   serialised_objects\\Barman_pfile01hddl_Breadth_...   \n3   serialised_objects\\Barman_pfile01hddl_Breadth_...   \n4   serialised_objects\\Barman_pfile01hddl_Breadth_...   \n0   serialised_objects\\Depots_p01hddl_Breadth_Firs...   \n1   serialised_objects\\Depots_p01hddl_Breadth_Firs...   \n2   serialised_objects\\Depots_p01hddl_Breadth_Firs...   \n3   serialised_objects\\Depots_p01hddl_Breadth_Firs...   \n4   serialised_objects\\Depots_p01hddl_Breadth_Firs...   \n5   serialised_objects\\Depots_p02hddl_Breadth_Firs...   \n6   serialised_objects\\Depots_p02hddl_Breadth_Firs...   \n7   serialised_objects\\Depots_p02hddl_Breadth_Firs...   \n8   serialised_objects\\Depots_p02hddl_Breadth_Firs...   \n9   serialised_objects\\Depots_p02hddl_Breadth_Firs...   \n10  serialised_objects\\Depots_p03hddl_Breadth_Firs...   \n11  serialised_objects\\Depots_p03hddl_Breadth_Firs...   \n12  serialised_objects\\Depots_p03hddl_Breadth_Firs...   \n13  serialised_objects\\Depots_p03hddl_Breadth_Firs...   \n14  serialised_objects\\Depots_p03hddl_Breadth_Firs...   \n0   serialised_objects\\Factories_pfile01hddl_Bread...   \n1   serialised_objects\\Factories_pfile01hddl_Bread...   \n2   serialised_objects\\Factories_pfile01hddl_Bread...   \n3   serialised_objects\\Factories_pfile01hddl_Bread...   \n4   serialised_objects\\Factories_pfile01hddl_Bread...   \n0   serialised_objects\\um-translog01_problemhddl_B...   \n1   serialised_objects\\um-translog01_problemhddl_B...   \n2   serialised_objects\\um-translog01_problemhddl_B...   \n3   serialised_objects\\um-translog01_problemhddl_B...   \n4   serialised_objects\\um-translog01_problemhddl_B...   \n\n                                     serialised_state  \n0   serialised_objects\\Rover_p01hddl_Breadth_First...  \n1   serialised_objects\\Rover_p01hddl_Breadth_First...  \n2   serialised_objects\\Rover_p01hddl_Breadth_First...  \n3   serialised_objects\\Rover_p01hddl_Breadth_First...  \n4   serialised_objects\\Rover_p01hddl_Breadth_First...  \n5   serialised_objects\\Rover_p02hddl_Breadth_First...  \n6   serialised_objects\\Rover_p02hddl_Breadth_First...  \n7   serialised_objects\\Rover_p02hddl_Breadth_First...  \n8   serialised_objects\\Rover_p02hddl_Breadth_First...  \n9   serialised_objects\\Rover_p02hddl_Breadth_First...  \n10  serialised_objects\\Rover_p03hddl_Breadth_First...  \n11  serialised_objects\\Rover_p03hddl_Breadth_First...  \n12  serialised_objects\\Rover_p03hddl_Breadth_First...  \n13  serialised_objects\\Rover_p03hddl_Breadth_First...  \n14  serialised_objects\\Rover_p03hddl_Breadth_First...  \n15  serialised_objects\\Rover_p04hddl_Breadth_First...  \n16  serialised_objects\\Rover_p04hddl_Breadth_First...  \n17  serialised_objects\\Rover_p04hddl_Breadth_First...  \n18  serialised_objects\\Rover_p04hddl_Breadth_First...  \n19  serialised_objects\\Rover_p04hddl_Breadth_First...  \n0   serialised_objects\\Barman_pfile01hddl_Breadth_...  \n1   serialised_objects\\Barman_pfile01hddl_Breadth_...  \n2   serialised_objects\\Barman_pfile01hddl_Breadth_...  \n3   serialised_objects\\Barman_pfile01hddl_Breadth_...  \n4   serialised_objects\\Barman_pfile01hddl_Breadth_...  \n0   serialised_objects\\Depots_p01hddl_Breadth_Firs...  \n1   serialised_objects\\Depots_p01hddl_Breadth_Firs...  \n2   serialised_objects\\Depots_p01hddl_Breadth_Firs...  \n3   serialised_objects\\Depots_p01hddl_Breadth_Firs...  \n4   serialised_objects\\Depots_p01hddl_Breadth_Firs...  \n5   serialised_objects\\Depots_p02hddl_Breadth_Firs...  \n6   serialised_objects\\Depots_p02hddl_Breadth_Firs...  \n7   serialised_objects\\Depots_p02hddl_Breadth_Firs...  \n8   serialised_objects\\Depots_p02hddl_Breadth_Firs...  \n9   serialised_objects\\Depots_p02hddl_Breadth_Firs...  \n10  serialised_objects\\Depots_p03hddl_Breadth_Firs...  \n11  serialised_objects\\Depots_p03hddl_Breadth_Firs...  \n12  serialised_objects\\Depots_p03hddl_Breadth_Firs...  \n13  serialised_objects\\Depots_p03hddl_Breadth_Firs...  \n14  serialised_objects\\Depots_p03hddl_Breadth_Firs...  \n0   serialised_objects\\Factories_pfile01hddl_Bread...  \n1   serialised_objects\\Factories_pfile01hddl_Bread...  \n2   serialised_objects\\Factories_pfile01hddl_Bread...  \n3   serialised_objects\\Factories_pfile01hddl_Bread...  \n4   serialised_objects\\Factories_pfile01hddl_Bread...  \n0   serialised_objects\\um-translog01_problemhddl_B...  \n1   serialised_objects\\um-translog01_problemhddl_B...  \n2   serialised_objects\\um-translog01_problemhddl_B...  \n3   serialised_objects\\um-translog01_problemhddl_B...  \n4   serialised_objects\\um-translog01_problemhddl_B...  ",
      "text/html": "<div>\n<style scoped>\n    .dataframe tbody tr th:only-of-type {\n        vertical-align: middle;\n    }\n\n    .dataframe tbody tr th {\n        vertical-align: top;\n    }\n\n    .dataframe thead th {\n        text-align: right;\n    }\n</style>\n<table border=\"1\" class=\"dataframe\">\n  <thead>\n    <tr style=\"text-align: right;\">\n      <th></th>\n      <th>example_name</th>\n      <th>time_taken</th>\n      <th>search_models_created</th>\n      <th>serialised_actions_taken</th>\n      <th>serialised_state</th>\n    </tr>\n  </thead>\n  <tbody>\n    <tr>\n      <th>0</th>\n      <td>Rover/p01.hddl</td>\n      <td>0.094736</td>\n      <td>58297</td>\n      <td>serialised_objects\\Rover_p01hddl_Breadth_First...</td>\n      <td>serialised_objects\\Rover_p01hddl_Breadth_First...</td>\n    </tr>\n    <tr>\n      <th>1</th>\n      <td>Rover/p01.hddl</td>\n      <td>0.065472</td>\n      <td>58804</td>\n      <td>serialised_objects\\Rover_p01hddl_Breadth_First...</td>\n      <td>serialised_objects\\Rover_p01hddl_Breadth_First...</td>\n    </tr>\n    <tr>\n      <th>2</th>\n      <td>Rover/p01.hddl</td>\n      <td>0.087296</td>\n      <td>59311</td>\n      <td>serialised_objects\\Rover_p01hddl_Breadth_First...</td>\n      <td>serialised_objects\\Rover_p01hddl_Breadth_First...</td>\n    </tr>\n    <tr>\n      <th>3</th>\n      <td>Rover/p01.hddl</td>\n      <td>0.065968</td>\n      <td>59818</td>\n      <td>serialised_objects\\Rover_p01hddl_Breadth_First...</td>\n      <td>serialised_objects\\Rover_p01hddl_Breadth_First...</td>\n    </tr>\n    <tr>\n      <th>4</th>\n      <td>Rover/p01.hddl</td>\n      <td>0.065471</td>\n      <td>60325</td>\n      <td>serialised_objects\\Rover_p01hddl_Breadth_First...</td>\n      <td>serialised_objects\\Rover_p01hddl_Breadth_First...</td>\n    </tr>\n    <tr>\n      <th>5</th>\n      <td>Rover/p02.hddl</td>\n      <td>0.093248</td>\n      <td>61142</td>\n      <td>serialised_objects\\Rover_p02hddl_Breadth_First...</td>\n      <td>serialised_objects\\Rover_p02hddl_Breadth_First...</td>\n    </tr>\n    <tr>\n      <th>6</th>\n      <td>Rover/p02.hddl</td>\n      <td>0.100192</td>\n      <td>61959</td>\n      <td>serialised_objects\\Rover_p02hddl_Breadth_First...</td>\n      <td>serialised_objects\\Rover_p02hddl_Breadth_First...</td>\n    </tr>\n    <tr>\n      <th>7</th>\n      <td>Rover/p02.hddl</td>\n      <td>0.095232</td>\n      <td>62776</td>\n      <td>serialised_objects\\Rover_p02hddl_Breadth_First...</td>\n      <td>serialised_objects\\Rover_p02hddl_Breadth_First...</td>\n    </tr>\n    <tr>\n      <th>8</th>\n      <td>Rover/p02.hddl</td>\n      <td>0.094240</td>\n      <td>63593</td>\n      <td>serialised_objects\\Rover_p02hddl_Breadth_First...</td>\n      <td>serialised_objects\\Rover_p02hddl_Breadth_First...</td>\n    </tr>\n    <tr>\n      <th>9</th>\n      <td>Rover/p02.hddl</td>\n      <td>0.100688</td>\n      <td>64410</td>\n      <td>serialised_objects\\Rover_p02hddl_Breadth_First...</td>\n      <td>serialised_objects\\Rover_p02hddl_Breadth_First...</td>\n    </tr>\n    <tr>\n      <th>10</th>\n      <td>Rover/p03.hddl</td>\n      <td>0.117056</td>\n      <td>65308</td>\n      <td>serialised_objects\\Rover_p03hddl_Breadth_First...</td>\n      <td>serialised_objects\\Rover_p03hddl_Breadth_First...</td>\n    </tr>\n    <tr>\n      <th>11</th>\n      <td>Rover/p03.hddl</td>\n      <td>0.124992</td>\n      <td>66206</td>\n      <td>serialised_objects\\Rover_p03hddl_Breadth_First...</td>\n      <td>serialised_objects\\Rover_p03hddl_Breadth_First...</td>\n    </tr>\n    <tr>\n      <th>12</th>\n      <td>Rover/p03.hddl</td>\n      <td>0.115568</td>\n      <td>67104</td>\n      <td>serialised_objects\\Rover_p03hddl_Breadth_First...</td>\n      <td>serialised_objects\\Rover_p03hddl_Breadth_First...</td>\n    </tr>\n    <tr>\n      <th>13</th>\n      <td>Rover/p03.hddl</td>\n      <td>0.117056</td>\n      <td>68002</td>\n      <td>serialised_objects\\Rover_p03hddl_Breadth_First...</td>\n      <td>serialised_objects\\Rover_p03hddl_Breadth_First...</td>\n    </tr>\n    <tr>\n      <th>14</th>\n      <td>Rover/p03.hddl</td>\n      <td>0.185504</td>\n      <td>68900</td>\n      <td>serialised_objects\\Rover_p03hddl_Breadth_First...</td>\n      <td>serialised_objects\\Rover_p03hddl_Breadth_First...</td>\n    </tr>\n    <tr>\n      <th>15</th>\n      <td>Rover/p04.hddl</td>\n      <td>78.379911</td>\n      <td>119535</td>\n      <td>serialised_objects\\Rover_p04hddl_Breadth_First...</td>\n      <td>serialised_objects\\Rover_p04hddl_Breadth_First...</td>\n    </tr>\n    <tr>\n      <th>16</th>\n      <td>Rover/p04.hddl</td>\n      <td>77.705847</td>\n      <td>170170</td>\n      <td>serialised_objects\\Rover_p04hddl_Breadth_First...</td>\n      <td>serialised_objects\\Rover_p04hddl_Breadth_First...</td>\n    </tr>\n    <tr>\n      <th>17</th>\n      <td>Rover/p04.hddl</td>\n      <td>79.121432</td>\n      <td>220805</td>\n      <td>serialised_objects\\Rover_p04hddl_Breadth_First...</td>\n      <td>serialised_objects\\Rover_p04hddl_Breadth_First...</td>\n    </tr>\n    <tr>\n      <th>18</th>\n      <td>Rover/p04.hddl</td>\n      <td>77.586807</td>\n      <td>271440</td>\n      <td>serialised_objects\\Rover_p04hddl_Breadth_First...</td>\n      <td>serialised_objects\\Rover_p04hddl_Breadth_First...</td>\n    </tr>\n    <tr>\n      <th>19</th>\n      <td>Rover/p04.hddl</td>\n      <td>79.298999</td>\n      <td>322075</td>\n      <td>serialised_objects\\Rover_p04hddl_Breadth_First...</td>\n      <td>serialised_objects\\Rover_p04hddl_Breadth_First...</td>\n    </tr>\n    <tr>\n      <th>0</th>\n      <td>Barman/pfile01.hddl</td>\n      <td>5.687136</td>\n      <td>1490225</td>\n      <td>serialised_objects\\Barman_pfile01hddl_Breadth_...</td>\n      <td>serialised_objects\\Barman_pfile01hddl_Breadth_...</td>\n    </tr>\n    <tr>\n      <th>1</th>\n      <td>Barman/pfile01.hddl</td>\n      <td>5.649936</td>\n      <td>1512070</td>\n      <td>serialised_objects\\Barman_pfile01hddl_Breadth_...</td>\n      <td>serialised_objects\\Barman_pfile01hddl_Breadth_...</td>\n    </tr>\n    <tr>\n      <th>2</th>\n      <td>Barman/pfile01.hddl</td>\n      <td>5.700032</td>\n      <td>1533915</td>\n      <td>serialised_objects\\Barman_pfile01hddl_Breadth_...</td>\n      <td>serialised_objects\\Barman_pfile01hddl_Breadth_...</td>\n    </tr>\n    <tr>\n      <th>3</th>\n      <td>Barman/pfile01.hddl</td>\n      <td>6.245632</td>\n      <td>1555760</td>\n      <td>serialised_objects\\Barman_pfile01hddl_Breadth_...</td>\n      <td>serialised_objects\\Barman_pfile01hddl_Breadth_...</td>\n    </tr>\n    <tr>\n      <th>4</th>\n      <td>Barman/pfile01.hddl</td>\n      <td>5.528912</td>\n      <td>1577605</td>\n      <td>serialised_objects\\Barman_pfile01hddl_Breadth_...</td>\n      <td>serialised_objects\\Barman_pfile01hddl_Breadth_...</td>\n    </tr>\n    <tr>\n      <th>0</th>\n      <td>Depots/p01.hddl</td>\n      <td>0.141360</td>\n      <td>1013376</td>\n      <td>serialised_objects\\Depots_p01hddl_Breadth_Firs...</td>\n      <td>serialised_objects\\Depots_p01hddl_Breadth_Firs...</td>\n    </tr>\n    <tr>\n      <th>1</th>\n      <td>Depots/p01.hddl</td>\n      <td>0.144832</td>\n      <td>1014637</td>\n      <td>serialised_objects\\Depots_p01hddl_Breadth_Firs...</td>\n      <td>serialised_objects\\Depots_p01hddl_Breadth_Firs...</td>\n    </tr>\n    <tr>\n      <th>2</th>\n      <td>Depots/p01.hddl</td>\n      <td>0.139376</td>\n      <td>1015898</td>\n      <td>serialised_objects\\Depots_p01hddl_Breadth_Firs...</td>\n      <td>serialised_objects\\Depots_p01hddl_Breadth_Firs...</td>\n    </tr>\n    <tr>\n      <th>3</th>\n      <td>Depots/p01.hddl</td>\n      <td>0.140864</td>\n      <td>1017159</td>\n      <td>serialised_objects\\Depots_p01hddl_Breadth_Firs...</td>\n      <td>serialised_objects\\Depots_p01hddl_Breadth_Firs...</td>\n    </tr>\n    <tr>\n      <th>4</th>\n      <td>Depots/p01.hddl</td>\n      <td>0.138381</td>\n      <td>1018420</td>\n      <td>serialised_objects\\Depots_p01hddl_Breadth_Firs...</td>\n      <td>serialised_objects\\Depots_p01hddl_Breadth_Firs...</td>\n    </tr>\n    <tr>\n      <th>5</th>\n      <td>Depots/p02.hddl</td>\n      <td>0.502448</td>\n      <td>1022471</td>\n      <td>serialised_objects\\Depots_p02hddl_Breadth_Firs...</td>\n      <td>serialised_objects\\Depots_p02hddl_Breadth_Firs...</td>\n    </tr>\n    <tr>\n      <th>6</th>\n      <td>Depots/p02.hddl</td>\n      <td>0.507904</td>\n      <td>1026522</td>\n      <td>serialised_objects\\Depots_p02hddl_Breadth_Firs...</td>\n      <td>serialised_objects\\Depots_p02hddl_Breadth_Firs...</td>\n    </tr>\n    <tr>\n      <th>7</th>\n      <td>Depots/p02.hddl</td>\n      <td>0.763840</td>\n      <td>1030573</td>\n      <td>serialised_objects\\Depots_p02hddl_Breadth_Firs...</td>\n      <td>serialised_objects\\Depots_p02hddl_Breadth_Firs...</td>\n    </tr>\n    <tr>\n      <th>8</th>\n      <td>Depots/p02.hddl</td>\n      <td>0.510384</td>\n      <td>1034624</td>\n      <td>serialised_objects\\Depots_p02hddl_Breadth_Firs...</td>\n      <td>serialised_objects\\Depots_p02hddl_Breadth_Firs...</td>\n    </tr>\n    <tr>\n      <th>9</th>\n      <td>Depots/p02.hddl</td>\n      <td>0.504928</td>\n      <td>1038675</td>\n      <td>serialised_objects\\Depots_p02hddl_Breadth_Firs...</td>\n      <td>serialised_objects\\Depots_p02hddl_Breadth_Firs...</td>\n    </tr>\n    <tr>\n      <th>10</th>\n      <td>Depots/p03.hddl</td>\n      <td>9.528656</td>\n      <td>1063604</td>\n      <td>serialised_objects\\Depots_p03hddl_Breadth_Firs...</td>\n      <td>serialised_objects\\Depots_p03hddl_Breadth_Firs...</td>\n    </tr>\n    <tr>\n      <th>11</th>\n      <td>Depots/p03.hddl</td>\n      <td>8.452337</td>\n      <td>1088533</td>\n      <td>serialised_objects\\Depots_p03hddl_Breadth_Firs...</td>\n      <td>serialised_objects\\Depots_p03hddl_Breadth_Firs...</td>\n    </tr>\n    <tr>\n      <th>12</th>\n      <td>Depots/p03.hddl</td>\n      <td>8.801521</td>\n      <td>1113462</td>\n      <td>serialised_objects\\Depots_p03hddl_Breadth_Firs...</td>\n      <td>serialised_objects\\Depots_p03hddl_Breadth_Firs...</td>\n    </tr>\n    <tr>\n      <th>13</th>\n      <td>Depots/p03.hddl</td>\n      <td>9.030672</td>\n      <td>1138391</td>\n      <td>serialised_objects\\Depots_p03hddl_Breadth_Firs...</td>\n      <td>serialised_objects\\Depots_p03hddl_Breadth_Firs...</td>\n    </tr>\n    <tr>\n      <th>14</th>\n      <td>Depots/p03.hddl</td>\n      <td>8.841201</td>\n      <td>1163320</td>\n      <td>serialised_objects\\Depots_p03hddl_Breadth_Firs...</td>\n      <td>serialised_objects\\Depots_p03hddl_Breadth_Firs...</td>\n    </tr>\n    <tr>\n      <th>0</th>\n      <td>Factories/pfile01.hddl</td>\n      <td>7.713296</td>\n      <td>1932899</td>\n      <td>serialised_objects\\Factories_pfile01hddl_Bread...</td>\n      <td>serialised_objects\\Factories_pfile01hddl_Bread...</td>\n    </tr>\n    <tr>\n      <th>1</th>\n      <td>Factories/pfile01.hddl</td>\n      <td>7.172657</td>\n      <td>1947148</td>\n      <td>serialised_objects\\Factories_pfile01hddl_Bread...</td>\n      <td>serialised_objects\\Factories_pfile01hddl_Bread...</td>\n    </tr>\n    <tr>\n      <th>2</th>\n      <td>Factories/pfile01.hddl</td>\n      <td>7.647328</td>\n      <td>1961397</td>\n      <td>serialised_objects\\Factories_pfile01hddl_Bread...</td>\n      <td>serialised_objects\\Factories_pfile01hddl_Bread...</td>\n    </tr>\n    <tr>\n      <th>3</th>\n      <td>Factories/pfile01.hddl</td>\n      <td>7.560529</td>\n      <td>1975646</td>\n      <td>serialised_objects\\Factories_pfile01hddl_Bread...</td>\n      <td>serialised_objects\\Factories_pfile01hddl_Bread...</td>\n    </tr>\n    <tr>\n      <th>4</th>\n      <td>Factories/pfile01.hddl</td>\n      <td>8.251953</td>\n      <td>1989895</td>\n      <td>serialised_objects\\Factories_pfile01hddl_Bread...</td>\n      <td>serialised_objects\\Factories_pfile01hddl_Bread...</td>\n    </tr>\n    <tr>\n      <th>0</th>\n      <td>um-translog01/problem.hddl</td>\n      <td>0.395622</td>\n      <td>7734</td>\n      <td>serialised_objects\\um-translog01_problemhddl_B...</td>\n      <td>serialised_objects\\um-translog01_problemhddl_B...</td>\n    </tr>\n    <tr>\n      <th>1</th>\n      <td>um-translog01/problem.hddl</td>\n      <td>0.352002</td>\n      <td>9023</td>\n      <td>serialised_objects\\um-translog01_problemhddl_B...</td>\n      <td>serialised_objects\\um-translog01_problemhddl_B...</td>\n    </tr>\n    <tr>\n      <th>2</th>\n      <td>um-translog01/problem.hddl</td>\n      <td>0.278978</td>\n      <td>10312</td>\n      <td>serialised_objects\\um-translog01_problemhddl_B...</td>\n      <td>serialised_objects\\um-translog01_problemhddl_B...</td>\n    </tr>\n    <tr>\n      <th>3</th>\n      <td>um-translog01/problem.hddl</td>\n      <td>0.350768</td>\n      <td>11601</td>\n      <td>serialised_objects\\um-translog01_problemhddl_B...</td>\n      <td>serialised_objects\\um-translog01_problemhddl_B...</td>\n    </tr>\n    <tr>\n      <th>4</th>\n      <td>um-translog01/problem.hddl</td>\n      <td>0.200944</td>\n      <td>12890</td>\n      <td>serialised_objects\\um-translog01_problemhddl_B...</td>\n      <td>serialised_objects\\um-translog01_problemhddl_B...</td>\n    </tr>\n  </tbody>\n</table>\n</div>"
     },
     "execution_count": 42,
     "metadata": {},
     "output_type": "execute_result"
    }
   ],
   "source": [
    "\"\"\"Load data from breadth first pruning\"\"\"\n",
    "breadth_first_pruning_data_path = os.path.join(os.getcwd(), \"Archive\", \"Rover\", \"Breadth_First_Operations_Pruning.csv\")\n",
    "breadth_first_pruning = pd.read_csv(breadth_first_pruning_data_path, sep=\",\")\n",
    "\n",
    "breadth_first_pruning_data_path = os.path.join(os.getcwd(), \"Archive\", \"Barman\", \"Breadth_First_Operations_Pruning.csv\")\n",
    "breadth_first_pruning = pd.concat([breadth_first_pruning, pd.read_csv(breadth_first_pruning_data_path, sep=\",\")])\n",
    "\n",
    "breadth_first_pruning_data_path = os.path.join(os.getcwd(), \"Archive\", \"Depot\", \"Breadth_First_Operations_Pruning.csv\")\n",
    "breadth_first_pruning = pd.concat([breadth_first_pruning, pd.read_csv(breadth_first_pruning_data_path, sep=\",\")])\n",
    "\n",
    "breadth_first_pruning_data_path = os.path.join(os.getcwd(), \"Archive\", \"Factories\", \"Breadth_First_Operations_Pruning.csv\")\n",
    "breadth_first_pruning = pd.concat([breadth_first_pruning, pd.read_csv(breadth_first_pruning_data_path, sep=\",\")])\n",
    "\n",
    "breadth_first_pruning_data_path = os.path.join(os.getcwd(), \"Archive\", \"translog\", \"Breadth_First_Operations_Pruning.csv\")\n",
    "breadth_first_pruning = pd.concat([breadth_first_pruning, pd.read_csv(breadth_first_pruning_data_path, sep=\",\")])\n",
    "\n",
    "breadth_first_pruning_av_time = average_time()\n",
    "for example_name in breadth_first_pruning.example_name.unique():\n",
    "    breadth_first_pruning_av_time.calculate_average_time(example_name, breadth_first_pruning[breadth_first_pruning['example_name'] == example_name]['time_taken'])\n",
    "\n",
    "    breadth_first_pruning_av_time.calculate_average_model(example_name, breadth_first_pruning[breadth_first_pruning['example_name'] == example_name]['search_models_created'])\n",
    "\n",
    "breadth_first_pruning"
   ],
   "metadata": {
    "collapsed": false,
    "pycharm": {
     "name": "#%%\n"
    }
   }
  },
  {
   "cell_type": "code",
   "execution_count": 44,
   "outputs": [
    {
     "data": {
      "text/plain": "                  example_name  time_taken  search_models_created  \\\n0               Rover/p01.hddl    0.038192                 654476   \n1               Rover/p01.hddl    0.035710                 654692   \n2               Rover/p01.hddl    0.035216                 654908   \n3               Rover/p01.hddl    0.259904                 655124   \n4               Rover/p01.hddl    0.033231                 655340   \n..                         ...         ...                    ...   \n0   um-translog01/problem.hddl    0.397328                  14179   \n1   um-translog01/problem.hddl    0.361637                  15468   \n2   um-translog01/problem.hddl    0.306684                  16757   \n3   um-translog01/problem.hddl    0.320919                  18046   \n4   um-translog01/problem.hddl    0.364008                  19335   \n\n                             serialised_actions_taken  \\\n0   serialised_objects\\Rover_p01hddl_Hamming_Dista...   \n1   serialised_objects\\Rover_p01hddl_Hamming_Dista...   \n2   serialised_objects\\Rover_p01hddl_Hamming_Dista...   \n3   serialised_objects\\Rover_p01hddl_Hamming_Dista...   \n4   serialised_objects\\Rover_p01hddl_Hamming_Dista...   \n..                                                ...   \n0   serialised_objects\\um-translog01_problemhddl_H...   \n1   serialised_objects\\um-translog01_problemhddl_H...   \n2   serialised_objects\\um-translog01_problemhddl_H...   \n3   serialised_objects\\um-translog01_problemhddl_H...   \n4   serialised_objects\\um-translog01_problemhddl_H...   \n\n                                     serialised_state  \n0   serialised_objects\\Rover_p01hddl_Hamming_Dista...  \n1   serialised_objects\\Rover_p01hddl_Hamming_Dista...  \n2   serialised_objects\\Rover_p01hddl_Hamming_Dista...  \n3   serialised_objects\\Rover_p01hddl_Hamming_Dista...  \n4   serialised_objects\\Rover_p01hddl_Hamming_Dista...  \n..                                                ...  \n0   serialised_objects\\um-translog01_problemhddl_H...  \n1   serialised_objects\\um-translog01_problemhddl_H...  \n2   serialised_objects\\um-translog01_problemhddl_H...  \n3   serialised_objects\\um-translog01_problemhddl_H...  \n4   serialised_objects\\um-translog01_problemhddl_H...  \n\n[65 rows x 5 columns]",
      "text/html": "<div>\n<style scoped>\n    .dataframe tbody tr th:only-of-type {\n        vertical-align: middle;\n    }\n\n    .dataframe tbody tr th {\n        vertical-align: top;\n    }\n\n    .dataframe thead th {\n        text-align: right;\n    }\n</style>\n<table border=\"1\" class=\"dataframe\">\n  <thead>\n    <tr style=\"text-align: right;\">\n      <th></th>\n      <th>example_name</th>\n      <th>time_taken</th>\n      <th>search_models_created</th>\n      <th>serialised_actions_taken</th>\n      <th>serialised_state</th>\n    </tr>\n  </thead>\n  <tbody>\n    <tr>\n      <th>0</th>\n      <td>Rover/p01.hddl</td>\n      <td>0.038192</td>\n      <td>654476</td>\n      <td>serialised_objects\\Rover_p01hddl_Hamming_Dista...</td>\n      <td>serialised_objects\\Rover_p01hddl_Hamming_Dista...</td>\n    </tr>\n    <tr>\n      <th>1</th>\n      <td>Rover/p01.hddl</td>\n      <td>0.035710</td>\n      <td>654692</td>\n      <td>serialised_objects\\Rover_p01hddl_Hamming_Dista...</td>\n      <td>serialised_objects\\Rover_p01hddl_Hamming_Dista...</td>\n    </tr>\n    <tr>\n      <th>2</th>\n      <td>Rover/p01.hddl</td>\n      <td>0.035216</td>\n      <td>654908</td>\n      <td>serialised_objects\\Rover_p01hddl_Hamming_Dista...</td>\n      <td>serialised_objects\\Rover_p01hddl_Hamming_Dista...</td>\n    </tr>\n    <tr>\n      <th>3</th>\n      <td>Rover/p01.hddl</td>\n      <td>0.259904</td>\n      <td>655124</td>\n      <td>serialised_objects\\Rover_p01hddl_Hamming_Dista...</td>\n      <td>serialised_objects\\Rover_p01hddl_Hamming_Dista...</td>\n    </tr>\n    <tr>\n      <th>4</th>\n      <td>Rover/p01.hddl</td>\n      <td>0.033231</td>\n      <td>655340</td>\n      <td>serialised_objects\\Rover_p01hddl_Hamming_Dista...</td>\n      <td>serialised_objects\\Rover_p01hddl_Hamming_Dista...</td>\n    </tr>\n    <tr>\n      <th>...</th>\n      <td>...</td>\n      <td>...</td>\n      <td>...</td>\n      <td>...</td>\n      <td>...</td>\n    </tr>\n    <tr>\n      <th>0</th>\n      <td>um-translog01/problem.hddl</td>\n      <td>0.397328</td>\n      <td>14179</td>\n      <td>serialised_objects\\um-translog01_problemhddl_H...</td>\n      <td>serialised_objects\\um-translog01_problemhddl_H...</td>\n    </tr>\n    <tr>\n      <th>1</th>\n      <td>um-translog01/problem.hddl</td>\n      <td>0.361637</td>\n      <td>15468</td>\n      <td>serialised_objects\\um-translog01_problemhddl_H...</td>\n      <td>serialised_objects\\um-translog01_problemhddl_H...</td>\n    </tr>\n    <tr>\n      <th>2</th>\n      <td>um-translog01/problem.hddl</td>\n      <td>0.306684</td>\n      <td>16757</td>\n      <td>serialised_objects\\um-translog01_problemhddl_H...</td>\n      <td>serialised_objects\\um-translog01_problemhddl_H...</td>\n    </tr>\n    <tr>\n      <th>3</th>\n      <td>um-translog01/problem.hddl</td>\n      <td>0.320919</td>\n      <td>18046</td>\n      <td>serialised_objects\\um-translog01_problemhddl_H...</td>\n      <td>serialised_objects\\um-translog01_problemhddl_H...</td>\n    </tr>\n    <tr>\n      <th>4</th>\n      <td>um-translog01/problem.hddl</td>\n      <td>0.364008</td>\n      <td>19335</td>\n      <td>serialised_objects\\um-translog01_problemhddl_H...</td>\n      <td>serialised_objects\\um-translog01_problemhddl_H...</td>\n    </tr>\n  </tbody>\n</table>\n<p>65 rows × 5 columns</p>\n</div>"
     },
     "execution_count": 44,
     "metadata": {},
     "output_type": "execute_result"
    }
   ],
   "source": [
    "\"\"\"Load data for Hamming Distance\"\"\"\n",
    "hamming_distance_data_path = os.path.join(os.getcwd(), \"Archive\", \"Rover\", \"Hamming_Distance.csv\")\n",
    "hamming_distance = pd.read_csv(hamming_distance_data_path, sep=\",\")\n",
    "\n",
    "hamming_distance_data_path = os.path.join(os.getcwd(), \"Archive\", \"Barman\", \"Hamming_Distance.csv\")\n",
    "hamming_distance = pd.concat([hamming_distance, pd.read_csv(hamming_distance_data_path, sep=\",\")])\n",
    "\n",
    "hamming_distance_data_path = os.path.join(os.getcwd(), \"Archive\", \"Depot\", \"Hamming_Distance.csv\")\n",
    "hamming_distance = pd.concat([hamming_distance, pd.read_csv(hamming_distance_data_path, sep=\",\")])\n",
    "\n",
    "hamming_distance_data_path = os.path.join(os.getcwd(), \"Archive\", \"Factories\", \"Hamming_Distance.csv\")\n",
    "hamming_distance = pd.concat([hamming_distance, pd.read_csv(hamming_distance_data_path, sep=\",\")])\n",
    "\n",
    "hamming_distance_data_path = os.path.join(os.getcwd(), \"Archive\", \"translog\", \"Hamming_Distance.csv\")\n",
    "hamming_distance = pd.concat([hamming_distance, pd.read_csv(hamming_distance_data_path, sep=\",\")])\n",
    "\n",
    "hamming_distance_av_time = average_time()\n",
    "for example_name in hamming_distance.example_name.unique():\n",
    "    hamming_distance_av_time.calculate_average_time(example_name, hamming_distance[hamming_distance['example_name'] == example_name]['time_taken'])\n",
    "\n",
    "    hamming_distance_av_time.calculate_average_model(example_name, hamming_distance[hamming_distance['example_name'] == example_name]['search_models_created'])\n",
    "\n",
    "hamming_distance"
   ],
   "metadata": {
    "collapsed": false,
    "pycharm": {
     "name": "#%%\n"
    }
   }
  },
  {
   "cell_type": "code",
   "execution_count": 47,
   "outputs": [
    {
     "data": {
      "text/plain": "              example_name  time_taken search_models_created  \\\n0           Rover/p01.hddl    0.069936                322517   \n1           Rover/p01.hddl    0.064480                322959   \n2           Rover/p01.hddl    0.065967                323401   \n3           Rover/p01.hddl    0.064479                323843   \n4           Rover/p01.hddl    0.065472                324285   \n5           Rover/p02.hddl    0.074896                324733   \n6           Rover/p02.hddl    0.076880                325181   \n7           Rover/p02.hddl    0.074896                325629   \n8           Rover/p02.hddl    0.076880                326077   \n9           Rover/p02.hddl    0.077872                326525   \n10          Rover/p03.hddl    0.394816                327012   \n11          Rover/p03.hddl    0.153760                327499   \n12          Rover/p03.hddl    0.155744                327986   \n13          Rover/p03.hddl    0.147808                328473   \n14          Rover/p03.hddl    0.157728                328960   \n0      Barman/pfile01.hddl    0.966704               1693184   \n1      Barman/pfile01.hddl    0.867008               1704433   \n2      Barman/pfile01.hddl    0.856095               1715682   \n3      Barman/pfile01.hddl    0.862047               1726931   \n4      Barman/pfile01.hddl    0.857584               1738180   \n0          Depots/p01.hddl    0.056544               1223945   \n1          Depots/p01.hddl    0.057040               1224675   \n2          Depots/p01.hddl    0.063984               1225405   \n3          Depots/p01.hddl    0.056048               1226135   \n4          Depots/p01.hddl    0.056048               1226865   \n5          Depots/p02.hddl    0.444912               1230527   \n6          Depots/p02.hddl    0.442432               1234189   \n7          Depots/p02.hddl    0.451856               1237851   \n8          Depots/p02.hddl    0.440943               1241513   \n9          Depots/p02.hddl    0.443424               1245175   \n10         Depots/p03.hddl    6.017968               1267971   \n11         Depots/p03.hddl    6.233728               1290767   \n12         Depots/p03.hddl    6.406336               1313563   \n13         Depots/p03.hddl    6.688065               1336359   \n14         Depots/p03.hddl    5.966385               1359155   \n0   Factories/pfile01.hddl    2.962608               2000125   \n1   Factories/pfile01.hddl    2.847536               2010355   \n2   Factories/pfile01.hddl    3.010720               2020585   \n3   Factories/pfile01.hddl    2.828688               2030815   \n4   Factories/pfile01.hddl    3.357920               2041045   \n\n                             serialised_actions_taken  \\\n0   serialised_objects\\Rover_p01hddl_Tree_Distance...   \n1   serialised_objects\\Rover_p01hddl_Tree_Distance...   \n2   serialised_objects\\Rover_p01hddl_Tree_Distance...   \n3   serialised_objects\\Rover_p01hddl_Tree_Distance...   \n4   serialised_objects\\Rover_p01hddl_Tree_Distance...   \n5   serialised_objects\\Rover_p02hddl_Tree_Distance...   \n6   serialised_objects\\Rover_p02hddl_Tree_Distance...   \n7   serialised_objects\\Rover_p02hddl_Tree_Distance...   \n8   serialised_objects\\Rover_p02hddl_Tree_Distance...   \n9   serialised_objects\\Rover_p02hddl_Tree_Distance...   \n10  serialised_objects\\Rover_p03hddl_Tree_Distance...   \n11  serialised_objects\\Rover_p03hddl_Tree_Distance...   \n12  serialised_objects\\Rover_p03hddl_Tree_Distance...   \n13  serialised_objects\\Rover_p03hddl_Tree_Distance...   \n14  serialised_objects\\Rover_p03hddl_Tree_Distance...   \n0   serialised_objects\\Barman_pfile01hddl_Tree_Dis...   \n1   serialised_objects\\Barman_pfile01hddl_Tree_Dis...   \n2   serialised_objects\\Barman_pfile01hddl_Tree_Dis...   \n3   serialised_objects\\Barman_pfile01hddl_Tree_Dis...   \n4   serialised_objects\\Barman_pfile01hddl_Tree_Dis...   \n0   serialised_objects\\Depots_p01hddl_Tree_Distanc...   \n1   serialised_objects\\Depots_p01hddl_Tree_Distanc...   \n2   serialised_objects\\Depots_p01hddl_Tree_Distanc...   \n3   serialised_objects\\Depots_p01hddl_Tree_Distanc...   \n4   serialised_objects\\Depots_p01hddl_Tree_Distanc...   \n5   serialised_objects\\Depots_p02hddl_Tree_Distanc...   \n6   serialised_objects\\Depots_p02hddl_Tree_Distanc...   \n7   serialised_objects\\Depots_p02hddl_Tree_Distanc...   \n8   serialised_objects\\Depots_p02hddl_Tree_Distanc...   \n9   serialised_objects\\Depots_p02hddl_Tree_Distanc...   \n10  serialised_objects\\Depots_p03hddl_Tree_Distanc...   \n11  serialised_objects\\Depots_p03hddl_Tree_Distanc...   \n12  serialised_objects\\Depots_p03hddl_Tree_Distanc...   \n13  serialised_objects\\Depots_p03hddl_Tree_Distanc...   \n14  serialised_objects\\Depots_p03hddl_Tree_Distanc...   \n0   serialised_objects\\Factories_pfile01hddl_Tree_...   \n1   serialised_objects\\Factories_pfile01hddl_Tree_...   \n2   serialised_objects\\Factories_pfile01hddl_Tree_...   \n3   serialised_objects\\Factories_pfile01hddl_Tree_...   \n4   serialised_objects\\Factories_pfile01hddl_Tree_...   \n\n                                     serialised_state  \n0   serialised_objects\\Rover_p01hddl_Tree_Distance...  \n1   serialised_objects\\Rover_p01hddl_Tree_Distance...  \n2   serialised_objects\\Rover_p01hddl_Tree_Distance...  \n3   serialised_objects\\Rover_p01hddl_Tree_Distance...  \n4   serialised_objects\\Rover_p01hddl_Tree_Distance...  \n5   serialised_objects\\Rover_p02hddl_Tree_Distance...  \n6   serialised_objects\\Rover_p02hddl_Tree_Distance...  \n7   serialised_objects\\Rover_p02hddl_Tree_Distance...  \n8   serialised_objects\\Rover_p02hddl_Tree_Distance...  \n9   serialised_objects\\Rover_p02hddl_Tree_Distance...  \n10  serialised_objects\\Rover_p03hddl_Tree_Distance...  \n11  serialised_objects\\Rover_p03hddl_Tree_Distance...  \n12  serialised_objects\\Rover_p03hddl_Tree_Distance...  \n13  serialised_objects\\Rover_p03hddl_Tree_Distance...  \n14  serialised_objects\\Rover_p03hddl_Tree_Distance...  \n0   serialised_objects\\Barman_pfile01hddl_Tree_Dis...  \n1   serialised_objects\\Barman_pfile01hddl_Tree_Dis...  \n2   serialised_objects\\Barman_pfile01hddl_Tree_Dis...  \n3   serialised_objects\\Barman_pfile01hddl_Tree_Dis...  \n4   serialised_objects\\Barman_pfile01hddl_Tree_Dis...  \n0   serialised_objects\\Depots_p01hddl_Tree_Distanc...  \n1   serialised_objects\\Depots_p01hddl_Tree_Distanc...  \n2   serialised_objects\\Depots_p01hddl_Tree_Distanc...  \n3   serialised_objects\\Depots_p01hddl_Tree_Distanc...  \n4   serialised_objects\\Depots_p01hddl_Tree_Distanc...  \n5   serialised_objects\\Depots_p02hddl_Tree_Distanc...  \n6   serialised_objects\\Depots_p02hddl_Tree_Distanc...  \n7   serialised_objects\\Depots_p02hddl_Tree_Distanc...  \n8   serialised_objects\\Depots_p02hddl_Tree_Distanc...  \n9   serialised_objects\\Depots_p02hddl_Tree_Distanc...  \n10  serialised_objects\\Depots_p03hddl_Tree_Distanc...  \n11  serialised_objects\\Depots_p03hddl_Tree_Distanc...  \n12  serialised_objects\\Depots_p03hddl_Tree_Distanc...  \n13  serialised_objects\\Depots_p03hddl_Tree_Distanc...  \n14  serialised_objects\\Depots_p03hddl_Tree_Distanc...  \n0   serialised_objects\\Factories_pfile01hddl_Tree_...  \n1   serialised_objects\\Factories_pfile01hddl_Tree_...  \n2   serialised_objects\\Factories_pfile01hddl_Tree_...  \n3   serialised_objects\\Factories_pfile01hddl_Tree_...  \n4   serialised_objects\\Factories_pfile01hddl_Tree_...  ",
      "text/html": "<div>\n<style scoped>\n    .dataframe tbody tr th:only-of-type {\n        vertical-align: middle;\n    }\n\n    .dataframe tbody tr th {\n        vertical-align: top;\n    }\n\n    .dataframe thead th {\n        text-align: right;\n    }\n</style>\n<table border=\"1\" class=\"dataframe\">\n  <thead>\n    <tr style=\"text-align: right;\">\n      <th></th>\n      <th>example_name</th>\n      <th>time_taken</th>\n      <th>search_models_created</th>\n      <th>serialised_actions_taken</th>\n      <th>serialised_state</th>\n    </tr>\n  </thead>\n  <tbody>\n    <tr>\n      <th>0</th>\n      <td>Rover/p01.hddl</td>\n      <td>0.069936</td>\n      <td>322517</td>\n      <td>serialised_objects\\Rover_p01hddl_Tree_Distance...</td>\n      <td>serialised_objects\\Rover_p01hddl_Tree_Distance...</td>\n    </tr>\n    <tr>\n      <th>1</th>\n      <td>Rover/p01.hddl</td>\n      <td>0.064480</td>\n      <td>322959</td>\n      <td>serialised_objects\\Rover_p01hddl_Tree_Distance...</td>\n      <td>serialised_objects\\Rover_p01hddl_Tree_Distance...</td>\n    </tr>\n    <tr>\n      <th>2</th>\n      <td>Rover/p01.hddl</td>\n      <td>0.065967</td>\n      <td>323401</td>\n      <td>serialised_objects\\Rover_p01hddl_Tree_Distance...</td>\n      <td>serialised_objects\\Rover_p01hddl_Tree_Distance...</td>\n    </tr>\n    <tr>\n      <th>3</th>\n      <td>Rover/p01.hddl</td>\n      <td>0.064479</td>\n      <td>323843</td>\n      <td>serialised_objects\\Rover_p01hddl_Tree_Distance...</td>\n      <td>serialised_objects\\Rover_p01hddl_Tree_Distance...</td>\n    </tr>\n    <tr>\n      <th>4</th>\n      <td>Rover/p01.hddl</td>\n      <td>0.065472</td>\n      <td>324285</td>\n      <td>serialised_objects\\Rover_p01hddl_Tree_Distance...</td>\n      <td>serialised_objects\\Rover_p01hddl_Tree_Distance...</td>\n    </tr>\n    <tr>\n      <th>5</th>\n      <td>Rover/p02.hddl</td>\n      <td>0.074896</td>\n      <td>324733</td>\n      <td>serialised_objects\\Rover_p02hddl_Tree_Distance...</td>\n      <td>serialised_objects\\Rover_p02hddl_Tree_Distance...</td>\n    </tr>\n    <tr>\n      <th>6</th>\n      <td>Rover/p02.hddl</td>\n      <td>0.076880</td>\n      <td>325181</td>\n      <td>serialised_objects\\Rover_p02hddl_Tree_Distance...</td>\n      <td>serialised_objects\\Rover_p02hddl_Tree_Distance...</td>\n    </tr>\n    <tr>\n      <th>7</th>\n      <td>Rover/p02.hddl</td>\n      <td>0.074896</td>\n      <td>325629</td>\n      <td>serialised_objects\\Rover_p02hddl_Tree_Distance...</td>\n      <td>serialised_objects\\Rover_p02hddl_Tree_Distance...</td>\n    </tr>\n    <tr>\n      <th>8</th>\n      <td>Rover/p02.hddl</td>\n      <td>0.076880</td>\n      <td>326077</td>\n      <td>serialised_objects\\Rover_p02hddl_Tree_Distance...</td>\n      <td>serialised_objects\\Rover_p02hddl_Tree_Distance...</td>\n    </tr>\n    <tr>\n      <th>9</th>\n      <td>Rover/p02.hddl</td>\n      <td>0.077872</td>\n      <td>326525</td>\n      <td>serialised_objects\\Rover_p02hddl_Tree_Distance...</td>\n      <td>serialised_objects\\Rover_p02hddl_Tree_Distance...</td>\n    </tr>\n    <tr>\n      <th>10</th>\n      <td>Rover/p03.hddl</td>\n      <td>0.394816</td>\n      <td>327012</td>\n      <td>serialised_objects\\Rover_p03hddl_Tree_Distance...</td>\n      <td>serialised_objects\\Rover_p03hddl_Tree_Distance...</td>\n    </tr>\n    <tr>\n      <th>11</th>\n      <td>Rover/p03.hddl</td>\n      <td>0.153760</td>\n      <td>327499</td>\n      <td>serialised_objects\\Rover_p03hddl_Tree_Distance...</td>\n      <td>serialised_objects\\Rover_p03hddl_Tree_Distance...</td>\n    </tr>\n    <tr>\n      <th>12</th>\n      <td>Rover/p03.hddl</td>\n      <td>0.155744</td>\n      <td>327986</td>\n      <td>serialised_objects\\Rover_p03hddl_Tree_Distance...</td>\n      <td>serialised_objects\\Rover_p03hddl_Tree_Distance...</td>\n    </tr>\n    <tr>\n      <th>13</th>\n      <td>Rover/p03.hddl</td>\n      <td>0.147808</td>\n      <td>328473</td>\n      <td>serialised_objects\\Rover_p03hddl_Tree_Distance...</td>\n      <td>serialised_objects\\Rover_p03hddl_Tree_Distance...</td>\n    </tr>\n    <tr>\n      <th>14</th>\n      <td>Rover/p03.hddl</td>\n      <td>0.157728</td>\n      <td>328960</td>\n      <td>serialised_objects\\Rover_p03hddl_Tree_Distance...</td>\n      <td>serialised_objects\\Rover_p03hddl_Tree_Distance...</td>\n    </tr>\n    <tr>\n      <th>0</th>\n      <td>Barman/pfile01.hddl</td>\n      <td>0.966704</td>\n      <td>1693184</td>\n      <td>serialised_objects\\Barman_pfile01hddl_Tree_Dis...</td>\n      <td>serialised_objects\\Barman_pfile01hddl_Tree_Dis...</td>\n    </tr>\n    <tr>\n      <th>1</th>\n      <td>Barman/pfile01.hddl</td>\n      <td>0.867008</td>\n      <td>1704433</td>\n      <td>serialised_objects\\Barman_pfile01hddl_Tree_Dis...</td>\n      <td>serialised_objects\\Barman_pfile01hddl_Tree_Dis...</td>\n    </tr>\n    <tr>\n      <th>2</th>\n      <td>Barman/pfile01.hddl</td>\n      <td>0.856095</td>\n      <td>1715682</td>\n      <td>serialised_objects\\Barman_pfile01hddl_Tree_Dis...</td>\n      <td>serialised_objects\\Barman_pfile01hddl_Tree_Dis...</td>\n    </tr>\n    <tr>\n      <th>3</th>\n      <td>Barman/pfile01.hddl</td>\n      <td>0.862047</td>\n      <td>1726931</td>\n      <td>serialised_objects\\Barman_pfile01hddl_Tree_Dis...</td>\n      <td>serialised_objects\\Barman_pfile01hddl_Tree_Dis...</td>\n    </tr>\n    <tr>\n      <th>4</th>\n      <td>Barman/pfile01.hddl</td>\n      <td>0.857584</td>\n      <td>1738180</td>\n      <td>serialised_objects\\Barman_pfile01hddl_Tree_Dis...</td>\n      <td>serialised_objects\\Barman_pfile01hddl_Tree_Dis...</td>\n    </tr>\n    <tr>\n      <th>0</th>\n      <td>Depots/p01.hddl</td>\n      <td>0.056544</td>\n      <td>1223945</td>\n      <td>serialised_objects\\Depots_p01hddl_Tree_Distanc...</td>\n      <td>serialised_objects\\Depots_p01hddl_Tree_Distanc...</td>\n    </tr>\n    <tr>\n      <th>1</th>\n      <td>Depots/p01.hddl</td>\n      <td>0.057040</td>\n      <td>1224675</td>\n      <td>serialised_objects\\Depots_p01hddl_Tree_Distanc...</td>\n      <td>serialised_objects\\Depots_p01hddl_Tree_Distanc...</td>\n    </tr>\n    <tr>\n      <th>2</th>\n      <td>Depots/p01.hddl</td>\n      <td>0.063984</td>\n      <td>1225405</td>\n      <td>serialised_objects\\Depots_p01hddl_Tree_Distanc...</td>\n      <td>serialised_objects\\Depots_p01hddl_Tree_Distanc...</td>\n    </tr>\n    <tr>\n      <th>3</th>\n      <td>Depots/p01.hddl</td>\n      <td>0.056048</td>\n      <td>1226135</td>\n      <td>serialised_objects\\Depots_p01hddl_Tree_Distanc...</td>\n      <td>serialised_objects\\Depots_p01hddl_Tree_Distanc...</td>\n    </tr>\n    <tr>\n      <th>4</th>\n      <td>Depots/p01.hddl</td>\n      <td>0.056048</td>\n      <td>1226865</td>\n      <td>serialised_objects\\Depots_p01hddl_Tree_Distanc...</td>\n      <td>serialised_objects\\Depots_p01hddl_Tree_Distanc...</td>\n    </tr>\n    <tr>\n      <th>5</th>\n      <td>Depots/p02.hddl</td>\n      <td>0.444912</td>\n      <td>1230527</td>\n      <td>serialised_objects\\Depots_p02hddl_Tree_Distanc...</td>\n      <td>serialised_objects\\Depots_p02hddl_Tree_Distanc...</td>\n    </tr>\n    <tr>\n      <th>6</th>\n      <td>Depots/p02.hddl</td>\n      <td>0.442432</td>\n      <td>1234189</td>\n      <td>serialised_objects\\Depots_p02hddl_Tree_Distanc...</td>\n      <td>serialised_objects\\Depots_p02hddl_Tree_Distanc...</td>\n    </tr>\n    <tr>\n      <th>7</th>\n      <td>Depots/p02.hddl</td>\n      <td>0.451856</td>\n      <td>1237851</td>\n      <td>serialised_objects\\Depots_p02hddl_Tree_Distanc...</td>\n      <td>serialised_objects\\Depots_p02hddl_Tree_Distanc...</td>\n    </tr>\n    <tr>\n      <th>8</th>\n      <td>Depots/p02.hddl</td>\n      <td>0.440943</td>\n      <td>1241513</td>\n      <td>serialised_objects\\Depots_p02hddl_Tree_Distanc...</td>\n      <td>serialised_objects\\Depots_p02hddl_Tree_Distanc...</td>\n    </tr>\n    <tr>\n      <th>9</th>\n      <td>Depots/p02.hddl</td>\n      <td>0.443424</td>\n      <td>1245175</td>\n      <td>serialised_objects\\Depots_p02hddl_Tree_Distanc...</td>\n      <td>serialised_objects\\Depots_p02hddl_Tree_Distanc...</td>\n    </tr>\n    <tr>\n      <th>10</th>\n      <td>Depots/p03.hddl</td>\n      <td>6.017968</td>\n      <td>1267971</td>\n      <td>serialised_objects\\Depots_p03hddl_Tree_Distanc...</td>\n      <td>serialised_objects\\Depots_p03hddl_Tree_Distanc...</td>\n    </tr>\n    <tr>\n      <th>11</th>\n      <td>Depots/p03.hddl</td>\n      <td>6.233728</td>\n      <td>1290767</td>\n      <td>serialised_objects\\Depots_p03hddl_Tree_Distanc...</td>\n      <td>serialised_objects\\Depots_p03hddl_Tree_Distanc...</td>\n    </tr>\n    <tr>\n      <th>12</th>\n      <td>Depots/p03.hddl</td>\n      <td>6.406336</td>\n      <td>1313563</td>\n      <td>serialised_objects\\Depots_p03hddl_Tree_Distanc...</td>\n      <td>serialised_objects\\Depots_p03hddl_Tree_Distanc...</td>\n    </tr>\n    <tr>\n      <th>13</th>\n      <td>Depots/p03.hddl</td>\n      <td>6.688065</td>\n      <td>1336359</td>\n      <td>serialised_objects\\Depots_p03hddl_Tree_Distanc...</td>\n      <td>serialised_objects\\Depots_p03hddl_Tree_Distanc...</td>\n    </tr>\n    <tr>\n      <th>14</th>\n      <td>Depots/p03.hddl</td>\n      <td>5.966385</td>\n      <td>1359155</td>\n      <td>serialised_objects\\Depots_p03hddl_Tree_Distanc...</td>\n      <td>serialised_objects\\Depots_p03hddl_Tree_Distanc...</td>\n    </tr>\n    <tr>\n      <th>0</th>\n      <td>Factories/pfile01.hddl</td>\n      <td>2.962608</td>\n      <td>2000125</td>\n      <td>serialised_objects\\Factories_pfile01hddl_Tree_...</td>\n      <td>serialised_objects\\Factories_pfile01hddl_Tree_...</td>\n    </tr>\n    <tr>\n      <th>1</th>\n      <td>Factories/pfile01.hddl</td>\n      <td>2.847536</td>\n      <td>2010355</td>\n      <td>serialised_objects\\Factories_pfile01hddl_Tree_...</td>\n      <td>serialised_objects\\Factories_pfile01hddl_Tree_...</td>\n    </tr>\n    <tr>\n      <th>2</th>\n      <td>Factories/pfile01.hddl</td>\n      <td>3.010720</td>\n      <td>2020585</td>\n      <td>serialised_objects\\Factories_pfile01hddl_Tree_...</td>\n      <td>serialised_objects\\Factories_pfile01hddl_Tree_...</td>\n    </tr>\n    <tr>\n      <th>3</th>\n      <td>Factories/pfile01.hddl</td>\n      <td>2.828688</td>\n      <td>2030815</td>\n      <td>serialised_objects\\Factories_pfile01hddl_Tree_...</td>\n      <td>serialised_objects\\Factories_pfile01hddl_Tree_...</td>\n    </tr>\n    <tr>\n      <th>4</th>\n      <td>Factories/pfile01.hddl</td>\n      <td>3.357920</td>\n      <td>2041045</td>\n      <td>serialised_objects\\Factories_pfile01hddl_Tree_...</td>\n      <td>serialised_objects\\Factories_pfile01hddl_Tree_...</td>\n    </tr>\n  </tbody>\n</table>\n</div>"
     },
     "execution_count": 47,
     "metadata": {},
     "output_type": "execute_result"
    }
   ],
   "source": [
    "\"\"\"Load data for Tree Distance\"\"\"\n",
    "tree_distance_data_path = os.path.join(os.getcwd(), \"Archive\", \"Rover\", \"Tree_Distance.csv\")\n",
    "tree_distance = pd.read_csv(tree_distance_data_path, sep=\",\")\n",
    "\n",
    "tree_distance_data_path = os.path.join(os.getcwd(), \"Archive\", \"Barman\", \"Tree_Distance.csv\")\n",
    "tree_distance = pd.concat([tree_distance, pd.read_csv(tree_distance_data_path, sep=\",\")])\n",
    "\n",
    "tree_distance_data_path = os.path.join(os.getcwd(), \"Archive\", \"Depot\", \"Tree_Distance.csv\")\n",
    "tree_distance = pd.concat([tree_distance, pd.read_csv(tree_distance_data_path, sep=\",\")])\n",
    "\n",
    "tree_distance_data_path = os.path.join(os.getcwd(), \"Archive\", \"Factories\", \"Tree_Distance.csv\")\n",
    "tree_distance = pd.concat([tree_distance, pd.read_csv(tree_distance_data_path, sep=\",\")])\n",
    "\n",
    "tree_distance_data_path = os.path.join(os.getcwd(), \"Archive\", \"translog\", \"Tree_Distance.csv\")\n",
    "tree_distance = pd.concat([tree_distance, pd.read_csv(tree_distance_data_path, sep=\",\")])\n",
    "\n",
    "tree_distance_av_time = average_time()\n",
    "for example_name in tree_distance.example_name.unique():\n",
    "    tree_distance_av_time.calculate_average_time(example_name, tree_distance[tree_distance['example_name'] == example_name]['time_taken'])\n",
    "\n",
    "    tree_distance_av_time.calculate_average_model(example_name, tree_distance[tree_distance['example_name'] == example_name]['search_models_created'])\n",
    "\n",
    "tree_distance"
   ],
   "metadata": {
    "collapsed": false,
    "pycharm": {
     "name": "#%%\n"
    }
   }
  },
  {
   "cell_type": "code",
   "execution_count": 49,
   "outputs": [
    {
     "data": {
      "text/plain": "                 example_name  time_taken  search_models_created  \\\n0              Rover/p01.hddl    7.761408                 329605   \n1              Rover/p01.hddl    7.665183                 330250   \n2              Rover/p01.hddl    7.788689                 330895   \n3              Rover/p01.hddl    7.605168                 331540   \n4              Rover/p01.hddl    8.055041                 332185   \n0         Barman/pfile01.hddl   64.228038                1598471   \n1         Barman/pfile01.hddl   63.471141                1619337   \n2         Barman/pfile01.hddl   64.525142                1640203   \n3         Barman/pfile01.hddl   64.563829                1661069   \n4         Barman/pfile01.hddl   65.804822                1681935   \n0  um-translog01/problem.hddl  416.279172                  20754   \n1  um-translog01/problem.hddl  479.857573                  22173   \n2  um-translog01/problem.hddl  440.051930                  23592   \n3  um-translog01/problem.hddl  421.051673                  25011   \n\n                            serialised_actions_taken  \\\n0  serialised_objects\\Rover_p01hddl_Delete_Relaxe...   \n1  serialised_objects\\Rover_p01hddl_Delete_Relaxe...   \n2  serialised_objects\\Rover_p01hddl_Delete_Relaxe...   \n3  serialised_objects\\Rover_p01hddl_Delete_Relaxe...   \n4  serialised_objects\\Rover_p01hddl_Delete_Relaxe...   \n0  serialised_objects\\Barman_pfile01hddl_Delete_R...   \n1  serialised_objects\\Barman_pfile01hddl_Delete_R...   \n2  serialised_objects\\Barman_pfile01hddl_Delete_R...   \n3  serialised_objects\\Barman_pfile01hddl_Delete_R...   \n4  serialised_objects\\Barman_pfile01hddl_Delete_R...   \n0  serialised_objects\\um-translog01_problemhddl_D...   \n1  serialised_objects\\um-translog01_problemhddl_D...   \n2  serialised_objects\\um-translog01_problemhddl_D...   \n3  serialised_objects\\um-translog01_problemhddl_D...   \n\n                                    serialised_state  \n0  serialised_objects\\Rover_p01hddl_Delete_Relaxe...  \n1  serialised_objects\\Rover_p01hddl_Delete_Relaxe...  \n2  serialised_objects\\Rover_p01hddl_Delete_Relaxe...  \n3  serialised_objects\\Rover_p01hddl_Delete_Relaxe...  \n4  serialised_objects\\Rover_p01hddl_Delete_Relaxe...  \n0  serialised_objects\\Barman_pfile01hddl_Delete_R...  \n1  serialised_objects\\Barman_pfile01hddl_Delete_R...  \n2  serialised_objects\\Barman_pfile01hddl_Delete_R...  \n3  serialised_objects\\Barman_pfile01hddl_Delete_R...  \n4  serialised_objects\\Barman_pfile01hddl_Delete_R...  \n0  serialised_objects\\um-translog01_problemhddl_D...  \n1  serialised_objects\\um-translog01_problemhddl_D...  \n2  serialised_objects\\um-translog01_problemhddl_D...  \n3  serialised_objects\\um-translog01_problemhddl_D...  ",
      "text/html": "<div>\n<style scoped>\n    .dataframe tbody tr th:only-of-type {\n        vertical-align: middle;\n    }\n\n    .dataframe tbody tr th {\n        vertical-align: top;\n    }\n\n    .dataframe thead th {\n        text-align: right;\n    }\n</style>\n<table border=\"1\" class=\"dataframe\">\n  <thead>\n    <tr style=\"text-align: right;\">\n      <th></th>\n      <th>example_name</th>\n      <th>time_taken</th>\n      <th>search_models_created</th>\n      <th>serialised_actions_taken</th>\n      <th>serialised_state</th>\n    </tr>\n  </thead>\n  <tbody>\n    <tr>\n      <th>0</th>\n      <td>Rover/p01.hddl</td>\n      <td>7.761408</td>\n      <td>329605</td>\n      <td>serialised_objects\\Rover_p01hddl_Delete_Relaxe...</td>\n      <td>serialised_objects\\Rover_p01hddl_Delete_Relaxe...</td>\n    </tr>\n    <tr>\n      <th>1</th>\n      <td>Rover/p01.hddl</td>\n      <td>7.665183</td>\n      <td>330250</td>\n      <td>serialised_objects\\Rover_p01hddl_Delete_Relaxe...</td>\n      <td>serialised_objects\\Rover_p01hddl_Delete_Relaxe...</td>\n    </tr>\n    <tr>\n      <th>2</th>\n      <td>Rover/p01.hddl</td>\n      <td>7.788689</td>\n      <td>330895</td>\n      <td>serialised_objects\\Rover_p01hddl_Delete_Relaxe...</td>\n      <td>serialised_objects\\Rover_p01hddl_Delete_Relaxe...</td>\n    </tr>\n    <tr>\n      <th>3</th>\n      <td>Rover/p01.hddl</td>\n      <td>7.605168</td>\n      <td>331540</td>\n      <td>serialised_objects\\Rover_p01hddl_Delete_Relaxe...</td>\n      <td>serialised_objects\\Rover_p01hddl_Delete_Relaxe...</td>\n    </tr>\n    <tr>\n      <th>4</th>\n      <td>Rover/p01.hddl</td>\n      <td>8.055041</td>\n      <td>332185</td>\n      <td>serialised_objects\\Rover_p01hddl_Delete_Relaxe...</td>\n      <td>serialised_objects\\Rover_p01hddl_Delete_Relaxe...</td>\n    </tr>\n    <tr>\n      <th>0</th>\n      <td>Barman/pfile01.hddl</td>\n      <td>64.228038</td>\n      <td>1598471</td>\n      <td>serialised_objects\\Barman_pfile01hddl_Delete_R...</td>\n      <td>serialised_objects\\Barman_pfile01hddl_Delete_R...</td>\n    </tr>\n    <tr>\n      <th>1</th>\n      <td>Barman/pfile01.hddl</td>\n      <td>63.471141</td>\n      <td>1619337</td>\n      <td>serialised_objects\\Barman_pfile01hddl_Delete_R...</td>\n      <td>serialised_objects\\Barman_pfile01hddl_Delete_R...</td>\n    </tr>\n    <tr>\n      <th>2</th>\n      <td>Barman/pfile01.hddl</td>\n      <td>64.525142</td>\n      <td>1640203</td>\n      <td>serialised_objects\\Barman_pfile01hddl_Delete_R...</td>\n      <td>serialised_objects\\Barman_pfile01hddl_Delete_R...</td>\n    </tr>\n    <tr>\n      <th>3</th>\n      <td>Barman/pfile01.hddl</td>\n      <td>64.563829</td>\n      <td>1661069</td>\n      <td>serialised_objects\\Barman_pfile01hddl_Delete_R...</td>\n      <td>serialised_objects\\Barman_pfile01hddl_Delete_R...</td>\n    </tr>\n    <tr>\n      <th>4</th>\n      <td>Barman/pfile01.hddl</td>\n      <td>65.804822</td>\n      <td>1681935</td>\n      <td>serialised_objects\\Barman_pfile01hddl_Delete_R...</td>\n      <td>serialised_objects\\Barman_pfile01hddl_Delete_R...</td>\n    </tr>\n    <tr>\n      <th>0</th>\n      <td>um-translog01/problem.hddl</td>\n      <td>416.279172</td>\n      <td>20754</td>\n      <td>serialised_objects\\um-translog01_problemhddl_D...</td>\n      <td>serialised_objects\\um-translog01_problemhddl_D...</td>\n    </tr>\n    <tr>\n      <th>1</th>\n      <td>um-translog01/problem.hddl</td>\n      <td>479.857573</td>\n      <td>22173</td>\n      <td>serialised_objects\\um-translog01_problemhddl_D...</td>\n      <td>serialised_objects\\um-translog01_problemhddl_D...</td>\n    </tr>\n    <tr>\n      <th>2</th>\n      <td>um-translog01/problem.hddl</td>\n      <td>440.051930</td>\n      <td>23592</td>\n      <td>serialised_objects\\um-translog01_problemhddl_D...</td>\n      <td>serialised_objects\\um-translog01_problemhddl_D...</td>\n    </tr>\n    <tr>\n      <th>3</th>\n      <td>um-translog01/problem.hddl</td>\n      <td>421.051673</td>\n      <td>25011</td>\n      <td>serialised_objects\\um-translog01_problemhddl_D...</td>\n      <td>serialised_objects\\um-translog01_problemhddl_D...</td>\n    </tr>\n  </tbody>\n</table>\n</div>"
     },
     "execution_count": 49,
     "metadata": {},
     "output_type": "execute_result"
    }
   ],
   "source": [
    "\"\"\"Load data for Delete Relaxed\"\"\"\n",
    "delete_relaxed_data_path = os.path.join(os.getcwd(), \"Archive\", \"Rover\", \"Delete_Relaxed.csv\")\n",
    "delete_relaxed = pd.read_csv(delete_relaxed_data_path, sep=\",\")\n",
    "\n",
    "delete_relaxed_data_path = os.path.join(os.getcwd(), \"Archive\", \"Barman\", \"Delete_Relaxed.csv\")\n",
    "delete_relaxed = pd.concat([delete_relaxed, pd.read_csv(delete_relaxed_data_path, sep=\",\")])\n",
    "\n",
    "delete_relaxed_data_path = os.path.join(os.getcwd(), \"Archive\", \"translog\", \"Delete_Relaxed.csv\")\n",
    "delete_relaxed = pd.concat([delete_relaxed, pd.read_csv(delete_relaxed_data_path, sep=\",\")])\n",
    "\n",
    "delete_relaxed_av_time = average_time()\n",
    "for example_name in delete_relaxed.example_name.unique():\n",
    "    delete_relaxed_av_time.calculate_average_time(example_name, delete_relaxed[delete_relaxed['example_name'] == example_name]['time_taken'])\n",
    "\n",
    "    delete_relaxed_av_time.calculate_average_model(example_name, delete_relaxed[delete_relaxed['example_name'] == example_name]['search_models_created'])\n",
    "\n",
    "delete_relaxed"
   ],
   "metadata": {
    "collapsed": false,
    "pycharm": {
     "name": "#%%\n"
    }
   }
  },
  {
   "cell_type": "code",
   "execution_count": 41,
   "outputs": [
    {
     "data": {
      "text/plain": "<Figure size 1296x576 with 1 Axes>",
      "image/png": "[encoded data removed]"
     },
     "metadata": {
      "needs_background": "light"
     },
     "output_type": "display_data"
    }
   ],
   "source": [
    "\"\"\"Create Graph\"\"\"\n",
    "generate_graph([\"Rover/p01.hddl\", \"Rover/p02.hddl\", \"Rover/p03.hddl\"], [\"Breadth First (No Pruning)\", \"Breadth First\", \"Hamming Distance\", \"Tree Distance\"], [\"red\", \"purple\", \"aqua\", \"green\"],\n",
    "[\n",
    "    [breadth_first_av_time[\"Rover/p01.hddl\"],\n",
    "     breadth_first_av_time[\"Rover/p02.hddl\"],\n",
    "     breadth_first_av_time[\"Rover/p03.hddl\"]],\n",
    "    [breadth_first_pruning_av_time[\"Rover/p01.hddl\"],\n",
    "     breadth_first_pruning_av_time[\"Rover/p02.hddl\"],\n",
    "     breadth_first_pruning_av_time[\"Rover/p03.hddl\"]],\n",
    "    [hamming_distance_av_time[\"Rover/p01.hddl\"],\n",
    "     hamming_distance_av_time[\"Rover/p02.hddl\"],\n",
    "     hamming_distance_av_time[\"Rover/p03.hddl\"]],\n",
    "    [tree_distance_av_time[\"Rover/p01.hddl\"],\n",
    "     tree_distance_av_time[\"Rover/p02.hddl\"],\n",
    "     tree_distance_av_time[\"Rover/p03.hddl\"]]\n",
    "])"
   ],
   "metadata": {
    "collapsed": false,
    "pycharm": {
     "name": "#%%\n"
    }
   }
  },
  {
   "cell_type": "code",
   "execution_count": null,
   "outputs": [],
   "source": [
    "# Get test times for rover p01\n",
    "BF_pruning = breadth_first_pruning[breadth_first_pruning['example_name'] == \"Rover/p01.hddl\"]['time_taken']\n",
    "precon_check = breadth_first[breadth_first['example_name'] == \"Rover/p01.hddl\"]['time_taken']\n",
    "hamming_distance_times = hamming_distance[hamming_distance['example_name'] == \"Rover/p01.hddl\"]['time_taken']\n",
    "\n",
    "print(\"Rover p01 Statistically Significant Test\")\n",
    "significant_difference_check([\"Breadth First\", \"Breadth First (No Pruning)\", \"Hamming Distance\"], BF_pruning, precon_check, hamming_distance_times)"
   ],
   "metadata": {
    "collapsed": false,
    "pycharm": {
     "name": "#%%\n"
    }
   }
  },
  {
   "cell_type": "code",
   "execution_count": null,
   "outputs": [],
   "source": [
    "# Get test times for rover p02\n",
    "BF_pruning = breadth_first_pruning[breadth_first_pruning['example_name'] == \"Rover/p02.hddl\"]['time_taken']\n",
    "precon_check = breadth_first[breadth_first['example_name'] == \"Rover/p02.hddl\"]['time_taken']\n",
    "hamming_distance_times = hamming_distance[hamming_distance['example_name'] == \"Rover/p02.hddl\"]['time_taken']\n",
    "\n",
    "print(\"Rover p02 Statistically Significant Test\")\n",
    "significant_difference_check([\"Breadth First\", \"Breadth First (No Pruning)\", \"Hamming Distance\"], BF_pruning, precon_check, hamming_distance_times)"
   ],
   "metadata": {
    "collapsed": false,
    "pycharm": {
     "name": "#%%\n"
    }
   }
  },
  {
   "cell_type": "code",
   "execution_count": null,
   "outputs": [],
   "source": [
    "# Get test times for rover p03\n",
    "BF_pruning = breadth_first_pruning[breadth_first_pruning['example_name'] == \"Rover/p03.hddl\"]['time_taken']\n",
    "precon_check = breadth_first[breadth_first['example_name'] == \"Rover/p03.hddl\"]['time_taken']\n",
    "hamming_distance_times = hamming_distance[hamming_distance['example_name'] == \"Rover/p03.hddl\"]['time_taken']\n",
    "\n",
    "print(\"Rover p03 Statistically Significant Test\")\n",
    "significant_difference_check([\"Breadth First\", \"Breadth First (No Pruning)\", \"Hamming Distance\"], BF_pruning, precon_check, hamming_distance_times)"
   ],
   "metadata": {
    "collapsed": false,
    "pycharm": {
     "name": "#%%\n"
    }
   }
  },
  {
   "cell_type": "markdown",
   "source": [
    "## Rover p01 -> p07 pruning and predicate_distance\n",
    "For this test, the breadth first non-pruning search strategy was run for 2 hours and was not able to produce a result"
   ],
   "metadata": {
    "collapsed": false,
    "pycharm": {
     "name": "#%% md\n"
    }
   }
  },
  {
   "cell_type": "code",
   "execution_count": null,
   "outputs": [],
   "source": [
    "\"\"\"Create Graph\"\"\"\n",
    "generate_graph([\"Rover/p01.hddl\", \"Rover/p02.hddl\", \"Rover/p03.hddl\", \"Rover/p04.hddl\", \"Rover/p05.hddl\",\n",
    "                \"Rover/p06.hddl\", \"Rover/p07.hddl\"],\n",
    "               [\"Predicate Distance To Goal Heuristic\"], [\"aqua\"],\n",
    "               [\n",
    "                   [predicate_distance_to_goal_av_time[\"Rover/p01.hddl\"],\n",
    "                    predicate_distance_to_goal_av_time[\"Rover/p02.hddl\"],\n",
    "                    predicate_distance_to_goal_av_time[\"Rover/p03.hddl\"],\n",
    "                    predicate_distance_to_goal_av_time[\"Rover/p04.hddl\"],\n",
    "                    predicate_distance_to_goal_av_time[\"Rover/p05.hddl\"],\n",
    "                    predicate_distance_to_goal_av_time[\"Rover/p06.hddl\"],\n",
    "                    predicate_distance_to_goal_av_time[\"Rover/p07.hddl\"]]\n",
    "               ])"
   ],
   "metadata": {
    "collapsed": false,
    "pycharm": {
     "name": "#%%\n"
    }
   }
  },
  {
   "cell_type": "code",
   "execution_count": null,
   "outputs": [],
   "source": [
    "\"\"\"Stats Tests\"\"\""
   ],
   "metadata": {
    "collapsed": false,
    "pycharm": {
     "name": "#%%\n"
    }
   }
  },
  {
   "cell_type": "markdown",
   "source": [
    "# Graph number of models created during search"
   ],
   "metadata": {
    "collapsed": false,
    "pycharm": {
     "name": "#%% md\n"
    }
   }
  },
  {
   "cell_type": "markdown",
   "source": [
    "## Rover p0 -> p3. Breadth first, breadth first with pruning, predicate distance to goal"
   ],
   "metadata": {
    "collapsed": false,
    "pycharm": {
     "name": "#%% md\n"
    }
   }
  },
  {
   "cell_type": "code",
   "execution_count": null,
   "outputs": [],
   "source": [
    "\"\"\"Create Graph\"\"\"\n",
    "generate_graph([\"Rover/p01.hddl\", \"Rover/p02.hddl\", \"Rover/p03.hddl\"], [\"Breadth First (No Pruning)\", \"Breadth First\", \"Predicate Distance To Goal Heuristic\"], [\"red\", \"purple\", \"aqua\"],\n",
    "               [\n",
    "                   [breadth_first_av_time.get_num_models(\"Rover/p01.hddl\"),\n",
    "                    breadth_first_av_time.get_num_models(\"Rover/p02.hddl\"),\n",
    "                    breadth_first_av_time.get_num_models(\"Rover/p03.hddl\")],\n",
    "                   [breadth_first_pruning_av_time.get_num_models(\"Rover/p01.hddl\"),\n",
    "                    breadth_first_pruning_av_time.get_num_models(\"Rover/p02.hddl\"),\n",
    "                    breadth_first_pruning_av_time.get_num_models(\"Rover/p03.hddl\")],\n",
    "                   [predicate_distance_to_goal_av_time.get_num_models(\"Rover/p01.hddl\"),\n",
    "                    predicate_distance_to_goal_av_time.get_num_models(\"Rover/p02.hddl\"),\n",
    "                    predicate_distance_to_goal_av_time.get_num_models(\"Rover/p03.hddl\")]\n",
    "               ], \"Amount of Models Created During Search\", \"Number of Models\")"
   ],
   "metadata": {
    "collapsed": false,
    "pycharm": {
     "name": "#%%\n"
    }
   }
  },
  {
   "cell_type": "markdown",
   "source": [
    "# Area for checking serialised files"
   ],
   "metadata": {
    "collapsed": false,
    "pycharm": {
     "name": "#%% md\n"
    }
   }
  },
  {
   "cell_type": "code",
   "execution_count": null,
   "outputs": [],
   "source": [
    "file_name = predicate_distance_to_goal.iloc[0]['serialised_actions_taken']\n",
    "actions_taken = load_pickled_ob(file_name)\n",
    "display_actions_taken(actions_taken)"
   ],
   "metadata": {
    "collapsed": false,
    "pycharm": {
     "name": "#%%\n"
    }
   }
  },
  {
   "cell_type": "code",
   "execution_count": null,
   "outputs": [],
   "source": [
    "file_name = predicate_distance_to_goal.iloc[0]['serialised_state']\n",
    "final_state = load_pickled_ob(file_name)\n",
    "display_final_state(final_state)"
   ],
   "metadata": {
    "collapsed": false,
    "pycharm": {
     "name": "#%%\n"
    }
   }
  }
 ],
 "metadata": {
  "kernelspec": {
   "display_name": "Python 3",
   "language": "python",
   "name": "python3"
  },
  "language_info": {
   "codemirror_mode": {
    "name": "ipython",
    "version": 2
   },
   "file_extension": ".py",
   "mimetype": "text/x-python",
   "name": "python",
   "nbconvert_exporter": "python",
   "pygments_lexer": "ipython2",
   "version": "2.7.6"
  }
 },
 "nbformat": 4,
 "nbformat_minor": 0
}