{
 "cells": [
  {
   "cell_type": "code",
   "execution_count": 1,
   "metadata": {
    "collapsed": true,
    "pycharm": {
     "name": "#%%\n"
    }
   },
   "outputs": [],
   "source": [
    "import pickle\n",
    "import os\n",
    "import sys\n",
    "from statistics import mean\n",
    "from typing import List\n",
    "import numpy as np\n",
    "import pandas as pd\n",
    "import matplotlib.pyplot as plt\n",
    "working_dir = os.getcwd()\n",
    "os.chdir(\"../../..\")\n",
    "sys.path.append(os.getcwd())\n",
    "from Internal_Representation.state import State\n",
    "from Solver.action_tracker import ActionTracker\n",
    "from runner import Runner\n",
    "os.chdir(working_dir)"
   ]
  },
  {
   "cell_type": "code",
   "execution_count": 2,
   "outputs": [
    {
     "data": {
      "text/plain": "'F:\\\\Users\\\\Cael\\\\Documents\\\\University files\\\\4th Year\\\\Dissertation\\\\4th-Year-Dissertation\\\\Tests\\\\Evaluation\\\\Heuristic_Evaluation'"
     },
     "execution_count": 2,
     "metadata": {},
     "output_type": "execute_result"
    }
   ],
   "source": [
    "os.getcwd()"
   ],
   "metadata": {
    "collapsed": false,
    "pycharm": {
     "name": "#%%\n"
    }
   }
  },
  {
   "cell_type": "code",
   "execution_count": 3,
   "outputs": [],
   "source": [
    "# Load pickled Object\n",
    "def load_pickled_ob(file_name):\n",
    "    with (open(file_name, \"rb\")) as openfile:\n",
    "        while True:\n",
    "            try:\n",
    "                return pickle.load(openfile)\n",
    "            except EOFError:\n",
    "                break"
   ],
   "metadata": {
    "collapsed": false,
    "pycharm": {
     "name": "#%%\n"
    }
   }
  },
  {
   "cell_type": "code",
   "execution_count": 4,
   "outputs": [],
   "source": [
    "# Display pickled actions_taken\n",
    "def display_actions_taken(actions):\n",
    "    for a in actions:\n",
    "        print(a)"
   ],
   "metadata": {
    "collapsed": false,
    "pycharm": {
     "name": "#%%\n"
    }
   }
  },
  {
   "cell_type": "code",
   "execution_count": 5,
   "outputs": [],
   "source": [
    "# Display pickled final state\n",
    "def display_final_state(final_state):\n",
    "    print(final_state)"
   ],
   "metadata": {
    "collapsed": false,
    "pycharm": {
     "name": "#%%\n"
    }
   }
  },
  {
   "cell_type": "code",
   "execution_count": 106,
   "outputs": [
    {
     "data": {
      "text/plain": "{'Basic/pb1.hddl': 46,\n 'Rover/p01.hddl': 483,\n 'Rover/p02.hddl': 486,\n 'Rover/p03.hddl': 501,\n 'Rover/p04.hddl': 554,\n 'Rover/p05.hddl': 633,\n 'Rover/p06.hddl': 648,\n 'Rover/p07.hddl': 724,\n 'Depots/p01.hddl': 302,\n 'Depots/p02.hddl': 330,\n 'Depots/p03.hddl': 358}"
     },
     "execution_count": 106,
     "metadata": {},
     "output_type": "execute_result"
    }
   ],
   "source": [
    "size_dict = load_pickled_ob(\"problem_sizes.pickle\")\n",
    "size_dict"
   ],
   "metadata": {
    "collapsed": false,
    "pycharm": {
     "name": "#%%\n"
    }
   }
  },
  {
   "cell_type": "code",
   "execution_count": 7,
   "outputs": [],
   "source": [
    "class average_time:\n",
    "    def __init__(self):\n",
    "        self.times = {} # {'roverp0': float}\n",
    "        self.num_models = {}    # {'roverp0': float}\n",
    "\n",
    "    def calculate_average_time(self, problem_name: str, times: list) -> None:\n",
    "        self.times[problem_name] = mean(times)\n",
    "\n",
    "    def calculate_average_model(self, problem_name: str, num_models: list) -> None:\n",
    "        self.num_models[problem_name] = mean(num_models)\n",
    "\n",
    "    def get_num_models(self, problem_name: str) -> float:\n",
    "        return self.num_models[problem_name]\n",
    "\n",
    "    def __getitem__(self, item):\n",
    "        return self.times[item]"
   ],
   "metadata": {
    "collapsed": false,
    "pycharm": {
     "name": "#%%\n"
    }
   }
  },
  {
   "cell_type": "code",
   "execution_count": 104,
   "outputs": [],
   "source": [
    "def generate_graph(example_names: list, config_names: list, colours: list, values: list,\n",
    "                   title=\"Average Time Taken for Solving\", y_axis=\"Average Time Taken (Seconds)\"):\n",
    "    assert len(config_names) == len(colours) == len(values)\n",
    "    assert all([len(x) == len(example_names) for x in values])\n",
    "    plt.figure(figsize=(18, 8))\n",
    "\n",
    "    x_values = [size_dict[x] for x in example_names]\n",
    "\n",
    "    i, l = 0, len(config_names)\n",
    "    while i < l:\n",
    "        y_values = [values[i][y] for y in range(len(values[i]))]\n",
    "        plt.plot(x_values, y_values, 'bo-', label=r'{}'.format(config_names[i]), color=colours[i], alpha=0.6, linewidth=3)\n",
    "        i += 1\n",
    "    plt.xticks(x_values, [str(x) for x in x_values])\n",
    "    plt.locator_params(axis='x', nbins=len(example_names))\n",
    "    plt.xlabel('Problem Size'); plt.ylabel(r'{}'.format(y_axis))\n",
    "    plt.title(r'{}'.format(title))\n",
    "    plt.legend(loc='best')\n",
    "    # plt.savefig(\"{}_ABS_features_Weight_plot.svg\".format('lasso - Ridge'), dpi=500)  # Save graph to file\n",
    "    plt.grid()"
   ],
   "metadata": {
    "collapsed": false,
    "pycharm": {
     "name": "#%%\n"
    }
   }
  },
  {
   "cell_type": "code",
   "execution_count": 94,
   "outputs": [],
   "source": [
    "from scipy.stats import shapiro\n",
    "from scipy.stats import kruskal\n",
    "from scipy.stats import ttest_ind\n",
    "from scipy.stats import f_oneway\n",
    "def significant_difference_check(list_approach_names: List[str], *args):\n",
    "    \"\"\"Check for statistically different data sets\"\"\"\n",
    "    assert len(list_approach_names) == len(args)\n",
    "\n",
    "    # Run shapiro test on all data\n",
    "    data_values = [shapiro(x)[1] for x in args]\n",
    "    data_normal = [x < 0.05 for x in data_values]\n",
    "\n",
    "    # Assume we want to run dunn test\n",
    "    run_dunn_test = True\n",
    "    test_used = None\n",
    "\n",
    "    # Run ANOVA or Kruskal test\n",
    "    if all(x == False for x in data_normal):\n",
    "        # Anova test\n",
    "        print(\"All data is normally distributed\")\n",
    "        print(\"Shapiro p-values:\", data_values)\n",
    "        print(\"Non-Normal Check (False denoted non-normal):\", data_normal)\n",
    "\n",
    "        if len(list_approach_names) >= 3:\n",
    "            # One-way ANOVA\n",
    "            # https://statistics.laerd.com/statistical-guides/one-way-anova-statistical-guide.php\n",
    "            # https://docs.scipy.org/doc/scipy/reference/generated/scipy.stats.f_oneway.html\n",
    "            res = f_oneway(*args)[1]\n",
    "            test_used = \"One-Way ANOVA\"\n",
    "        else:\n",
    "            # https://docs.scipy.org/doc/scipy/reference/generated/scipy.stats.ttest_ind.html\n",
    "            assert len(list_approach_names) == 2\n",
    "            run_dunn_test = False\n",
    "            res = ttest_ind(args[0], args[1])[1]\n",
    "            test_used = \"T-Test\"\n",
    "    else:\n",
    "        # Kruskals test\n",
    "        print(\"NOT FOLLOWING NORMAL DISTRIBUTION\")\n",
    "        print(\"Shapiro p-values:\", data_values)\n",
    "        print(\"Non-Normal Check (False denotes non-normal):\", data_normal)\n",
    "        res = kruskal(*args)[1]\n",
    "        test_used = \"Kruskal-Wallis\"\n",
    "\n",
    "    if res <= 0.05:\n",
    "        # There is significant difference\n",
    "        print(\"Significant Difference found ({}). P-value: {}\".format(test_used, res))\n",
    "    else:\n",
    "        # No significant difference\n",
    "        print(\"NO Significant Difference found ({}). P-value: {}\".format(test_used, res))\n",
    "        run_dunn_test = False\n",
    "\n",
    "    # Run Dunn Test\n",
    "    if run_dunn_test:\n",
    "        dunns_pairwise_test(list_approach_names, *args)"
   ],
   "metadata": {
    "collapsed": false,
    "pycharm": {
     "name": "#%%\n"
    }
   }
  },
  {
   "cell_type": "code",
   "execution_count": 88,
   "outputs": [],
   "source": [
    "from scikit_posthocs import posthoc_dunn\n",
    "\n",
    "def dunns_pairwise_test(list_approach_names: List[str], *args):\n",
    "\n",
    "    d = []\n",
    "    list_approach_names_extended = []\n",
    "    i = 0\n",
    "    while i < len(list_approach_names):\n",
    "        for j in args[i]:\n",
    "            d.append(j)\n",
    "            list_approach_names_extended.append(list_approach_names[i])\n",
    "        i += 1\n",
    "\n",
    "    dataFrame = pd.DataFrame(list(zip(list_approach_names_extended, d)), columns=[\"Heuristic_Name\", \"Time_Taken\"])\n",
    "    # print(dataFrame)\n",
    "\n",
    "    r = posthoc_dunn(dataFrame, \"Time_Taken\", \"Heuristic_Name\", p_adjust=\"hommel\")\n",
    "    print(r)\n",
    "\n",
    "    # Print Results\n",
    "    seen_pairs = []\n",
    "    for i in r.keys():\n",
    "        for j in r[i].keys():\n",
    "            if j + i in seen_pairs:\n",
    "                continue\n",
    "            seen_pairs.append(i+j)\n",
    "\n",
    "            if r[i][j] > 0.05 and i != j:\n",
    "                print(\"No Significant Difference: {}, {} = {}\".format(i, j, r[i][j]))\n",
    "            elif i == j:\n",
    "                pass\n",
    "            else:\n",
    "                print(\"Significant Difference: {}, {} = {}\".format(i, j, r[i][j]))"
   ],
   "metadata": {
    "collapsed": false,
    "pycharm": {
     "name": "#%%\n"
    }
   }
  },
  {
   "cell_type": "markdown",
   "source": [
    "# Running operations on collected Data"
   ],
   "metadata": {
    "collapsed": false,
    "pycharm": {
     "name": "#%% md\n"
    }
   }
  },
  {
   "cell_type": "markdown",
   "source": [
    "## Rover p0 -> p3 with early precondition checking and without"
   ],
   "metadata": {
    "collapsed": false,
    "pycharm": {
     "name": "#%% md\n"
    }
   }
  },
  {
   "cell_type": "code",
   "execution_count": 10,
   "outputs": [
    {
     "data": {
      "text/plain": "      example_name  time_taken  search_models_created  \\\n0   Rover/p01.hddl    1.458230                   2571   \n1   Rover/p01.hddl    1.263659                   5142   \n2   Rover/p01.hddl    1.558660                   7713   \n3   Rover/p01.hddl    1.209765                  10284   \n4   Rover/p01.hddl    1.055561                  12855   \n5   Rover/p02.hddl    3.984587                  17516   \n6   Rover/p02.hddl    4.545179                  22177   \n7   Rover/p02.hddl    3.472105                  26838   \n8   Rover/p02.hddl    4.774414                  31499   \n9   Rover/p02.hddl    3.766476                  36160   \n10  Rover/p03.hddl    3.626810                  40486   \n11  Rover/p03.hddl    3.844828                  44812   \n12  Rover/p03.hddl    2.346827                  49138   \n13  Rover/p03.hddl    3.056724                  53464   \n14  Rover/p03.hddl    3.281596                  57790   \n\n                             serialised_actions_taken  \\\n0   serialised_objects\\Rover_p01hddl_Breadth_First...   \n1   serialised_objects\\Rover_p01hddl_Breadth_First...   \n2   serialised_objects\\Rover_p01hddl_Breadth_First...   \n3   serialised_objects\\Rover_p01hddl_Breadth_First...   \n4   serialised_objects\\Rover_p01hddl_Breadth_First...   \n5   serialised_objects\\Rover_p02hddl_Breadth_First...   \n6   serialised_objects\\Rover_p02hddl_Breadth_First...   \n7   serialised_objects\\Rover_p02hddl_Breadth_First...   \n8   serialised_objects\\Rover_p02hddl_Breadth_First...   \n9   serialised_objects\\Rover_p02hddl_Breadth_First...   \n10  serialised_objects\\Rover_p03hddl_Breadth_First...   \n11  serialised_objects\\Rover_p03hddl_Breadth_First...   \n12  serialised_objects\\Rover_p03hddl_Breadth_First...   \n13  serialised_objects\\Rover_p03hddl_Breadth_First...   \n14  serialised_objects\\Rover_p03hddl_Breadth_First...   \n\n                                     serialised_state  \n0   serialised_objects\\Rover_p01hddl_Breadth_First...  \n1   serialised_objects\\Rover_p01hddl_Breadth_First...  \n2   serialised_objects\\Rover_p01hddl_Breadth_First...  \n3   serialised_objects\\Rover_p01hddl_Breadth_First...  \n4   serialised_objects\\Rover_p01hddl_Breadth_First...  \n5   serialised_objects\\Rover_p02hddl_Breadth_First...  \n6   serialised_objects\\Rover_p02hddl_Breadth_First...  \n7   serialised_objects\\Rover_p02hddl_Breadth_First...  \n8   serialised_objects\\Rover_p02hddl_Breadth_First...  \n9   serialised_objects\\Rover_p02hddl_Breadth_First...  \n10  serialised_objects\\Rover_p03hddl_Breadth_First...  \n11  serialised_objects\\Rover_p03hddl_Breadth_First...  \n12  serialised_objects\\Rover_p03hddl_Breadth_First...  \n13  serialised_objects\\Rover_p03hddl_Breadth_First...  \n14  serialised_objects\\Rover_p03hddl_Breadth_First...  ",
      "text/html": "<div>\n<style scoped>\n    .dataframe tbody tr th:only-of-type {\n        vertical-align: middle;\n    }\n\n    .dataframe tbody tr th {\n        vertical-align: top;\n    }\n\n    .dataframe thead th {\n        text-align: right;\n    }\n</style>\n<table border=\"1\" class=\"dataframe\">\n  <thead>\n    <tr style=\"text-align: right;\">\n      <th></th>\n      <th>example_name</th>\n      <th>time_taken</th>\n      <th>search_models_created</th>\n      <th>serialised_actions_taken</th>\n      <th>serialised_state</th>\n    </tr>\n  </thead>\n  <tbody>\n    <tr>\n      <th>0</th>\n      <td>Rover/p01.hddl</td>\n      <td>1.458230</td>\n      <td>2571</td>\n      <td>serialised_objects\\Rover_p01hddl_Breadth_First...</td>\n      <td>serialised_objects\\Rover_p01hddl_Breadth_First...</td>\n    </tr>\n    <tr>\n      <th>1</th>\n      <td>Rover/p01.hddl</td>\n      <td>1.263659</td>\n      <td>5142</td>\n      <td>serialised_objects\\Rover_p01hddl_Breadth_First...</td>\n      <td>serialised_objects\\Rover_p01hddl_Breadth_First...</td>\n    </tr>\n    <tr>\n      <th>2</th>\n      <td>Rover/p01.hddl</td>\n      <td>1.558660</td>\n      <td>7713</td>\n      <td>serialised_objects\\Rover_p01hddl_Breadth_First...</td>\n      <td>serialised_objects\\Rover_p01hddl_Breadth_First...</td>\n    </tr>\n    <tr>\n      <th>3</th>\n      <td>Rover/p01.hddl</td>\n      <td>1.209765</td>\n      <td>10284</td>\n      <td>serialised_objects\\Rover_p01hddl_Breadth_First...</td>\n      <td>serialised_objects\\Rover_p01hddl_Breadth_First...</td>\n    </tr>\n    <tr>\n      <th>4</th>\n      <td>Rover/p01.hddl</td>\n      <td>1.055561</td>\n      <td>12855</td>\n      <td>serialised_objects\\Rover_p01hddl_Breadth_First...</td>\n      <td>serialised_objects\\Rover_p01hddl_Breadth_First...</td>\n    </tr>\n    <tr>\n      <th>5</th>\n      <td>Rover/p02.hddl</td>\n      <td>3.984587</td>\n      <td>17516</td>\n      <td>serialised_objects\\Rover_p02hddl_Breadth_First...</td>\n      <td>serialised_objects\\Rover_p02hddl_Breadth_First...</td>\n    </tr>\n    <tr>\n      <th>6</th>\n      <td>Rover/p02.hddl</td>\n      <td>4.545179</td>\n      <td>22177</td>\n      <td>serialised_objects\\Rover_p02hddl_Breadth_First...</td>\n      <td>serialised_objects\\Rover_p02hddl_Breadth_First...</td>\n    </tr>\n    <tr>\n      <th>7</th>\n      <td>Rover/p02.hddl</td>\n      <td>3.472105</td>\n      <td>26838</td>\n      <td>serialised_objects\\Rover_p02hddl_Breadth_First...</td>\n      <td>serialised_objects\\Rover_p02hddl_Breadth_First...</td>\n    </tr>\n    <tr>\n      <th>8</th>\n      <td>Rover/p02.hddl</td>\n      <td>4.774414</td>\n      <td>31499</td>\n      <td>serialised_objects\\Rover_p02hddl_Breadth_First...</td>\n      <td>serialised_objects\\Rover_p02hddl_Breadth_First...</td>\n    </tr>\n    <tr>\n      <th>9</th>\n      <td>Rover/p02.hddl</td>\n      <td>3.766476</td>\n      <td>36160</td>\n      <td>serialised_objects\\Rover_p02hddl_Breadth_First...</td>\n      <td>serialised_objects\\Rover_p02hddl_Breadth_First...</td>\n    </tr>\n    <tr>\n      <th>10</th>\n      <td>Rover/p03.hddl</td>\n      <td>3.626810</td>\n      <td>40486</td>\n      <td>serialised_objects\\Rover_p03hddl_Breadth_First...</td>\n      <td>serialised_objects\\Rover_p03hddl_Breadth_First...</td>\n    </tr>\n    <tr>\n      <th>11</th>\n      <td>Rover/p03.hddl</td>\n      <td>3.844828</td>\n      <td>44812</td>\n      <td>serialised_objects\\Rover_p03hddl_Breadth_First...</td>\n      <td>serialised_objects\\Rover_p03hddl_Breadth_First...</td>\n    </tr>\n    <tr>\n      <th>12</th>\n      <td>Rover/p03.hddl</td>\n      <td>2.346827</td>\n      <td>49138</td>\n      <td>serialised_objects\\Rover_p03hddl_Breadth_First...</td>\n      <td>serialised_objects\\Rover_p03hddl_Breadth_First...</td>\n    </tr>\n    <tr>\n      <th>13</th>\n      <td>Rover/p03.hddl</td>\n      <td>3.056724</td>\n      <td>53464</td>\n      <td>serialised_objects\\Rover_p03hddl_Breadth_First...</td>\n      <td>serialised_objects\\Rover_p03hddl_Breadth_First...</td>\n    </tr>\n    <tr>\n      <th>14</th>\n      <td>Rover/p03.hddl</td>\n      <td>3.281596</td>\n      <td>57790</td>\n      <td>serialised_objects\\Rover_p03hddl_Breadth_First...</td>\n      <td>serialised_objects\\Rover_p03hddl_Breadth_First...</td>\n    </tr>\n  </tbody>\n</table>\n</div>"
     },
     "execution_count": 10,
     "metadata": {},
     "output_type": "execute_result"
    }
   ],
   "source": [
    "\"\"\"Load data from breadth first - no early precondition checker\"\"\"\n",
    "breadth_first_no_early_precon_check_data_path = os.path.join(os.getcwd(), \"Archive\", \"rover_no_early_precon\", \"Breadth_First_Operations.csv\")\n",
    "breadth_first_no_early_precon_check = pd.read_csv(breadth_first_no_early_precon_check_data_path, sep=\",\")\n",
    "\n",
    "breadth_first_no_early_precon_check_av_time = average_time()\n",
    "for example_name in breadth_first_no_early_precon_check.example_name.unique():\n",
    "\n",
    "    breadth_first_no_early_precon_check_av_time.calculate_average_time(example_name, breadth_first_no_early_precon_check[breadth_first_no_early_precon_check['example_name'] == example_name]['time_taken'])\n",
    "\n",
    "    breadth_first_no_early_precon_check_av_time.calculate_average_model(example_name,                               breadth_first_no_early_precon_check[breadth_first_no_early_precon_check['example_name'] == example_name]['search_models_created'])\n",
    "\n",
    "breadth_first_no_early_precon_check"
   ],
   "metadata": {
    "collapsed": false,
    "pycharm": {
     "name": "#%%\n"
    }
   }
  },
  {
   "cell_type": "code",
   "execution_count": 11,
   "outputs": [
    {
     "data": {
      "text/plain": "      example_name  time_taken  search_models_created  \\\n0   Rover/p01.hddl    0.488068                   2571   \n1   Rover/p01.hddl    0.459792                   5142   \n2   Rover/p01.hddl    0.476161                   7713   \n3   Rover/p01.hddl    0.535679                  10284   \n4   Rover/p01.hddl    0.478144                  12855   \n5   Rover/p02.hddl    1.139312                  17516   \n6   Rover/p02.hddl    1.140304                  22177   \n7   Rover/p02.hddl    1.149728                  26838   \n8   Rover/p02.hddl    1.152705                  31499   \n9   Rover/p02.hddl    1.087232                  36160   \n10  Rover/p03.hddl    1.050033                  40486   \n11  Rover/p03.hddl    1.117490                  44812   \n12  Rover/p03.hddl    1.227105                  49138   \n13  Rover/p03.hddl    1.158656                  53464   \n14  Rover/p03.hddl    1.125424                  57790   \n\n                             serialised_actions_taken  \\\n0   serialised_objects\\Rover_p01hddl_Breadth_First...   \n1   serialised_objects\\Rover_p01hddl_Breadth_First...   \n2   serialised_objects\\Rover_p01hddl_Breadth_First...   \n3   serialised_objects\\Rover_p01hddl_Breadth_First...   \n4   serialised_objects\\Rover_p01hddl_Breadth_First...   \n5   serialised_objects\\Rover_p02hddl_Breadth_First...   \n6   serialised_objects\\Rover_p02hddl_Breadth_First...   \n7   serialised_objects\\Rover_p02hddl_Breadth_First...   \n8   serialised_objects\\Rover_p02hddl_Breadth_First...   \n9   serialised_objects\\Rover_p02hddl_Breadth_First...   \n10  serialised_objects\\Rover_p03hddl_Breadth_First...   \n11  serialised_objects\\Rover_p03hddl_Breadth_First...   \n12  serialised_objects\\Rover_p03hddl_Breadth_First...   \n13  serialised_objects\\Rover_p03hddl_Breadth_First...   \n14  serialised_objects\\Rover_p03hddl_Breadth_First...   \n\n                                     serialised_state  \n0   serialised_objects\\Rover_p01hddl_Breadth_First...  \n1   serialised_objects\\Rover_p01hddl_Breadth_First...  \n2   serialised_objects\\Rover_p01hddl_Breadth_First...  \n3   serialised_objects\\Rover_p01hddl_Breadth_First...  \n4   serialised_objects\\Rover_p01hddl_Breadth_First...  \n5   serialised_objects\\Rover_p02hddl_Breadth_First...  \n6   serialised_objects\\Rover_p02hddl_Breadth_First...  \n7   serialised_objects\\Rover_p02hddl_Breadth_First...  \n8   serialised_objects\\Rover_p02hddl_Breadth_First...  \n9   serialised_objects\\Rover_p02hddl_Breadth_First...  \n10  serialised_objects\\Rover_p03hddl_Breadth_First...  \n11  serialised_objects\\Rover_p03hddl_Breadth_First...  \n12  serialised_objects\\Rover_p03hddl_Breadth_First...  \n13  serialised_objects\\Rover_p03hddl_Breadth_First...  \n14  serialised_objects\\Rover_p03hddl_Breadth_First...  ",
      "text/html": "<div>\n<style scoped>\n    .dataframe tbody tr th:only-of-type {\n        vertical-align: middle;\n    }\n\n    .dataframe tbody tr th {\n        vertical-align: top;\n    }\n\n    .dataframe thead th {\n        text-align: right;\n    }\n</style>\n<table border=\"1\" class=\"dataframe\">\n  <thead>\n    <tr style=\"text-align: right;\">\n      <th></th>\n      <th>example_name</th>\n      <th>time_taken</th>\n      <th>search_models_created</th>\n      <th>serialised_actions_taken</th>\n      <th>serialised_state</th>\n    </tr>\n  </thead>\n  <tbody>\n    <tr>\n      <th>0</th>\n      <td>Rover/p01.hddl</td>\n      <td>0.488068</td>\n      <td>2571</td>\n      <td>serialised_objects\\Rover_p01hddl_Breadth_First...</td>\n      <td>serialised_objects\\Rover_p01hddl_Breadth_First...</td>\n    </tr>\n    <tr>\n      <th>1</th>\n      <td>Rover/p01.hddl</td>\n      <td>0.459792</td>\n      <td>5142</td>\n      <td>serialised_objects\\Rover_p01hddl_Breadth_First...</td>\n      <td>serialised_objects\\Rover_p01hddl_Breadth_First...</td>\n    </tr>\n    <tr>\n      <th>2</th>\n      <td>Rover/p01.hddl</td>\n      <td>0.476161</td>\n      <td>7713</td>\n      <td>serialised_objects\\Rover_p01hddl_Breadth_First...</td>\n      <td>serialised_objects\\Rover_p01hddl_Breadth_First...</td>\n    </tr>\n    <tr>\n      <th>3</th>\n      <td>Rover/p01.hddl</td>\n      <td>0.535679</td>\n      <td>10284</td>\n      <td>serialised_objects\\Rover_p01hddl_Breadth_First...</td>\n      <td>serialised_objects\\Rover_p01hddl_Breadth_First...</td>\n    </tr>\n    <tr>\n      <th>4</th>\n      <td>Rover/p01.hddl</td>\n      <td>0.478144</td>\n      <td>12855</td>\n      <td>serialised_objects\\Rover_p01hddl_Breadth_First...</td>\n      <td>serialised_objects\\Rover_p01hddl_Breadth_First...</td>\n    </tr>\n    <tr>\n      <th>5</th>\n      <td>Rover/p02.hddl</td>\n      <td>1.139312</td>\n      <td>17516</td>\n      <td>serialised_objects\\Rover_p02hddl_Breadth_First...</td>\n      <td>serialised_objects\\Rover_p02hddl_Breadth_First...</td>\n    </tr>\n    <tr>\n      <th>6</th>\n      <td>Rover/p02.hddl</td>\n      <td>1.140304</td>\n      <td>22177</td>\n      <td>serialised_objects\\Rover_p02hddl_Breadth_First...</td>\n      <td>serialised_objects\\Rover_p02hddl_Breadth_First...</td>\n    </tr>\n    <tr>\n      <th>7</th>\n      <td>Rover/p02.hddl</td>\n      <td>1.149728</td>\n      <td>26838</td>\n      <td>serialised_objects\\Rover_p02hddl_Breadth_First...</td>\n      <td>serialised_objects\\Rover_p02hddl_Breadth_First...</td>\n    </tr>\n    <tr>\n      <th>8</th>\n      <td>Rover/p02.hddl</td>\n      <td>1.152705</td>\n      <td>31499</td>\n      <td>serialised_objects\\Rover_p02hddl_Breadth_First...</td>\n      <td>serialised_objects\\Rover_p02hddl_Breadth_First...</td>\n    </tr>\n    <tr>\n      <th>9</th>\n      <td>Rover/p02.hddl</td>\n      <td>1.087232</td>\n      <td>36160</td>\n      <td>serialised_objects\\Rover_p02hddl_Breadth_First...</td>\n      <td>serialised_objects\\Rover_p02hddl_Breadth_First...</td>\n    </tr>\n    <tr>\n      <th>10</th>\n      <td>Rover/p03.hddl</td>\n      <td>1.050033</td>\n      <td>40486</td>\n      <td>serialised_objects\\Rover_p03hddl_Breadth_First...</td>\n      <td>serialised_objects\\Rover_p03hddl_Breadth_First...</td>\n    </tr>\n    <tr>\n      <th>11</th>\n      <td>Rover/p03.hddl</td>\n      <td>1.117490</td>\n      <td>44812</td>\n      <td>serialised_objects\\Rover_p03hddl_Breadth_First...</td>\n      <td>serialised_objects\\Rover_p03hddl_Breadth_First...</td>\n    </tr>\n    <tr>\n      <th>12</th>\n      <td>Rover/p03.hddl</td>\n      <td>1.227105</td>\n      <td>49138</td>\n      <td>serialised_objects\\Rover_p03hddl_Breadth_First...</td>\n      <td>serialised_objects\\Rover_p03hddl_Breadth_First...</td>\n    </tr>\n    <tr>\n      <th>13</th>\n      <td>Rover/p03.hddl</td>\n      <td>1.158656</td>\n      <td>53464</td>\n      <td>serialised_objects\\Rover_p03hddl_Breadth_First...</td>\n      <td>serialised_objects\\Rover_p03hddl_Breadth_First...</td>\n    </tr>\n    <tr>\n      <th>14</th>\n      <td>Rover/p03.hddl</td>\n      <td>1.125424</td>\n      <td>57790</td>\n      <td>serialised_objects\\Rover_p03hddl_Breadth_First...</td>\n      <td>serialised_objects\\Rover_p03hddl_Breadth_First...</td>\n    </tr>\n  </tbody>\n</table>\n</div>"
     },
     "execution_count": 11,
     "metadata": {},
     "output_type": "execute_result"
    }
   ],
   "source": [
    "\"\"\"Load data from breadth first\"\"\"\n",
    "breadth_first_early_precon_check_data_path = os.path.join(os.getcwd(), \"Archive\", \"Rover\", \"Breadth_First_Operations.csv\")\n",
    "breadth_first_early_precon_check = pd.read_csv(breadth_first_early_precon_check_data_path, sep=\",\")\n",
    "\n",
    "breadth_first_early_precon_check_av_time = average_time()\n",
    "for example_name in breadth_first_early_precon_check.example_name.unique():\n",
    "\n",
    "    breadth_first_early_precon_check_av_time.calculate_average_time(example_name, breadth_first_early_precon_check[breadth_first_early_precon_check['example_name'] == example_name]['time_taken'])\n",
    "\n",
    "    breadth_first_early_precon_check_av_time.calculate_average_model(example_name, breadth_first_early_precon_check[breadth_first_early_precon_check['example_name'] == example_name]['search_models_created'])\n",
    "\n",
    "breadth_first_early_precon_check"
   ],
   "metadata": {
    "collapsed": false,
    "pycharm": {
     "name": "#%%\n"
    }
   }
  },
  {
   "cell_type": "code",
   "execution_count": 12,
   "outputs": [
    {
     "name": "stdout",
     "output_type": "stream",
     "text": [
      "[[1.3091751098632813, 4.108552312850952, 3.2313569068908694], [0.48756880760192867, 1.1338560104370117, 1.1357414245605468]]\n"
     ]
    },
    {
     "data": {
      "text/plain": "<Figure size 1296x576 with 1 Axes>",
      "image/png": "[encoded data removed]"
     },
     "metadata": {
      "needs_background": "light"
     },
     "output_type": "display_data"
    }
   ],
   "source": [
    "\"\"\"Create Graph\"\"\"\n",
    "generate_graph([\"Rover/p01.hddl\", \"Rover/p02.hddl\", \"Rover/p03.hddl\"], [\"Breadth First (No Early Precondition Checking)\", \"Breadth First\"], [\"darkblue\", \"yellow\"], [\n",
    "[breadth_first_no_early_precon_check_av_time[\"Rover/p01.hddl\"],\n",
    " breadth_first_no_early_precon_check_av_time[\"Rover/p02.hddl\"],\n",
    " breadth_first_no_early_precon_check_av_time[\"Rover/p03.hddl\"]],\n",
    "[breadth_first_early_precon_check_av_time[\"Rover/p01.hddl\"],\n",
    " breadth_first_early_precon_check_av_time[\"Rover/p02.hddl\"],\n",
    " breadth_first_early_precon_check_av_time[\"Rover/p03.hddl\"]]\n",
    "])"
   ],
   "metadata": {
    "collapsed": false,
    "pycharm": {
     "name": "#%%\n"
    }
   }
  },
  {
   "cell_type": "code",
   "execution_count": 95,
   "outputs": [
    {
     "name": "stdout",
     "output_type": "stream",
     "text": [
      "Rover p01 Statistically Significant Test\n",
      "All data is normally distributed\n",
      "Shapiro p-values: [0.8590036630630493, 0.227720245718956]\n",
      "Non-Normal Check (False denoted non-normal): [False, False]\n",
      "Significant Difference found (T-Test). P-value: 1.7475635920671124e-05\n"
     ]
    }
   ],
   "source": [
    "# Get test times for rover p01\n",
    "no_precon_check = breadth_first_no_early_precon_check[breadth_first_no_early_precon_check['example_name'] == \"Rover/p01.hddl\"]['time_taken']\n",
    "precon_check = breadth_first_early_precon_check[breadth_first_early_precon_check['example_name'] == \"Rover/p01.hddl\"]['time_taken']\n",
    "\n",
    "print(\"Rover p01 Statistically Significant Test\")\n",
    "significant_difference_check([\"Breadth First (No Early Precondition Checking)\", \"Breadth First\"], no_precon_check, precon_check)"
   ],
   "metadata": {
    "collapsed": false,
    "pycharm": {
     "name": "#%%\n"
    }
   }
  },
  {
   "cell_type": "code",
   "execution_count": 96,
   "outputs": [
    {
     "name": "stdout",
     "output_type": "stream",
     "text": [
      "Rover p02 Statistically Significant Test\n",
      "NOT FOLLOWING NORMAL DISTRIBUTION\n",
      "Shapiro p-values: [0.7188873291015625, 0.0254975613206625]\n",
      "Non-Normal Check (False denotes non-normal): [False, True]\n",
      "Significant Difference found (Kruskal-Wallis). P-value: 0.009023438818080334\n",
      "                                                Breadth First  \\\n",
      "Breadth First                                        1.000000   \n",
      "Breadth First (No Early Precondition Checking)       0.009023   \n",
      "\n",
      "                                                Breadth First (No Early Precondition Checking)  \n",
      "Breadth First                                                                         0.009023  \n",
      "Breadth First (No Early Precondition Checking)                                        1.000000  \n",
      "Significant Difference: Breadth First, Breadth First (No Early Precondition Checking) = 0.009023438818080326\n"
     ]
    }
   ],
   "source": [
    "# Get test times for rover p03\n",
    "no_precon_check = breadth_first_no_early_precon_check[breadth_first_no_early_precon_check['example_name'] == \"Rover/p02.hddl\"]['time_taken']\n",
    "precon_check = breadth_first_early_precon_check[breadth_first_early_precon_check['example_name'] == \"Rover/p02.hddl\"]['time_taken']\n",
    "\n",
    "print(\"Rover p02 Statistically Significant Test\")\n",
    "significant_difference_check([\"Breadth First (No Early Precondition Checking)\", \"Breadth First\"], no_precon_check, precon_check)"
   ],
   "metadata": {
    "collapsed": false,
    "pycharm": {
     "name": "#%%\n"
    }
   }
  },
  {
   "cell_type": "code",
   "execution_count": 97,
   "outputs": [
    {
     "name": "stdout",
     "output_type": "stream",
     "text": [
      "Rover p03 Statistically Significant Test\n",
      "All data is normally distributed\n",
      "Shapiro p-values: [0.75553297996521, 0.9225325584411621]\n",
      "Non-Normal Check (False denoted non-normal): [False, False]\n",
      "Significant Difference found (T-Test). P-value: 4.280671712827204e-05\n"
     ]
    }
   ],
   "source": [
    "# Get test times for rover p03\n",
    "no_precon_check = breadth_first_no_early_precon_check[breadth_first_no_early_precon_check['example_name'] == \"Rover/p03.hddl\"]['time_taken']\n",
    "precon_check = breadth_first_early_precon_check[breadth_first_early_precon_check['example_name'] == \"Rover/p03.hddl\"]['time_taken']\n",
    "\n",
    "print(\"Rover p03 Statistically Significant Test\")\n",
    "significant_difference_check([\"Breadth First (No Early Precondition Checking)\", \"Breadth First\"], no_precon_check, precon_check)"
   ],
   "metadata": {
    "collapsed": false,
    "pycharm": {
     "name": "#%%\n"
    }
   }
  },
  {
   "cell_type": "markdown",
   "source": [
    "## Rover p0 -> p3 breadth first with and without data pruning. Predicate distance to goal p0 -> p3 also"
   ],
   "metadata": {
    "collapsed": false,
    "pycharm": {
     "name": "#%% md\n"
    }
   }
  },
  {
   "cell_type": "code",
   "execution_count": 14,
   "outputs": [
    {
     "data": {
      "text/plain": "      example_name  time_taken  search_models_created  \\\n0   Rover/p01.hddl    0.488068                   2571   \n1   Rover/p01.hddl    0.459792                   5142   \n2   Rover/p01.hddl    0.476161                   7713   \n3   Rover/p01.hddl    0.535679                  10284   \n4   Rover/p01.hddl    0.478144                  12855   \n5   Rover/p02.hddl    1.139312                  17516   \n6   Rover/p02.hddl    1.140304                  22177   \n7   Rover/p02.hddl    1.149728                  26838   \n8   Rover/p02.hddl    1.152705                  31499   \n9   Rover/p02.hddl    1.087232                  36160   \n10  Rover/p03.hddl    1.050033                  40486   \n11  Rover/p03.hddl    1.117490                  44812   \n12  Rover/p03.hddl    1.227105                  49138   \n13  Rover/p03.hddl    1.158656                  53464   \n14  Rover/p03.hddl    1.125424                  57790   \n\n                             serialised_actions_taken  \\\n0   serialised_objects\\Rover_p01hddl_Breadth_First...   \n1   serialised_objects\\Rover_p01hddl_Breadth_First...   \n2   serialised_objects\\Rover_p01hddl_Breadth_First...   \n3   serialised_objects\\Rover_p01hddl_Breadth_First...   \n4   serialised_objects\\Rover_p01hddl_Breadth_First...   \n5   serialised_objects\\Rover_p02hddl_Breadth_First...   \n6   serialised_objects\\Rover_p02hddl_Breadth_First...   \n7   serialised_objects\\Rover_p02hddl_Breadth_First...   \n8   serialised_objects\\Rover_p02hddl_Breadth_First...   \n9   serialised_objects\\Rover_p02hddl_Breadth_First...   \n10  serialised_objects\\Rover_p03hddl_Breadth_First...   \n11  serialised_objects\\Rover_p03hddl_Breadth_First...   \n12  serialised_objects\\Rover_p03hddl_Breadth_First...   \n13  serialised_objects\\Rover_p03hddl_Breadth_First...   \n14  serialised_objects\\Rover_p03hddl_Breadth_First...   \n\n                                     serialised_state  \n0   serialised_objects\\Rover_p01hddl_Breadth_First...  \n1   serialised_objects\\Rover_p01hddl_Breadth_First...  \n2   serialised_objects\\Rover_p01hddl_Breadth_First...  \n3   serialised_objects\\Rover_p01hddl_Breadth_First...  \n4   serialised_objects\\Rover_p01hddl_Breadth_First...  \n5   serialised_objects\\Rover_p02hddl_Breadth_First...  \n6   serialised_objects\\Rover_p02hddl_Breadth_First...  \n7   serialised_objects\\Rover_p02hddl_Breadth_First...  \n8   serialised_objects\\Rover_p02hddl_Breadth_First...  \n9   serialised_objects\\Rover_p02hddl_Breadth_First...  \n10  serialised_objects\\Rover_p03hddl_Breadth_First...  \n11  serialised_objects\\Rover_p03hddl_Breadth_First...  \n12  serialised_objects\\Rover_p03hddl_Breadth_First...  \n13  serialised_objects\\Rover_p03hddl_Breadth_First...  \n14  serialised_objects\\Rover_p03hddl_Breadth_First...  ",
      "text/html": "<div>\n<style scoped>\n    .dataframe tbody tr th:only-of-type {\n        vertical-align: middle;\n    }\n\n    .dataframe tbody tr th {\n        vertical-align: top;\n    }\n\n    .dataframe thead th {\n        text-align: right;\n    }\n</style>\n<table border=\"1\" class=\"dataframe\">\n  <thead>\n    <tr style=\"text-align: right;\">\n      <th></th>\n      <th>example_name</th>\n      <th>time_taken</th>\n      <th>search_models_created</th>\n      <th>serialised_actions_taken</th>\n      <th>serialised_state</th>\n    </tr>\n  </thead>\n  <tbody>\n    <tr>\n      <th>0</th>\n      <td>Rover/p01.hddl</td>\n      <td>0.488068</td>\n      <td>2571</td>\n      <td>serialised_objects\\Rover_p01hddl_Breadth_First...</td>\n      <td>serialised_objects\\Rover_p01hddl_Breadth_First...</td>\n    </tr>\n    <tr>\n      <th>1</th>\n      <td>Rover/p01.hddl</td>\n      <td>0.459792</td>\n      <td>5142</td>\n      <td>serialised_objects\\Rover_p01hddl_Breadth_First...</td>\n      <td>serialised_objects\\Rover_p01hddl_Breadth_First...</td>\n    </tr>\n    <tr>\n      <th>2</th>\n      <td>Rover/p01.hddl</td>\n      <td>0.476161</td>\n      <td>7713</td>\n      <td>serialised_objects\\Rover_p01hddl_Breadth_First...</td>\n      <td>serialised_objects\\Rover_p01hddl_Breadth_First...</td>\n    </tr>\n    <tr>\n      <th>3</th>\n      <td>Rover/p01.hddl</td>\n      <td>0.535679</td>\n      <td>10284</td>\n      <td>serialised_objects\\Rover_p01hddl_Breadth_First...</td>\n      <td>serialised_objects\\Rover_p01hddl_Breadth_First...</td>\n    </tr>\n    <tr>\n      <th>4</th>\n      <td>Rover/p01.hddl</td>\n      <td>0.478144</td>\n      <td>12855</td>\n      <td>serialised_objects\\Rover_p01hddl_Breadth_First...</td>\n      <td>serialised_objects\\Rover_p01hddl_Breadth_First...</td>\n    </tr>\n    <tr>\n      <th>5</th>\n      <td>Rover/p02.hddl</td>\n      <td>1.139312</td>\n      <td>17516</td>\n      <td>serialised_objects\\Rover_p02hddl_Breadth_First...</td>\n      <td>serialised_objects\\Rover_p02hddl_Breadth_First...</td>\n    </tr>\n    <tr>\n      <th>6</th>\n      <td>Rover/p02.hddl</td>\n      <td>1.140304</td>\n      <td>22177</td>\n      <td>serialised_objects\\Rover_p02hddl_Breadth_First...</td>\n      <td>serialised_objects\\Rover_p02hddl_Breadth_First...</td>\n    </tr>\n    <tr>\n      <th>7</th>\n      <td>Rover/p02.hddl</td>\n      <td>1.149728</td>\n      <td>26838</td>\n      <td>serialised_objects\\Rover_p02hddl_Breadth_First...</td>\n      <td>serialised_objects\\Rover_p02hddl_Breadth_First...</td>\n    </tr>\n    <tr>\n      <th>8</th>\n      <td>Rover/p02.hddl</td>\n      <td>1.152705</td>\n      <td>31499</td>\n      <td>serialised_objects\\Rover_p02hddl_Breadth_First...</td>\n      <td>serialised_objects\\Rover_p02hddl_Breadth_First...</td>\n    </tr>\n    <tr>\n      <th>9</th>\n      <td>Rover/p02.hddl</td>\n      <td>1.087232</td>\n      <td>36160</td>\n      <td>serialised_objects\\Rover_p02hddl_Breadth_First...</td>\n      <td>serialised_objects\\Rover_p02hddl_Breadth_First...</td>\n    </tr>\n    <tr>\n      <th>10</th>\n      <td>Rover/p03.hddl</td>\n      <td>1.050033</td>\n      <td>40486</td>\n      <td>serialised_objects\\Rover_p03hddl_Breadth_First...</td>\n      <td>serialised_objects\\Rover_p03hddl_Breadth_First...</td>\n    </tr>\n    <tr>\n      <th>11</th>\n      <td>Rover/p03.hddl</td>\n      <td>1.117490</td>\n      <td>44812</td>\n      <td>serialised_objects\\Rover_p03hddl_Breadth_First...</td>\n      <td>serialised_objects\\Rover_p03hddl_Breadth_First...</td>\n    </tr>\n    <tr>\n      <th>12</th>\n      <td>Rover/p03.hddl</td>\n      <td>1.227105</td>\n      <td>49138</td>\n      <td>serialised_objects\\Rover_p03hddl_Breadth_First...</td>\n      <td>serialised_objects\\Rover_p03hddl_Breadth_First...</td>\n    </tr>\n    <tr>\n      <th>13</th>\n      <td>Rover/p03.hddl</td>\n      <td>1.158656</td>\n      <td>53464</td>\n      <td>serialised_objects\\Rover_p03hddl_Breadth_First...</td>\n      <td>serialised_objects\\Rover_p03hddl_Breadth_First...</td>\n    </tr>\n    <tr>\n      <th>14</th>\n      <td>Rover/p03.hddl</td>\n      <td>1.125424</td>\n      <td>57790</td>\n      <td>serialised_objects\\Rover_p03hddl_Breadth_First...</td>\n      <td>serialised_objects\\Rover_p03hddl_Breadth_First...</td>\n    </tr>\n  </tbody>\n</table>\n</div>"
     },
     "execution_count": 14,
     "metadata": {},
     "output_type": "execute_result"
    }
   ],
   "source": [
    "breadth_first_early_precon_check"
   ],
   "metadata": {
    "collapsed": false,
    "pycharm": {
     "name": "#%%\n"
    }
   }
  },
  {
   "cell_type": "code",
   "execution_count": 15,
   "outputs": [
    {
     "data": {
      "text/plain": "      example_name  time_taken  search_models_created  \\\n0   Rover/p01.hddl    0.084318                  58297   \n1   Rover/p01.hddl    0.069440                  58804   \n2   Rover/p01.hddl    0.076384                  59311   \n3   Rover/p01.hddl    0.073408                  59818   \n4   Rover/p01.hddl    0.094240                  60325   \n5   Rover/p02.hddl    0.093249                  61142   \n6   Rover/p02.hddl    0.097216                  61959   \n7   Rover/p02.hddl    0.107632                  62776   \n8   Rover/p02.hddl    0.098208                  63593   \n9   Rover/p02.hddl    0.092751                  64410   \n10  Rover/p03.hddl    0.149297                  65308   \n11  Rover/p03.hddl    0.173600                  66206   \n12  Rover/p03.hddl    0.152272                  67104   \n13  Rover/p03.hddl    0.127472                  68002   \n14  Rover/p03.hddl    0.116064                  68900   \n\n                             serialised_actions_taken  \\\n0   serialised_objects\\Rover_p01hddl_Breadth_First...   \n1   serialised_objects\\Rover_p01hddl_Breadth_First...   \n2   serialised_objects\\Rover_p01hddl_Breadth_First...   \n3   serialised_objects\\Rover_p01hddl_Breadth_First...   \n4   serialised_objects\\Rover_p01hddl_Breadth_First...   \n5   serialised_objects\\Rover_p02hddl_Breadth_First...   \n6   serialised_objects\\Rover_p02hddl_Breadth_First...   \n7   serialised_objects\\Rover_p02hddl_Breadth_First...   \n8   serialised_objects\\Rover_p02hddl_Breadth_First...   \n9   serialised_objects\\Rover_p02hddl_Breadth_First...   \n10  serialised_objects\\Rover_p03hddl_Breadth_First...   \n11  serialised_objects\\Rover_p03hddl_Breadth_First...   \n12  serialised_objects\\Rover_p03hddl_Breadth_First...   \n13  serialised_objects\\Rover_p03hddl_Breadth_First...   \n14  serialised_objects\\Rover_p03hddl_Breadth_First...   \n\n                                     serialised_state  \n0   serialised_objects\\Rover_p01hddl_Breadth_First...  \n1   serialised_objects\\Rover_p01hddl_Breadth_First...  \n2   serialised_objects\\Rover_p01hddl_Breadth_First...  \n3   serialised_objects\\Rover_p01hddl_Breadth_First...  \n4   serialised_objects\\Rover_p01hddl_Breadth_First...  \n5   serialised_objects\\Rover_p02hddl_Breadth_First...  \n6   serialised_objects\\Rover_p02hddl_Breadth_First...  \n7   serialised_objects\\Rover_p02hddl_Breadth_First...  \n8   serialised_objects\\Rover_p02hddl_Breadth_First...  \n9   serialised_objects\\Rover_p02hddl_Breadth_First...  \n10  serialised_objects\\Rover_p03hddl_Breadth_First...  \n11  serialised_objects\\Rover_p03hddl_Breadth_First...  \n12  serialised_objects\\Rover_p03hddl_Breadth_First...  \n13  serialised_objects\\Rover_p03hddl_Breadth_First...  \n14  serialised_objects\\Rover_p03hddl_Breadth_First...  ",
      "text/html": "<div>\n<style scoped>\n    .dataframe tbody tr th:only-of-type {\n        vertical-align: middle;\n    }\n\n    .dataframe tbody tr th {\n        vertical-align: top;\n    }\n\n    .dataframe thead th {\n        text-align: right;\n    }\n</style>\n<table border=\"1\" class=\"dataframe\">\n  <thead>\n    <tr style=\"text-align: right;\">\n      <th></th>\n      <th>example_name</th>\n      <th>time_taken</th>\n      <th>search_models_created</th>\n      <th>serialised_actions_taken</th>\n      <th>serialised_state</th>\n    </tr>\n  </thead>\n  <tbody>\n    <tr>\n      <th>0</th>\n      <td>Rover/p01.hddl</td>\n      <td>0.084318</td>\n      <td>58297</td>\n      <td>serialised_objects\\Rover_p01hddl_Breadth_First...</td>\n      <td>serialised_objects\\Rover_p01hddl_Breadth_First...</td>\n    </tr>\n    <tr>\n      <th>1</th>\n      <td>Rover/p01.hddl</td>\n      <td>0.069440</td>\n      <td>58804</td>\n      <td>serialised_objects\\Rover_p01hddl_Breadth_First...</td>\n      <td>serialised_objects\\Rover_p01hddl_Breadth_First...</td>\n    </tr>\n    <tr>\n      <th>2</th>\n      <td>Rover/p01.hddl</td>\n      <td>0.076384</td>\n      <td>59311</td>\n      <td>serialised_objects\\Rover_p01hddl_Breadth_First...</td>\n      <td>serialised_objects\\Rover_p01hddl_Breadth_First...</td>\n    </tr>\n    <tr>\n      <th>3</th>\n      <td>Rover/p01.hddl</td>\n      <td>0.073408</td>\n      <td>59818</td>\n      <td>serialised_objects\\Rover_p01hddl_Breadth_First...</td>\n      <td>serialised_objects\\Rover_p01hddl_Breadth_First...</td>\n    </tr>\n    <tr>\n      <th>4</th>\n      <td>Rover/p01.hddl</td>\n      <td>0.094240</td>\n      <td>60325</td>\n      <td>serialised_objects\\Rover_p01hddl_Breadth_First...</td>\n      <td>serialised_objects\\Rover_p01hddl_Breadth_First...</td>\n    </tr>\n    <tr>\n      <th>5</th>\n      <td>Rover/p02.hddl</td>\n      <td>0.093249</td>\n      <td>61142</td>\n      <td>serialised_objects\\Rover_p02hddl_Breadth_First...</td>\n      <td>serialised_objects\\Rover_p02hddl_Breadth_First...</td>\n    </tr>\n    <tr>\n      <th>6</th>\n      <td>Rover/p02.hddl</td>\n      <td>0.097216</td>\n      <td>61959</td>\n      <td>serialised_objects\\Rover_p02hddl_Breadth_First...</td>\n      <td>serialised_objects\\Rover_p02hddl_Breadth_First...</td>\n    </tr>\n    <tr>\n      <th>7</th>\n      <td>Rover/p02.hddl</td>\n      <td>0.107632</td>\n      <td>62776</td>\n      <td>serialised_objects\\Rover_p02hddl_Breadth_First...</td>\n      <td>serialised_objects\\Rover_p02hddl_Breadth_First...</td>\n    </tr>\n    <tr>\n      <th>8</th>\n      <td>Rover/p02.hddl</td>\n      <td>0.098208</td>\n      <td>63593</td>\n      <td>serialised_objects\\Rover_p02hddl_Breadth_First...</td>\n      <td>serialised_objects\\Rover_p02hddl_Breadth_First...</td>\n    </tr>\n    <tr>\n      <th>9</th>\n      <td>Rover/p02.hddl</td>\n      <td>0.092751</td>\n      <td>64410</td>\n      <td>serialised_objects\\Rover_p02hddl_Breadth_First...</td>\n      <td>serialised_objects\\Rover_p02hddl_Breadth_First...</td>\n    </tr>\n    <tr>\n      <th>10</th>\n      <td>Rover/p03.hddl</td>\n      <td>0.149297</td>\n      <td>65308</td>\n      <td>serialised_objects\\Rover_p03hddl_Breadth_First...</td>\n      <td>serialised_objects\\Rover_p03hddl_Breadth_First...</td>\n    </tr>\n    <tr>\n      <th>11</th>\n      <td>Rover/p03.hddl</td>\n      <td>0.173600</td>\n      <td>66206</td>\n      <td>serialised_objects\\Rover_p03hddl_Breadth_First...</td>\n      <td>serialised_objects\\Rover_p03hddl_Breadth_First...</td>\n    </tr>\n    <tr>\n      <th>12</th>\n      <td>Rover/p03.hddl</td>\n      <td>0.152272</td>\n      <td>67104</td>\n      <td>serialised_objects\\Rover_p03hddl_Breadth_First...</td>\n      <td>serialised_objects\\Rover_p03hddl_Breadth_First...</td>\n    </tr>\n    <tr>\n      <th>13</th>\n      <td>Rover/p03.hddl</td>\n      <td>0.127472</td>\n      <td>68002</td>\n      <td>serialised_objects\\Rover_p03hddl_Breadth_First...</td>\n      <td>serialised_objects\\Rover_p03hddl_Breadth_First...</td>\n    </tr>\n    <tr>\n      <th>14</th>\n      <td>Rover/p03.hddl</td>\n      <td>0.116064</td>\n      <td>68900</td>\n      <td>serialised_objects\\Rover_p03hddl_Breadth_First...</td>\n      <td>serialised_objects\\Rover_p03hddl_Breadth_First...</td>\n    </tr>\n  </tbody>\n</table>\n</div>"
     },
     "execution_count": 15,
     "metadata": {},
     "output_type": "execute_result"
    }
   ],
   "source": [
    "\"\"\"Load data from breadth first\"\"\"\n",
    "breadth_first_pruning_data_path = os.path.join(os.getcwd(), \"Archive\", \"Rover\", \"Breadth_First_Operations_Pruning.csv\")\n",
    "breadth_first_pruning = pd.read_csv(breadth_first_pruning_data_path, sep=\",\")\n",
    "\n",
    "breadth_first_pruning_av_time = average_time()\n",
    "for example_name in breadth_first_pruning.example_name.unique():\n",
    "    breadth_first_pruning_av_time.calculate_average_time(example_name, breadth_first_pruning[breadth_first_pruning['example_name'] == example_name]['time_taken'])\n",
    "\n",
    "    breadth_first_pruning_av_time.calculate_average_model(example_name, breadth_first_pruning[breadth_first_pruning['example_name'] == example_name]['search_models_created'])\n",
    "\n",
    "breadth_first_pruning"
   ],
   "metadata": {
    "collapsed": false,
    "pycharm": {
     "name": "#%%\n"
    }
   }
  },
  {
   "cell_type": "code",
   "execution_count": 16,
   "outputs": [
    {
     "data": {
      "text/plain": "      example_name  time_taken  search_models_created  \\\n0   Rover/p01.hddl    0.033232                 420636   \n1   Rover/p01.hddl    0.032240                 420852   \n2   Rover/p01.hddl    0.044640                 421068   \n3   Rover/p01.hddl    0.035216                 421284   \n4   Rover/p01.hddl    0.038688                 421500   \n5   Rover/p02.hddl    0.077872                 421913   \n6   Rover/p02.hddl    0.092752                 422326   \n7   Rover/p02.hddl    0.080352                 422739   \n8   Rover/p02.hddl    0.082832                 423152   \n9   Rover/p02.hddl    0.070431                 423565   \n10  Rover/p03.hddl    0.070928                 423930   \n11  Rover/p03.hddl    0.069440                 424295   \n12  Rover/p03.hddl    0.069440                 424660   \n13  Rover/p03.hddl    0.083824                 425025   \n14  Rover/p03.hddl    0.081342                 425390   \n15  Rover/p04.hddl    3.408513                 432307   \n16  Rover/p04.hddl    3.197712                 439224   \n17  Rover/p04.hddl    3.444224                 446141   \n18  Rover/p04.hddl    3.180352                 453058   \n19  Rover/p04.hddl    3.346513                 459975   \n20  Rover/p05.hddl    9.508320                 470027   \n21  Rover/p05.hddl    9.680929                 480079   \n22  Rover/p05.hddl    9.943809                 490131   \n23  Rover/p05.hddl    9.386305                 500183   \n24  Rover/p05.hddl    9.501377                 510235   \n25  Rover/p06.hddl   13.856257                 522630   \n26  Rover/p06.hddl   14.362176                 535025   \n27  Rover/p06.hddl   13.788306                 547420   \n28  Rover/p06.hddl   13.941570                 559815   \n29  Rover/p06.hddl   13.936609                 572210   \n30  Rover/p07.hddl   47.013861                 597060   \n31  Rover/p07.hddl   47.626420                 621910   \n32  Rover/p07.hddl   49.020677                 646760   \n33  Rover/p07.hddl   49.697221                 671610   \n34  Rover/p07.hddl   48.659588                 696460   \n\n                             serialised_actions_taken  \\\n0   serialised_objects\\Rover_p01hddl_Hamming_Dista...   \n1   serialised_objects\\Rover_p01hddl_Hamming_Dista...   \n2   serialised_objects\\Rover_p01hddl_Hamming_Dista...   \n3   serialised_objects\\Rover_p01hddl_Hamming_Dista...   \n4   serialised_objects\\Rover_p01hddl_Hamming_Dista...   \n5   serialised_objects\\Rover_p02hddl_Hamming_Dista...   \n6   serialised_objects\\Rover_p02hddl_Hamming_Dista...   \n7   serialised_objects\\Rover_p02hddl_Hamming_Dista...   \n8   serialised_objects\\Rover_p02hddl_Hamming_Dista...   \n9   serialised_objects\\Rover_p02hddl_Hamming_Dista...   \n10  serialised_objects\\Rover_p03hddl_Hamming_Dista...   \n11  serialised_objects\\Rover_p03hddl_Hamming_Dista...   \n12  serialised_objects\\Rover_p03hddl_Hamming_Dista...   \n13  serialised_objects\\Rover_p03hddl_Hamming_Dista...   \n14  serialised_objects\\Rover_p03hddl_Hamming_Dista...   \n15  serialised_objects\\Rover_p04hddl_Hamming_Dista...   \n16  serialised_objects\\Rover_p04hddl_Hamming_Dista...   \n17  serialised_objects\\Rover_p04hddl_Hamming_Dista...   \n18  serialised_objects\\Rover_p04hddl_Hamming_Dista...   \n19  serialised_objects\\Rover_p04hddl_Hamming_Dista...   \n20  serialised_objects\\Rover_p05hddl_Hamming_Dista...   \n21  serialised_objects\\Rover_p05hddl_Hamming_Dista...   \n22  serialised_objects\\Rover_p05hddl_Hamming_Dista...   \n23  serialised_objects\\Rover_p05hddl_Hamming_Dista...   \n24  serialised_objects\\Rover_p05hddl_Hamming_Dista...   \n25  serialised_objects\\Rover_p06hddl_Hamming_Dista...   \n26  serialised_objects\\Rover_p06hddl_Hamming_Dista...   \n27  serialised_objects\\Rover_p06hddl_Hamming_Dista...   \n28  serialised_objects\\Rover_p06hddl_Hamming_Dista...   \n29  serialised_objects\\Rover_p06hddl_Hamming_Dista...   \n30  serialised_objects\\Rover_p07hddl_Hamming_Dista...   \n31  serialised_objects\\Rover_p07hddl_Hamming_Dista...   \n32  serialised_objects\\Rover_p07hddl_Hamming_Dista...   \n33  serialised_objects\\Rover_p07hddl_Hamming_Dista...   \n34  serialised_objects\\Rover_p07hddl_Hamming_Dista...   \n\n                                     serialised_state  \n0   serialised_objects\\Rover_p01hddl_Hamming_Dista...  \n1   serialised_objects\\Rover_p01hddl_Hamming_Dista...  \n2   serialised_objects\\Rover_p01hddl_Hamming_Dista...  \n3   serialised_objects\\Rover_p01hddl_Hamming_Dista...  \n4   serialised_objects\\Rover_p01hddl_Hamming_Dista...  \n5   serialised_objects\\Rover_p02hddl_Hamming_Dista...  \n6   serialised_objects\\Rover_p02hddl_Hamming_Dista...  \n7   serialised_objects\\Rover_p02hddl_Hamming_Dista...  \n8   serialised_objects\\Rover_p02hddl_Hamming_Dista...  \n9   serialised_objects\\Rover_p02hddl_Hamming_Dista...  \n10  serialised_objects\\Rover_p03hddl_Hamming_Dista...  \n11  serialised_objects\\Rover_p03hddl_Hamming_Dista...  \n12  serialised_objects\\Rover_p03hddl_Hamming_Dista...  \n13  serialised_objects\\Rover_p03hddl_Hamming_Dista...  \n14  serialised_objects\\Rover_p03hddl_Hamming_Dista...  \n15  serialised_objects\\Rover_p04hddl_Hamming_Dista...  \n16  serialised_objects\\Rover_p04hddl_Hamming_Dista...  \n17  serialised_objects\\Rover_p04hddl_Hamming_Dista...  \n18  serialised_objects\\Rover_p04hddl_Hamming_Dista...  \n19  serialised_objects\\Rover_p04hddl_Hamming_Dista...  \n20  serialised_objects\\Rover_p05hddl_Hamming_Dista...  \n21  serialised_objects\\Rover_p05hddl_Hamming_Dista...  \n22  serialised_objects\\Rover_p05hddl_Hamming_Dista...  \n23  serialised_objects\\Rover_p05hddl_Hamming_Dista...  \n24  serialised_objects\\Rover_p05hddl_Hamming_Dista...  \n25  serialised_objects\\Rover_p06hddl_Hamming_Dista...  \n26  serialised_objects\\Rover_p06hddl_Hamming_Dista...  \n27  serialised_objects\\Rover_p06hddl_Hamming_Dista...  \n28  serialised_objects\\Rover_p06hddl_Hamming_Dista...  \n29  serialised_objects\\Rover_p06hddl_Hamming_Dista...  \n30  serialised_objects\\Rover_p07hddl_Hamming_Dista...  \n31  serialised_objects\\Rover_p07hddl_Hamming_Dista...  \n32  serialised_objects\\Rover_p07hddl_Hamming_Dista...  \n33  serialised_objects\\Rover_p07hddl_Hamming_Dista...  \n34  serialised_objects\\Rover_p07hddl_Hamming_Dista...  ",
      "text/html": "<div>\n<style scoped>\n    .dataframe tbody tr th:only-of-type {\n        vertical-align: middle;\n    }\n\n    .dataframe tbody tr th {\n        vertical-align: top;\n    }\n\n    .dataframe thead th {\n        text-align: right;\n    }\n</style>\n<table border=\"1\" class=\"dataframe\">\n  <thead>\n    <tr style=\"text-align: right;\">\n      <th></th>\n      <th>example_name</th>\n      <th>time_taken</th>\n      <th>search_models_created</th>\n      <th>serialised_actions_taken</th>\n      <th>serialised_state</th>\n    </tr>\n  </thead>\n  <tbody>\n    <tr>\n      <th>0</th>\n      <td>Rover/p01.hddl</td>\n      <td>0.033232</td>\n      <td>420636</td>\n      <td>serialised_objects\\Rover_p01hddl_Hamming_Dista...</td>\n      <td>serialised_objects\\Rover_p01hddl_Hamming_Dista...</td>\n    </tr>\n    <tr>\n      <th>1</th>\n      <td>Rover/p01.hddl</td>\n      <td>0.032240</td>\n      <td>420852</td>\n      <td>serialised_objects\\Rover_p01hddl_Hamming_Dista...</td>\n      <td>serialised_objects\\Rover_p01hddl_Hamming_Dista...</td>\n    </tr>\n    <tr>\n      <th>2</th>\n      <td>Rover/p01.hddl</td>\n      <td>0.044640</td>\n      <td>421068</td>\n      <td>serialised_objects\\Rover_p01hddl_Hamming_Dista...</td>\n      <td>serialised_objects\\Rover_p01hddl_Hamming_Dista...</td>\n    </tr>\n    <tr>\n      <th>3</th>\n      <td>Rover/p01.hddl</td>\n      <td>0.035216</td>\n      <td>421284</td>\n      <td>serialised_objects\\Rover_p01hddl_Hamming_Dista...</td>\n      <td>serialised_objects\\Rover_p01hddl_Hamming_Dista...</td>\n    </tr>\n    <tr>\n      <th>4</th>\n      <td>Rover/p01.hddl</td>\n      <td>0.038688</td>\n      <td>421500</td>\n      <td>serialised_objects\\Rover_p01hddl_Hamming_Dista...</td>\n      <td>serialised_objects\\Rover_p01hddl_Hamming_Dista...</td>\n    </tr>\n    <tr>\n      <th>5</th>\n      <td>Rover/p02.hddl</td>\n      <td>0.077872</td>\n      <td>421913</td>\n      <td>serialised_objects\\Rover_p02hddl_Hamming_Dista...</td>\n      <td>serialised_objects\\Rover_p02hddl_Hamming_Dista...</td>\n    </tr>\n    <tr>\n      <th>6</th>\n      <td>Rover/p02.hddl</td>\n      <td>0.092752</td>\n      <td>422326</td>\n      <td>serialised_objects\\Rover_p02hddl_Hamming_Dista...</td>\n      <td>serialised_objects\\Rover_p02hddl_Hamming_Dista...</td>\n    </tr>\n    <tr>\n      <th>7</th>\n      <td>Rover/p02.hddl</td>\n      <td>0.080352</td>\n      <td>422739</td>\n      <td>serialised_objects\\Rover_p02hddl_Hamming_Dista...</td>\n      <td>serialised_objects\\Rover_p02hddl_Hamming_Dista...</td>\n    </tr>\n    <tr>\n      <th>8</th>\n      <td>Rover/p02.hddl</td>\n      <td>0.082832</td>\n      <td>423152</td>\n      <td>serialised_objects\\Rover_p02hddl_Hamming_Dista...</td>\n      <td>serialised_objects\\Rover_p02hddl_Hamming_Dista...</td>\n    </tr>\n    <tr>\n      <th>9</th>\n      <td>Rover/p02.hddl</td>\n      <td>0.070431</td>\n      <td>423565</td>\n      <td>serialised_objects\\Rover_p02hddl_Hamming_Dista...</td>\n      <td>serialised_objects\\Rover_p02hddl_Hamming_Dista...</td>\n    </tr>\n    <tr>\n      <th>10</th>\n      <td>Rover/p03.hddl</td>\n      <td>0.070928</td>\n      <td>423930</td>\n      <td>serialised_objects\\Rover_p03hddl_Hamming_Dista...</td>\n      <td>serialised_objects\\Rover_p03hddl_Hamming_Dista...</td>\n    </tr>\n    <tr>\n      <th>11</th>\n      <td>Rover/p03.hddl</td>\n      <td>0.069440</td>\n      <td>424295</td>\n      <td>serialised_objects\\Rover_p03hddl_Hamming_Dista...</td>\n      <td>serialised_objects\\Rover_p03hddl_Hamming_Dista...</td>\n    </tr>\n    <tr>\n      <th>12</th>\n      <td>Rover/p03.hddl</td>\n      <td>0.069440</td>\n      <td>424660</td>\n      <td>serialised_objects\\Rover_p03hddl_Hamming_Dista...</td>\n      <td>serialised_objects\\Rover_p03hddl_Hamming_Dista...</td>\n    </tr>\n    <tr>\n      <th>13</th>\n      <td>Rover/p03.hddl</td>\n      <td>0.083824</td>\n      <td>425025</td>\n      <td>serialised_objects\\Rover_p03hddl_Hamming_Dista...</td>\n      <td>serialised_objects\\Rover_p03hddl_Hamming_Dista...</td>\n    </tr>\n    <tr>\n      <th>14</th>\n      <td>Rover/p03.hddl</td>\n      <td>0.081342</td>\n      <td>425390</td>\n      <td>serialised_objects\\Rover_p03hddl_Hamming_Dista...</td>\n      <td>serialised_objects\\Rover_p03hddl_Hamming_Dista...</td>\n    </tr>\n    <tr>\n      <th>15</th>\n      <td>Rover/p04.hddl</td>\n      <td>3.408513</td>\n      <td>432307</td>\n      <td>serialised_objects\\Rover_p04hddl_Hamming_Dista...</td>\n      <td>serialised_objects\\Rover_p04hddl_Hamming_Dista...</td>\n    </tr>\n    <tr>\n      <th>16</th>\n      <td>Rover/p04.hddl</td>\n      <td>3.197712</td>\n      <td>439224</td>\n      <td>serialised_objects\\Rover_p04hddl_Hamming_Dista...</td>\n      <td>serialised_objects\\Rover_p04hddl_Hamming_Dista...</td>\n    </tr>\n    <tr>\n      <th>17</th>\n      <td>Rover/p04.hddl</td>\n      <td>3.444224</td>\n      <td>446141</td>\n      <td>serialised_objects\\Rover_p04hddl_Hamming_Dista...</td>\n      <td>serialised_objects\\Rover_p04hddl_Hamming_Dista...</td>\n    </tr>\n    <tr>\n      <th>18</th>\n      <td>Rover/p04.hddl</td>\n      <td>3.180352</td>\n      <td>453058</td>\n      <td>serialised_objects\\Rover_p04hddl_Hamming_Dista...</td>\n      <td>serialised_objects\\Rover_p04hddl_Hamming_Dista...</td>\n    </tr>\n    <tr>\n      <th>19</th>\n      <td>Rover/p04.hddl</td>\n      <td>3.346513</td>\n      <td>459975</td>\n      <td>serialised_objects\\Rover_p04hddl_Hamming_Dista...</td>\n      <td>serialised_objects\\Rover_p04hddl_Hamming_Dista...</td>\n    </tr>\n    <tr>\n      <th>20</th>\n      <td>Rover/p05.hddl</td>\n      <td>9.508320</td>\n      <td>470027</td>\n      <td>serialised_objects\\Rover_p05hddl_Hamming_Dista...</td>\n      <td>serialised_objects\\Rover_p05hddl_Hamming_Dista...</td>\n    </tr>\n    <tr>\n      <th>21</th>\n      <td>Rover/p05.hddl</td>\n      <td>9.680929</td>\n      <td>480079</td>\n      <td>serialised_objects\\Rover_p05hddl_Hamming_Dista...</td>\n      <td>serialised_objects\\Rover_p05hddl_Hamming_Dista...</td>\n    </tr>\n    <tr>\n      <th>22</th>\n      <td>Rover/p05.hddl</td>\n      <td>9.943809</td>\n      <td>490131</td>\n      <td>serialised_objects\\Rover_p05hddl_Hamming_Dista...</td>\n      <td>serialised_objects\\Rover_p05hddl_Hamming_Dista...</td>\n    </tr>\n    <tr>\n      <th>23</th>\n      <td>Rover/p05.hddl</td>\n      <td>9.386305</td>\n      <td>500183</td>\n      <td>serialised_objects\\Rover_p05hddl_Hamming_Dista...</td>\n      <td>serialised_objects\\Rover_p05hddl_Hamming_Dista...</td>\n    </tr>\n    <tr>\n      <th>24</th>\n      <td>Rover/p05.hddl</td>\n      <td>9.501377</td>\n      <td>510235</td>\n      <td>serialised_objects\\Rover_p05hddl_Hamming_Dista...</td>\n      <td>serialised_objects\\Rover_p05hddl_Hamming_Dista...</td>\n    </tr>\n    <tr>\n      <th>25</th>\n      <td>Rover/p06.hddl</td>\n      <td>13.856257</td>\n      <td>522630</td>\n      <td>serialised_objects\\Rover_p06hddl_Hamming_Dista...</td>\n      <td>serialised_objects\\Rover_p06hddl_Hamming_Dista...</td>\n    </tr>\n    <tr>\n      <th>26</th>\n      <td>Rover/p06.hddl</td>\n      <td>14.362176</td>\n      <td>535025</td>\n      <td>serialised_objects\\Rover_p06hddl_Hamming_Dista...</td>\n      <td>serialised_objects\\Rover_p06hddl_Hamming_Dista...</td>\n    </tr>\n    <tr>\n      <th>27</th>\n      <td>Rover/p06.hddl</td>\n      <td>13.788306</td>\n      <td>547420</td>\n      <td>serialised_objects\\Rover_p06hddl_Hamming_Dista...</td>\n      <td>serialised_objects\\Rover_p06hddl_Hamming_Dista...</td>\n    </tr>\n    <tr>\n      <th>28</th>\n      <td>Rover/p06.hddl</td>\n      <td>13.941570</td>\n      <td>559815</td>\n      <td>serialised_objects\\Rover_p06hddl_Hamming_Dista...</td>\n      <td>serialised_objects\\Rover_p06hddl_Hamming_Dista...</td>\n    </tr>\n    <tr>\n      <th>29</th>\n      <td>Rover/p06.hddl</td>\n      <td>13.936609</td>\n      <td>572210</td>\n      <td>serialised_objects\\Rover_p06hddl_Hamming_Dista...</td>\n      <td>serialised_objects\\Rover_p06hddl_Hamming_Dista...</td>\n    </tr>\n    <tr>\n      <th>30</th>\n      <td>Rover/p07.hddl</td>\n      <td>47.013861</td>\n      <td>597060</td>\n      <td>serialised_objects\\Rover_p07hddl_Hamming_Dista...</td>\n      <td>serialised_objects\\Rover_p07hddl_Hamming_Dista...</td>\n    </tr>\n    <tr>\n      <th>31</th>\n      <td>Rover/p07.hddl</td>\n      <td>47.626420</td>\n      <td>621910</td>\n      <td>serialised_objects\\Rover_p07hddl_Hamming_Dista...</td>\n      <td>serialised_objects\\Rover_p07hddl_Hamming_Dista...</td>\n    </tr>\n    <tr>\n      <th>32</th>\n      <td>Rover/p07.hddl</td>\n      <td>49.020677</td>\n      <td>646760</td>\n      <td>serialised_objects\\Rover_p07hddl_Hamming_Dista...</td>\n      <td>serialised_objects\\Rover_p07hddl_Hamming_Dista...</td>\n    </tr>\n    <tr>\n      <th>33</th>\n      <td>Rover/p07.hddl</td>\n      <td>49.697221</td>\n      <td>671610</td>\n      <td>serialised_objects\\Rover_p07hddl_Hamming_Dista...</td>\n      <td>serialised_objects\\Rover_p07hddl_Hamming_Dista...</td>\n    </tr>\n    <tr>\n      <th>34</th>\n      <td>Rover/p07.hddl</td>\n      <td>48.659588</td>\n      <td>696460</td>\n      <td>serialised_objects\\Rover_p07hddl_Hamming_Dista...</td>\n      <td>serialised_objects\\Rover_p07hddl_Hamming_Dista...</td>\n    </tr>\n  </tbody>\n</table>\n</div>"
     },
     "execution_count": 16,
     "metadata": {},
     "output_type": "execute_result"
    }
   ],
   "source": [
    "\"\"\"Load data from Hamming Distance to goal\"\"\"\n",
    "predicate_distance_to_goal_data_path = os.path.join(os.getcwd(), \"Archive\", \"Rover\", \"Hamming_Distance.csv\")\n",
    "predicate_distance_to_goal = pd.read_csv(predicate_distance_to_goal_data_path, sep=\",\")\n",
    "\n",
    "predicate_distance_to_goal_av_time = average_time()\n",
    "for example_name in predicate_distance_to_goal.example_name.unique():\n",
    "    predicate_distance_to_goal_av_time.calculate_average_time(example_name, predicate_distance_to_goal[predicate_distance_to_goal['example_name'] == example_name]['time_taken'])\n",
    "\n",
    "    predicate_distance_to_goal_av_time.calculate_average_model(example_name, predicate_distance_to_goal[predicate_distance_to_goal['example_name'] == example_name]['search_models_created'])\n",
    "\n",
    "predicate_distance_to_goal"
   ],
   "metadata": {
    "collapsed": false,
    "pycharm": {
     "name": "#%%\n"
    }
   }
  },
  {
   "cell_type": "code",
   "execution_count": 17,
   "outputs": [
    {
     "name": "stdout",
     "output_type": "stream",
     "text": [
      "[[0.48756880760192867, 1.1338560104370117, 1.1357414245605468], [0.07955794334411614, 0.09781112670898434, 0.14374079704284665], [0.03680338859558098, 0.08084764480590814, 0.07499489784240716]]\n"
     ]
    },
    {
     "data": {
      "text/plain": "<Figure size 1296x576 with 1 Axes>",
      "image/png": "[encoded data removed]"
     },
     "metadata": {
      "needs_background": "light"
     },
     "output_type": "display_data"
    }
   ],
   "source": [
    "\"\"\"Create Graph\"\"\"\n",
    "generate_graph([\"Rover/p01.hddl\", \"Rover/p02.hddl\", \"Rover/p03.hddl\"], [\"Breadth First (No Pruning)\", \"Breadth First\", \"Predicate Distance To Goal Heuristic\"], [\"red\", \"purple\", \"aqua\"],\n",
    "[\n",
    "    [breadth_first_early_precon_check_av_time[\"Rover/p01.hddl\"],\n",
    "     breadth_first_early_precon_check_av_time[\"Rover/p02.hddl\"],\n",
    "     breadth_first_early_precon_check_av_time[\"Rover/p03.hddl\"]],\n",
    "    [breadth_first_pruning_av_time[\"Rover/p01.hddl\"],\n",
    "     breadth_first_pruning_av_time[\"Rover/p02.hddl\"],\n",
    "     breadth_first_pruning_av_time[\"Rover/p03.hddl\"]],\n",
    "    [predicate_distance_to_goal_av_time[\"Rover/p01.hddl\"],\n",
    "     predicate_distance_to_goal_av_time[\"Rover/p02.hddl\"],\n",
    "     predicate_distance_to_goal_av_time[\"Rover/p03.hddl\"]]\n",
    "])"
   ],
   "metadata": {
    "collapsed": false,
    "pycharm": {
     "name": "#%%\n"
    }
   }
  },
  {
   "cell_type": "code",
   "execution_count": 98,
   "outputs": [
    {
     "name": "stdout",
     "output_type": "stream",
     "text": [
      "Rover p01 Statistically Significant Test\n",
      "All data is normally distributed\n",
      "Shapiro p-values: [0.6705324053764343, 0.227720245718956, 0.43245628476142883]\n",
      "Non-Normal Check (False denoted non-normal): [False, False, False]\n",
      "Significant Difference found (One-Way ANOVA). P-value: 5.1116459739395806e-14\n",
      "                            Breadth First  Breadth First (No Pruning)  \\\n",
      "Breadth First                      1.0000                    0.077100   \n",
      "Breadth First (No Pruning)         0.0771                    1.000000   \n",
      "Hamming Distance                   0.0771                    0.001221   \n",
      "\n",
      "                            Hamming Distance  \n",
      "Breadth First                       0.077100  \n",
      "Breadth First (No Pruning)          0.001221  \n",
      "Hamming Distance                    1.000000  \n",
      "No Significant Difference: Breadth First, Breadth First (No Pruning) = 0.07709987174354177\n",
      "No Significant Difference: Breadth First, Hamming Distance = 0.07709987174354177\n",
      "Significant Difference: Breadth First (No Pruning), Hamming Distance = 0.0012208560523348766\n"
     ]
    }
   ],
   "source": [
    "# Get test times for rover p01\n",
    "BF_pruning = breadth_first_pruning[breadth_first_pruning['example_name'] == \"Rover/p01.hddl\"]['time_taken']\n",
    "precon_check = breadth_first_early_precon_check[breadth_first_early_precon_check['example_name'] == \"Rover/p01.hddl\"]['time_taken']\n",
    "hamming_distance = predicate_distance_to_goal[predicate_distance_to_goal['example_name'] == \"Rover/p01.hddl\"]['time_taken']\n",
    "\n",
    "print(\"Rover p01 Statistically Significant Test\")\n",
    "significant_difference_check([\"Breadth First\", \"Breadth First (No Pruning)\", \"Hamming Distance\"], BF_pruning, precon_check, hamming_distance)"
   ],
   "metadata": {
    "collapsed": false,
    "pycharm": {
     "name": "#%%\n"
    }
   }
  },
  {
   "cell_type": "code",
   "execution_count": 99,
   "outputs": [
    {
     "name": "stdout",
     "output_type": "stream",
     "text": [
      "Rover p02 Statistically Significant Test\n",
      "NOT FOLLOWING NORMAL DISTRIBUTION\n",
      "Shapiro p-values: [0.21895089745521545, 0.0254975613206625, 0.914512574672699]\n",
      "Non-Normal Check (False denotes non-normal): [False, True, False]\n",
      "Significant Difference found (Kruskal-Wallis). P-value: 0.002454088180413905\n",
      "                            Breadth First  Breadth First (No Pruning)  \\\n",
      "Breadth First                    1.000000                    0.103876   \n",
      "Breadth First (No Pruning)       0.103876                    1.000000   \n",
      "Hamming Distance                 0.103876                    0.001592   \n",
      "\n",
      "                            Hamming Distance  \n",
      "Breadth First                       0.103876  \n",
      "Breadth First (No Pruning)          0.001592  \n",
      "Hamming Distance                    1.000000  \n",
      "No Significant Difference: Breadth First, Breadth First (No Pruning) = 0.103876157063085\n",
      "No Significant Difference: Breadth First, Hamming Distance = 0.103876157063085\n",
      "Significant Difference: Breadth First (No Pruning), Hamming Distance = 0.0015917403367531615\n"
     ]
    }
   ],
   "source": [
    "# Get test times for rover p02\n",
    "BF_pruning = breadth_first_pruning[breadth_first_pruning['example_name'] == \"Rover/p02.hddl\"]['time_taken']\n",
    "precon_check = breadth_first_early_precon_check[breadth_first_early_precon_check['example_name'] == \"Rover/p02.hddl\"]['time_taken']\n",
    "hamming_distance = predicate_distance_to_goal[predicate_distance_to_goal['example_name'] == \"Rover/p02.hddl\"]['time_taken']\n",
    "\n",
    "print(\"Rover p02 Statistically Significant Test\")\n",
    "significant_difference_check([\"Breadth First\", \"Breadth First (No Pruning)\", \"Hamming Distance\"], BF_pruning, precon_check, hamming_distance)"
   ],
   "metadata": {
    "collapsed": false,
    "pycharm": {
     "name": "#%%\n"
    }
   }
  },
  {
   "cell_type": "code",
   "execution_count": 100,
   "outputs": [
    {
     "name": "stdout",
     "output_type": "stream",
     "text": [
      "Rover p03 Statistically Significant Test\n",
      "All data is normally distributed\n",
      "Shapiro p-values: [0.8455531597137451, 0.9225325584411621, 0.06282442063093185]\n",
      "Non-Normal Check (False denoted non-normal): [False, False, False]\n",
      "Significant Difference found (One-Way ANOVA). P-value: 2.2932043040004674e-14\n",
      "                            Breadth First  Breadth First (No Pruning)  \\\n",
      "Breadth First                      1.0000                    0.077100   \n",
      "Breadth First (No Pruning)         0.0771                    1.000000   \n",
      "Hamming Distance                   0.0771                    0.001221   \n",
      "\n",
      "                            Hamming Distance  \n",
      "Breadth First                       0.077100  \n",
      "Breadth First (No Pruning)          0.001221  \n",
      "Hamming Distance                    1.000000  \n",
      "No Significant Difference: Breadth First, Breadth First (No Pruning) = 0.07709987174354177\n",
      "No Significant Difference: Breadth First, Hamming Distance = 0.07709987174354177\n",
      "Significant Difference: Breadth First (No Pruning), Hamming Distance = 0.0012208560523348766\n"
     ]
    }
   ],
   "source": [
    "# Get test times for rover p03\n",
    "BF_pruning = breadth_first_pruning[breadth_first_pruning['example_name'] == \"Rover/p03.hddl\"]['time_taken']\n",
    "precon_check = breadth_first_early_precon_check[breadth_first_early_precon_check['example_name'] == \"Rover/p03.hddl\"]['time_taken']\n",
    "hamming_distance = predicate_distance_to_goal[predicate_distance_to_goal['example_name'] == \"Rover/p03.hddl\"]['time_taken']\n",
    "\n",
    "print(\"Rover p03 Statistically Significant Test\")\n",
    "significant_difference_check([\"Breadth First\", \"Breadth First (No Pruning)\", \"Hamming Distance\"], BF_pruning, precon_check, hamming_distance)"
   ],
   "metadata": {
    "collapsed": false,
    "pycharm": {
     "name": "#%%\n"
    }
   }
  },
  {
   "cell_type": "markdown",
   "source": [
    "## Rover p04 pruning and predicate_distance\n",
    "For this test, the breadth first non-pruning search strategy was run for 2 hours and was not able to produce a result"
   ],
   "metadata": {
    "collapsed": false,
    "pycharm": {
     "name": "#%% md\n"
    }
   }
  },
  {
   "cell_type": "code",
   "execution_count": 101,
   "outputs": [
    {
     "ename": "KeyError",
     "evalue": "'Rover/p04.hddl'",
     "output_type": "error",
     "traceback": [
      "\u001B[1;31m---------------------------------------------------------------------------\u001B[0m",
      "\u001B[1;31mKeyError\u001B[0m                                  Traceback (most recent call last)",
      "\u001B[1;32m<ipython-input-101-e639456fb23d>\u001B[0m in \u001B[0;36m<module>\u001B[1;34m\u001B[0m\n\u001B[0;32m      6\u001B[0m                     \u001B[0mbreadth_first_pruning_av_time\u001B[0m\u001B[1;33m[\u001B[0m\u001B[1;34m\"Rover/p02.hddl\"\u001B[0m\u001B[1;33m]\u001B[0m\u001B[1;33m,\u001B[0m\u001B[1;33m\u001B[0m\u001B[1;33m\u001B[0m\u001B[0m\n\u001B[0;32m      7\u001B[0m                     \u001B[0mbreadth_first_pruning_av_time\u001B[0m\u001B[1;33m[\u001B[0m\u001B[1;34m\"Rover/p03.hddl\"\u001B[0m\u001B[1;33m]\u001B[0m\u001B[1;33m,\u001B[0m\u001B[1;33m\u001B[0m\u001B[1;33m\u001B[0m\u001B[0m\n\u001B[1;32m----> 8\u001B[1;33m                     breadth_first_pruning_av_time[\"Rover/p04.hddl\"]],\n\u001B[0m\u001B[0;32m      9\u001B[0m                    [predicate_distance_to_goal_av_time[\"Rover/p01.hddl\"],\n\u001B[0;32m     10\u001B[0m                     \u001B[0mpredicate_distance_to_goal_av_time\u001B[0m\u001B[1;33m[\u001B[0m\u001B[1;34m\"Rover/p02.hddl\"\u001B[0m\u001B[1;33m]\u001B[0m\u001B[1;33m,\u001B[0m\u001B[1;33m\u001B[0m\u001B[1;33m\u001B[0m\u001B[0m\n",
      "\u001B[1;32m<ipython-input-7-cdddeb3b498d>\u001B[0m in \u001B[0;36m__getitem__\u001B[1;34m(self, item)\u001B[0m\n\u001B[0;32m     14\u001B[0m \u001B[1;33m\u001B[0m\u001B[0m\n\u001B[0;32m     15\u001B[0m     \u001B[1;32mdef\u001B[0m \u001B[0m__getitem__\u001B[0m\u001B[1;33m(\u001B[0m\u001B[0mself\u001B[0m\u001B[1;33m,\u001B[0m \u001B[0mitem\u001B[0m\u001B[1;33m)\u001B[0m\u001B[1;33m:\u001B[0m\u001B[1;33m\u001B[0m\u001B[1;33m\u001B[0m\u001B[0m\n\u001B[1;32m---> 16\u001B[1;33m         \u001B[1;32mreturn\u001B[0m \u001B[0mself\u001B[0m\u001B[1;33m.\u001B[0m\u001B[0mtimes\u001B[0m\u001B[1;33m[\u001B[0m\u001B[0mitem\u001B[0m\u001B[1;33m]\u001B[0m\u001B[1;33m\u001B[0m\u001B[1;33m\u001B[0m\u001B[0m\n\u001B[0m",
      "\u001B[1;31mKeyError\u001B[0m: 'Rover/p04.hddl'"
     ]
    }
   ],
   "source": [
    "\"\"\"Create Graph\"\"\"\n",
    "generate_graph([\"Rover/p01.hddl\", \"Rover/p02.hddl\", \"Rover/p03.hddl\", \"Rover/p04.hddl\", \"Rover/p05.hddl\",\n",
    "                \"Rover/p06.hddl\", \"Rover/p07.hddl\"],\n",
    "               [\"Predicate Distance To Goal Heuristic\"], [\"aqua\"],\n",
    "               [\n",
    "                   [predicate_distance_to_goal_av_time[\"Rover/p01.hddl\"],\n",
    "                    predicate_distance_to_goal_av_time[\"Rover/p02.hddl\"],\n",
    "                    predicate_distance_to_goal_av_time[\"Rover/p03.hddl\"],\n",
    "                    predicate_distance_to_goal_av_time[\"Rover/p04.hddl\"],\n",
    "                    predicate_distance_to_goal_av_time[\"Rover/p05.hddl\"],\n",
    "                    predicate_distance_to_goal_av_time[\"Rover/p06.hddl\"],\n",
    "                    predicate_distance_to_goal_av_time[\"Rover/p07.hddl\"]]\n",
    "               ])"
   ],
   "metadata": {
    "collapsed": false,
    "pycharm": {
     "name": "#%%\n"
    }
   }
  },
  {
   "cell_type": "code",
   "execution_count": 102,
   "outputs": [
    {
     "data": {
      "text/plain": "'Stats Tests'"
     },
     "execution_count": 102,
     "metadata": {},
     "output_type": "execute_result"
    }
   ],
   "source": [
    "\"\"\"Stats Tests\"\"\""
   ],
   "metadata": {
    "collapsed": false,
    "pycharm": {
     "name": "#%%\n"
    }
   }
  },
  {
   "cell_type": "markdown",
   "source": [
    "# Graph number of models created during search"
   ],
   "metadata": {
    "collapsed": false,
    "pycharm": {
     "name": "#%% md\n"
    }
   }
  },
  {
   "cell_type": "markdown",
   "source": [
    "## Rover p0 -> p3. Breadth first, breadth first with pruning, predicate distance to goal"
   ],
   "metadata": {
    "collapsed": false,
    "pycharm": {
     "name": "#%% md\n"
    }
   }
  },
  {
   "cell_type": "code",
   "execution_count": null,
   "outputs": [],
   "source": [
    "\"\"\"Create Graph\"\"\"\n",
    "generate_graph([\"Rover/p01.hddl\", \"Rover/p02.hddl\", \"Rover/p03.hddl\"], [\"Breadth First (No Pruning)\", \"Breadth First\", \"Predicate Distance To Goal Heuristic\"], [\"red\", \"purple\", \"aqua\"],\n",
    "               [\n",
    "                   [breadth_first_early_precon_check_av_time.get_num_models(\"Rover/p01.hddl\"),\n",
    "                    breadth_first_early_precon_check_av_time.get_num_models(\"Rover/p02.hddl\"),\n",
    "                    breadth_first_early_precon_check_av_time.get_num_models(\"Rover/p03.hddl\")],\n",
    "                   [breadth_first_pruning_av_time.get_num_models(\"Rover/p01.hddl\"),\n",
    "                    breadth_first_pruning_av_time.get_num_models(\"Rover/p02.hddl\"),\n",
    "                    breadth_first_pruning_av_time.get_num_models(\"Rover/p03.hddl\")],\n",
    "                   [predicate_distance_to_goal_av_time.get_num_models(\"Rover/p01.hddl\"),\n",
    "                    predicate_distance_to_goal_av_time.get_num_models(\"Rover/p02.hddl\"),\n",
    "                    predicate_distance_to_goal_av_time.get_num_models(\"Rover/p03.hddl\")]\n",
    "               ], \"Amount of Models Created During Search\", \"Number of Models\")"
   ],
   "metadata": {
    "collapsed": false,
    "pycharm": {
     "name": "#%%\n"
    }
   }
  },
  {
   "cell_type": "markdown",
   "source": [
    "# Area for checking serialised files"
   ],
   "metadata": {
    "collapsed": false,
    "pycharm": {
     "name": "#%% md\n"
    }
   }
  },
  {
   "cell_type": "code",
   "execution_count": null,
   "outputs": [],
   "source": [
    "file_name = predicate_distance_to_goal.iloc[0]['serialised_actions_taken']\n",
    "actions_taken = load_pickled_ob(file_name)\n",
    "display_actions_taken(actions_taken)"
   ],
   "metadata": {
    "collapsed": false,
    "pycharm": {
     "name": "#%%\n"
    }
   }
  },
  {
   "cell_type": "code",
   "execution_count": null,
   "outputs": [],
   "source": [
    "file_name = predicate_distance_to_goal.iloc[0]['serialised_state']\n",
    "final_state = load_pickled_ob(file_name)\n",
    "display_final_state(final_state)"
   ],
   "metadata": {
    "collapsed": false,
    "pycharm": {
     "name": "#%%\n"
    }
   }
  }
 ],
 "metadata": {
  "kernelspec": {
   "display_name": "Python 3",
   "language": "python",
   "name": "python3"
  },
  "language_info": {
   "codemirror_mode": {
    "name": "ipython",
    "version": 2
   },
   "file_extension": ".py",
   "mimetype": "text/x-python",
   "name": "python",
   "nbconvert_exporter": "python",
   "pygments_lexer": "ipython2",
   "version": "2.7.6"
  }
 },
 "nbformat": 4,
 "nbformat_minor": 0
}